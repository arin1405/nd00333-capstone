{
 "cells": [
  {
   "cell_type": "markdown",
   "metadata": {},
   "source": [
    "# Automated ML\n",
    "\n",
    "TODO: Import Dependencies. In the cell below, import all the dependencies that you will need to complete the project."
   ]
  },
  {
   "cell_type": "code",
   "execution_count": 1,
   "metadata": {
    "gather": {
     "logged": 1598423888013
    },
    "jupyter": {
     "outputs_hidden": false,
     "source_hidden": false
    },
    "nteract": {
     "transient": {
      "deleting": false
     }
    }
   },
   "outputs": [],
   "source": [
    "from azureml.core import Workspace, Experiment, Dataset\n",
    "from azureml.core.compute import ComputeTarget, AmlCompute\n",
    "from azureml.core.compute_target import ComputeTargetException\n",
    "from azureml.train.automl.utilities import get_primary_metrics\n",
    "from azureml.train.automl import AutoMLConfig\n",
    "from azureml.pipeline.steps import AutoMLStep\n",
    "from azureml.widgets import RunDetails \n",
    "from azureml.core.environment import Environment\n",
    "from azureml.core.model import InferenceConfig, Model\n",
    "from azureml.core.webservice.aci import AciWebservice\n",
    "from azureml.core.webservice import Webservice\n",
    "import os\n",
    "import joblib"
   ]
  },
  {
   "cell_type": "markdown",
   "metadata": {},
   "source": [
    "## Dataset\n",
    "\n",
    "### Overview\n",
    "TODO: In this markdown cell, give an overview of the dataset you are using. Also mention the task you will be performing.\n",
    "\n",
    "\n",
    "TODO: Get data. In the cell below, write code to access the data you will be using in this project. Remember that the dataset needs to be external."
   ]
  },
  {
   "cell_type": "code",
   "execution_count": 2,
   "metadata": {},
   "outputs": [],
   "source": [
    "if not os.path.exists('results'):\n",
    "    os.makedirs('results')"
   ]
  },
  {
   "cell_type": "code",
   "execution_count": 3,
   "metadata": {
    "gather": {
     "logged": 1598423890461
    },
    "jupyter": {
     "outputs_hidden": false,
     "source_hidden": false
    },
    "nteract": {
     "transient": {
      "deleting": false
     }
    }
   },
   "outputs": [
    {
     "name": "stdout",
     "output_type": "stream",
     "text": [
      "Workspace name: quick-starts-ws-142685\n",
      "Azure region: southcentralus\n",
      "Subscription id: f5091c60-1c3c-430f-8d81-d802f6bf2414\n",
      "Resource group: aml-quickstarts-142685\n"
     ]
    }
   ],
   "source": [
    "ws = Workspace.from_config()\n",
    "\n",
    "# choose a name for experiment\n",
    "experiment_name = 'predict-breast-cancer-automl'\n",
    "\n",
    "# Check workspace details\n",
    "print('Workspace name: ' + ws.name, \n",
    "      'Azure region: ' + ws.location, \n",
    "      'Subscription id: ' + ws.subscription_id, \n",
    "      'Resource group: ' + ws.resource_group, sep = '\\n')\n",
    "\n",
    "experiment=Experiment(ws, experiment_name)"
   ]
  },
  {
   "cell_type": "code",
   "execution_count": 4,
   "metadata": {},
   "outputs": [
    {
     "name": "stdout",
     "output_type": "stream",
     "text": [
      "Cluster exists\n"
     ]
    }
   ],
   "source": [
    "# Check for existing cluster. Otherwise, create new cluster\n",
    "try:\n",
    "    cluster = ComputeTarget(workspace=ws, name=\"notebook142685\")\n",
    "    print(\"Cluster exists\")\n",
    "except:\n",
    "    config = AmlCompute.provisioning_configuration(vm_size='STANDARD_D2_V12', max_nodes=4)\n",
    "    cluster = ComputeTarget.create(ws, \"project-cluster\", config)\n",
    "\n",
    "cluster.wait_for_completion()"
   ]
  },
  {
   "cell_type": "code",
   "execution_count": 5,
   "metadata": {},
   "outputs": [
    {
     "data": {
      "text/html": [
       "<div>\n",
       "<style scoped>\n",
       "    .dataframe tbody tr th:only-of-type {\n",
       "        vertical-align: middle;\n",
       "    }\n",
       "\n",
       "    .dataframe tbody tr th {\n",
       "        vertical-align: top;\n",
       "    }\n",
       "\n",
       "    .dataframe thead th {\n",
       "        text-align: right;\n",
       "    }\n",
       "</style>\n",
       "<table border=\"1\" class=\"dataframe\">\n",
       "  <thead>\n",
       "    <tr style=\"text-align: right;\">\n",
       "      <th></th>\n",
       "      <th>mean_radius</th>\n",
       "      <th>mean_texture</th>\n",
       "      <th>mean_perimeter</th>\n",
       "      <th>mean_area</th>\n",
       "      <th>mean_smoothness</th>\n",
       "      <th>diagnosis</th>\n",
       "    </tr>\n",
       "  </thead>\n",
       "  <tbody>\n",
       "    <tr>\n",
       "      <th>0</th>\n",
       "      <td>17.99</td>\n",
       "      <td>10.38</td>\n",
       "      <td>122.80</td>\n",
       "      <td>1001.0</td>\n",
       "      <td>0.11840</td>\n",
       "      <td>0</td>\n",
       "    </tr>\n",
       "    <tr>\n",
       "      <th>1</th>\n",
       "      <td>20.57</td>\n",
       "      <td>17.77</td>\n",
       "      <td>132.90</td>\n",
       "      <td>1326.0</td>\n",
       "      <td>0.08474</td>\n",
       "      <td>0</td>\n",
       "    </tr>\n",
       "    <tr>\n",
       "      <th>2</th>\n",
       "      <td>19.69</td>\n",
       "      <td>21.25</td>\n",
       "      <td>130.00</td>\n",
       "      <td>1203.0</td>\n",
       "      <td>0.10960</td>\n",
       "      <td>0</td>\n",
       "    </tr>\n",
       "    <tr>\n",
       "      <th>3</th>\n",
       "      <td>11.42</td>\n",
       "      <td>20.38</td>\n",
       "      <td>77.58</td>\n",
       "      <td>386.1</td>\n",
       "      <td>0.14250</td>\n",
       "      <td>0</td>\n",
       "    </tr>\n",
       "    <tr>\n",
       "      <th>4</th>\n",
       "      <td>20.29</td>\n",
       "      <td>14.34</td>\n",
       "      <td>135.10</td>\n",
       "      <td>1297.0</td>\n",
       "      <td>0.10030</td>\n",
       "      <td>0</td>\n",
       "    </tr>\n",
       "  </tbody>\n",
       "</table>\n",
       "</div>"
      ],
      "text/plain": [
       "   mean_radius  mean_texture  mean_perimeter  mean_area  mean_smoothness  \\\n",
       "0        17.99         10.38          122.80     1001.0          0.11840   \n",
       "1        20.57         17.77          132.90     1326.0          0.08474   \n",
       "2        19.69         21.25          130.00     1203.0          0.10960   \n",
       "3        11.42         20.38           77.58      386.1          0.14250   \n",
       "4        20.29         14.34          135.10     1297.0          0.10030   \n",
       "\n",
       "   diagnosis  \n",
       "0          0  \n",
       "1          0  \n",
       "2          0  \n",
       "3          0  \n",
       "4          0  "
      ]
     },
     "execution_count": 5,
     "metadata": {},
     "output_type": "execute_result"
    }
   ],
   "source": [
    "train_data = Dataset.get_by_name(ws, name=\"breast_cancer_data\")\n",
    "train_data.take(5).to_pandas_dataframe()"
   ]
  },
  {
   "cell_type": "markdown",
   "metadata": {},
   "source": [
    "## AutoML Configuration\n",
    "\n",
    "TODO: Explain why you chose the automl settings and cofiguration you used below."
   ]
  },
  {
   "cell_type": "code",
   "execution_count": 6,
   "metadata": {
    "gather": {
     "logged": 1598429217746
    },
    "jupyter": {
     "outputs_hidden": false,
     "source_hidden": false
    },
    "nteract": {
     "transient": {
      "deleting": false
     }
    }
   },
   "outputs": [],
   "source": [
    "# TODO: Put your automl settings here\n",
    "automl_settings = {\n",
    "    \"experiment_timeout_minutes\": 30,\n",
    "    \"max_concurrent_iterations\": 5,\n",
    "    \"primary_metric\" : 'accuracy'\n",
    "}\n",
    "\n",
    "# TODO: Put your automl config here\n",
    "automl_config = AutoMLConfig(compute_target=cluster,\n",
    "                             task = \"classification\",\n",
    "                             training_data=train_data,\n",
    "                             label_column_name=\"diagnosis\",   \n",
    "                             enable_early_stopping= True,\n",
    "                             featurization= 'auto',\n",
    "                             blocked_models=['XGBoostClassifier'],\n",
    "                             debug_log = \"automl_errors.log\",\n",
    "                             **automl_settings\n",
    "                            )"
   ]
  },
  {
   "cell_type": "code",
   "execution_count": 7,
   "metadata": {
    "gather": {
     "logged": 1598431107951
    },
    "jupyter": {
     "outputs_hidden": false,
     "source_hidden": false
    },
    "nteract": {
     "transient": {
      "deleting": false
     }
    }
   },
   "outputs": [
    {
     "name": "stdout",
     "output_type": "stream",
     "text": [
      "Submitting remote run.\n",
      "No run_configuration provided, running on notebook142685 with default configuration\n",
      "Running on remote compute: notebook142685\n"
     ]
    },
    {
     "data": {
      "text/html": [
       "<table style=\"width:100%\"><tr><th>Experiment</th><th>Id</th><th>Type</th><th>Status</th><th>Details Page</th><th>Docs Page</th></tr><tr><td>predict-breast-cancer-automl</td><td>AutoML_7d0ce565-819d-4c55-a1b1-ab7176b64c1d</td><td>automl</td><td>NotStarted</td><td><a href=\"https://ml.azure.com/runs/AutoML_7d0ce565-819d-4c55-a1b1-ab7176b64c1d?wsid=/subscriptions/f5091c60-1c3c-430f-8d81-d802f6bf2414/resourcegroups/aml-quickstarts-142685/workspaces/quick-starts-ws-142685&amp;tid=660b3398-b80e-49d2-bc5b-ac1dc93b5254\" target=\"_blank\" rel=\"noopener\">Link to Azure Machine Learning studio</a></td><td><a href=\"https://docs.microsoft.com/en-us/python/api/overview/azure/ml/intro?view=azure-ml-py\" target=\"_blank\" rel=\"noopener\">Link to Documentation</a></td></tr></table>"
      ],
      "text/plain": [
       "<IPython.core.display.HTML object>"
      ]
     },
     "metadata": {},
     "output_type": "display_data"
    },
    {
     "name": "stdout",
     "output_type": "stream",
     "text": [
      "\n",
      "Current status: FeaturesGeneration. Generating features for the dataset.\n",
      "Current status: ModelSelection. Beginning model selection.\n",
      "\n",
      "****************************************************************************************************\n",
      "DATA GUARDRAILS: \n",
      "\n",
      "TYPE:         Cross validation\n",
      "STATUS:       DONE\n",
      "DESCRIPTION:  Each iteration of the trained model was validated through cross-validation.\n",
      "              \n",
      "DETAILS:      \n",
      "+---------------------------------+\n",
      "|Number of folds                  |\n",
      "+=================================+\n",
      "|10                               |\n",
      "+---------------------------------+\n",
      "\n",
      "****************************************************************************************************\n",
      "\n",
      "TYPE:         Class balancing detection\n",
      "STATUS:       PASSED\n",
      "DESCRIPTION:  Your inputs were analyzed, and all classes are balanced in your training data.\n",
      "              Learn more about imbalanced data: https://aka.ms/AutomatedMLImbalancedData\n",
      "\n",
      "****************************************************************************************************\n",
      "\n",
      "TYPE:         Missing feature values imputation\n",
      "STATUS:       PASSED\n",
      "DESCRIPTION:  No feature missing values were detected in the training data.\n",
      "              Learn more about missing value imputation: https://aka.ms/AutomatedMLFeaturization\n",
      "\n",
      "****************************************************************************************************\n",
      "\n",
      "TYPE:         High cardinality feature detection\n",
      "STATUS:       PASSED\n",
      "DESCRIPTION:  Your inputs were analyzed, and no high cardinality features were detected.\n",
      "              Learn more about high cardinality feature handling: https://aka.ms/AutomatedMLFeaturization\n",
      "\n",
      "****************************************************************************************************\n",
      "\n",
      "****************************************************************************************************\n",
      "ITERATION: The iteration being evaluated.\n",
      "PIPELINE: A summary description of the pipeline being evaluated.\n",
      "DURATION: Time taken for the current iteration.\n",
      "METRIC: The result of computing score on the fitted pipeline.\n",
      "BEST: The best observed score thus far.\n",
      "****************************************************************************************************\n",
      "\n",
      " ITERATION   PIPELINE                                       DURATION      METRIC      BEST\n",
      "         0   MaxAbsScaler LightGBM                          0:06:13       0.9244    0.9244\n",
      "         1   MinMaxScaler RandomForest                      0:06:09       0.9067    0.9244\n",
      "         2   MinMaxScaler RandomForest                      0:06:09       0.9120    0.9244\n",
      "         3   MinMaxScaler RandomForest                      0:06:07       0.9226    0.9244\n",
      "         4   MinMaxScaler RandomForest                      0:06:08       0.8927    0.9244\n",
      "         5   MinMaxScaler SVM                               0:05:57       0.9261    0.9261\n",
      "         6   StandardScalerWrapper GradientBoosting         0:05:56       0.8980    0.9261\n",
      "         7   StandardScalerWrapper SGD                      0:06:01       0.9173    0.9261\n",
      "         8   StandardScalerWrapper SGD                      0:05:55       0.9208    0.9261\n",
      "         9   RobustScaler SVM                               0:05:53       0.9209    0.9261\n",
      "        11   StandardScalerWrapper RandomForest             0:05:54       0.9226    0.9261\n",
      "        12   MaxAbsScaler LightGBM                          0:05:53       0.9120    0.9261\n",
      "        13   MinMaxScaler LightGBM                          0:05:55       0.9261    0.9261\n",
      "        10   MaxAbsScaler RandomForest                      0:06:05       0.9155    0.9261\n",
      "        14   StandardScalerWrapper RandomForest             0:06:05       0.9050    0.9261\n",
      "        15   MinMaxScaler LightGBM                          0:06:02       0.9103    0.9261\n",
      "        16   MinMaxScaler LogisticRegression                0:05:51       0.9190    0.9261\n",
      "        17   StandardScalerWrapper LightGBM                 0:05:55       0.9296    0.9296\n",
      "        18   MinMaxScaler LightGBM                          0:05:49       0.9314    0.9314\n",
      "        19   StandardScalerWrapper LightGBM                 0:05:48       0.9120    0.9314\n",
      "        20                                                  0:05:24          nan    0.9314\n",
      "ERROR: {\n",
      "    \"additional_properties\": {},\n",
      "    \"error\": {\n",
      "        \"additional_properties\": {\n",
      "            \"debugInfo\": null\n",
      "        },\n",
      "        \"code\": \"UserError\",\n",
      "        \"severity\": null,\n",
      "        \"message\": \"Experiment timeout reached, please consider increasing your experiment timeout.\",\n",
      "        \"message_format\": \"Experiment timeout reached, please consider increasing your experiment timeout.\",\n",
      "        \"message_parameters\": {},\n",
      "        \"reference_code\": null,\n",
      "        \"details_uri\": null,\n",
      "        \"target\": null,\n",
      "        \"details\": [],\n",
      "        \"inner_error\": {\n",
      "            \"additional_properties\": {},\n",
      "            \"code\": \"ResourceExhausted\",\n",
      "            \"inner_error\": {\n",
      "                \"additional_properties\": {},\n",
      "                \"code\": \"Timeout\",\n",
      "                \"inner_error\": {\n",
      "                    \"additional_properties\": {},\n",
      "                    \"code\": \"ExperimentTimeoutForIterations\",\n",
      "                    \"inner_error\": null\n",
      "                }\n",
      "            }\n",
      "        }\n",
      "    },\n",
      "    \"correlation\": null,\n",
      "    \"environment\": null,\n",
      "    \"location\": null,\n",
      "    \"time\": {},\n",
      "    \"component_name\": null\n",
      "}\n",
      "        21                                                  0:05:23          nan    0.9314\n",
      "ERROR: {\n",
      "    \"additional_properties\": {},\n",
      "    \"error\": {\n",
      "        \"additional_properties\": {\n",
      "            \"debugInfo\": null\n",
      "        },\n",
      "        \"code\": \"UserError\",\n",
      "        \"severity\": null,\n",
      "        \"message\": \"Experiment timeout reached, please consider increasing your experiment timeout.\",\n",
      "        \"message_format\": \"Experiment timeout reached, please consider increasing your experiment timeout.\",\n",
      "        \"message_parameters\": {},\n",
      "        \"reference_code\": null,\n",
      "        \"details_uri\": null,\n",
      "        \"target\": null,\n",
      "        \"details\": [],\n",
      "        \"inner_error\": {\n",
      "            \"additional_properties\": {},\n",
      "            \"code\": \"ResourceExhausted\",\n",
      "            \"inner_error\": {\n",
      "                \"additional_properties\": {},\n",
      "                \"code\": \"Timeout\",\n",
      "                \"inner_error\": {\n",
      "                    \"additional_properties\": {},\n",
      "                    \"code\": \"ExperimentTimeoutForIterations\",\n",
      "                    \"inner_error\": null\n",
      "                }\n",
      "            }\n",
      "        }\n",
      "    },\n",
      "    \"correlation\": null,\n",
      "    \"environment\": null,\n",
      "    \"location\": null,\n",
      "    \"time\": {},\n",
      "    \"component_name\": null\n",
      "}\n",
      "        22                                                  0:05:23          nan    0.9314\n",
      "ERROR: {\n",
      "    \"additional_properties\": {},\n",
      "    \"error\": {\n",
      "        \"additional_properties\": {\n",
      "            \"debugInfo\": null\n",
      "        },\n",
      "        \"code\": \"UserError\",\n",
      "        \"severity\": null,\n",
      "        \"message\": \"Experiment timeout reached, please consider increasing your experiment timeout.\",\n",
      "        \"message_format\": \"Experiment timeout reached, please consider increasing your experiment timeout.\",\n",
      "        \"message_parameters\": {},\n",
      "        \"reference_code\": null,\n",
      "        \"details_uri\": null,\n",
      "        \"target\": null,\n",
      "        \"details\": [],\n",
      "        \"inner_error\": {\n",
      "            \"additional_properties\": {},\n",
      "            \"code\": \"ResourceExhausted\",\n",
      "            \"inner_error\": {\n",
      "                \"additional_properties\": {},\n",
      "                \"code\": \"Timeout\",\n",
      "                \"inner_error\": {\n",
      "                    \"additional_properties\": {},\n",
      "                    \"code\": \"ExperimentTimeoutForIterations\",\n",
      "                    \"inner_error\": null\n",
      "                }\n",
      "            }\n",
      "        }\n",
      "    },\n",
      "    \"correlation\": null,\n",
      "    \"environment\": null,\n",
      "    \"location\": null,\n",
      "    \"time\": {},\n",
      "    \"component_name\": null\n",
      "}\n",
      "        23                                                  0:05:21          nan    0.9314\n",
      "ERROR: {\n",
      "    \"additional_properties\": {},\n",
      "    \"error\": {\n",
      "        \"additional_properties\": {\n",
      "            \"debugInfo\": null\n",
      "        },\n",
      "        \"code\": \"UserError\",\n",
      "        \"severity\": null,\n",
      "        \"message\": \"Experiment timeout reached, please consider increasing your experiment timeout.\",\n",
      "        \"message_format\": \"Experiment timeout reached, please consider increasing your experiment timeout.\",\n",
      "        \"message_parameters\": {},\n",
      "        \"reference_code\": null,\n",
      "        \"details_uri\": null,\n",
      "        \"target\": null,\n",
      "        \"details\": [],\n",
      "        \"inner_error\": {\n",
      "            \"additional_properties\": {},\n",
      "            \"code\": \"ResourceExhausted\",\n",
      "            \"inner_error\": {\n",
      "                \"additional_properties\": {},\n",
      "                \"code\": \"Timeout\",\n",
      "                \"inner_error\": {\n",
      "                    \"additional_properties\": {},\n",
      "                    \"code\": \"ExperimentTimeoutForIterations\",\n",
      "                    \"inner_error\": null\n",
      "                }\n",
      "            }\n",
      "        }\n",
      "    },\n",
      "    \"correlation\": null,\n",
      "    \"environment\": null,\n",
      "    \"location\": null,\n",
      "    \"time\": {},\n",
      "    \"component_name\": null\n",
      "}\n"
     ]
    },
    {
     "name": "stdout",
     "output_type": "stream",
     "text": [
      "        24                                                  0:05:10          nan    0.9314\n",
      "ERROR: {\n",
      "    \"additional_properties\": {},\n",
      "    \"error\": {\n",
      "        \"additional_properties\": {\n",
      "            \"debugInfo\": null\n",
      "        },\n",
      "        \"code\": \"UserError\",\n",
      "        \"severity\": null,\n",
      "        \"message\": \"Experiment timeout reached, please consider increasing your experiment timeout.\",\n",
      "        \"message_format\": \"Experiment timeout reached, please consider increasing your experiment timeout.\",\n",
      "        \"message_parameters\": {},\n",
      "        \"reference_code\": null,\n",
      "        \"details_uri\": null,\n",
      "        \"target\": null,\n",
      "        \"details\": [],\n",
      "        \"inner_error\": {\n",
      "            \"additional_properties\": {},\n",
      "            \"code\": \"ResourceExhausted\",\n",
      "            \"inner_error\": {\n",
      "                \"additional_properties\": {},\n",
      "                \"code\": \"Timeout\",\n",
      "                \"inner_error\": {\n",
      "                    \"additional_properties\": {},\n",
      "                    \"code\": \"ExperimentTimeoutForIterations\",\n",
      "                    \"inner_error\": null\n",
      "                }\n",
      "            }\n",
      "        }\n",
      "    },\n",
      "    \"correlation\": null,\n",
      "    \"environment\": null,\n",
      "    \"location\": null,\n",
      "    \"time\": {},\n",
      "    \"component_name\": null\n",
      "}\n",
      "        26    StackEnsemble                                 0:06:37       0.9349    0.9349\n",
      "        25    VotingEnsemble                                0:07:36       0.9384    0.9384\n"
     ]
    }
   ],
   "source": [
    "# TODO: Submit your experiment\n",
    "remote_run = experiment.submit(automl_config, show_output=True)"
   ]
  },
  {
   "cell_type": "markdown",
   "metadata": {},
   "source": [
    "## Run Details\n",
    "\n",
    "OPTIONAL: Write about the different models trained and their performance. Why do you think some models did better than others?\n",
    "\n",
    "TODO: In the cell below, use the `RunDetails` widget to show the different experiments."
   ]
  },
  {
   "cell_type": "code",
   "execution_count": 8,
   "metadata": {
    "gather": {
     "logged": 1598431121770
    },
    "jupyter": {
     "outputs_hidden": false,
     "source_hidden": false
    },
    "nteract": {
     "transient": {
      "deleting": false
     }
    }
   },
   "outputs": [
    {
     "data": {
      "application/vnd.jupyter.widget-view+json": {
       "model_id": "d773b29578b44cb49830b2b6673431c2",
       "version_major": 2,
       "version_minor": 0
      },
      "text/plain": [
       "_AutoMLWidget(widget_settings={'childWidgetDisplay': 'popup', 'send_telemetry': False, 'log_level': 'INFO', 's…"
      ]
     },
     "metadata": {},
     "output_type": "display_data"
    },
    {
     "data": {
      "application/aml.mini.widget.v1": "{\"status\": \"Completed\", \"workbench_run_details_uri\": \"https://ml.azure.com/runs/AutoML_7d0ce565-819d-4c55-a1b1-ab7176b64c1d?wsid=/subscriptions/f5091c60-1c3c-430f-8d81-d802f6bf2414/resourcegroups/aml-quickstarts-142685/workspaces/quick-starts-ws-142685&tid=660b3398-b80e-49d2-bc5b-ac1dc93b5254\", \"run_id\": \"AutoML_7d0ce565-819d-4c55-a1b1-ab7176b64c1d\", \"run_properties\": {\"run_id\": \"AutoML_7d0ce565-819d-4c55-a1b1-ab7176b64c1d\", \"created_utc\": \"2021-04-14T15:10:24.347418Z\", \"properties\": {\"num_iterations\": \"1000\", \"training_type\": \"TrainFull\", \"acquisition_function\": \"EI\", \"primary_metric\": \"accuracy\", \"train_split\": \"0\", \"acquisition_parameter\": \"0\", \"num_cross_validation\": null, \"target\": \"notebook142685\", \"AMLSettingsJsonString\": \"{\\\"path\\\":null,\\\"name\\\":\\\"predict-breast-cancer-automl\\\",\\\"subscription_id\\\":\\\"f5091c60-1c3c-430f-8d81-d802f6bf2414\\\",\\\"resource_group\\\":\\\"aml-quickstarts-142685\\\",\\\"workspace_name\\\":\\\"quick-starts-ws-142685\\\",\\\"region\\\":\\\"southcentralus\\\",\\\"compute_target\\\":\\\"notebook142685\\\",\\\"spark_service\\\":null,\\\"azure_service\\\":\\\"remote\\\",\\\"many_models\\\":false,\\\"pipeline_fetch_max_batch_size\\\":1,\\\"enable_batch_run\\\":false,\\\"enable_run_restructure\\\":false,\\\"iterations\\\":1000,\\\"primary_metric\\\":\\\"accuracy\\\",\\\"task_type\\\":\\\"classification\\\",\\\"data_script\\\":null,\\\"test_size\\\":0.0,\\\"validation_size\\\":0.0,\\\"n_cross_validations\\\":null,\\\"y_min\\\":null,\\\"y_max\\\":null,\\\"num_classes\\\":null,\\\"featurization\\\":\\\"auto\\\",\\\"_ignore_package_version_incompatibilities\\\":false,\\\"is_timeseries\\\":false,\\\"max_cores_per_iteration\\\":1,\\\"max_concurrent_iterations\\\":5,\\\"iteration_timeout_minutes\\\":null,\\\"mem_in_mb\\\":null,\\\"enforce_time_on_windows\\\":false,\\\"experiment_timeout_minutes\\\":30,\\\"experiment_exit_score\\\":null,\\\"whitelist_models\\\":null,\\\"blacklist_algos\\\":[\\\"XGBoostClassifier\\\",\\\"TensorFlowLinearClassifier\\\",\\\"TensorFlowDNN\\\"],\\\"supported_models\\\":[\\\"ExtremeRandomTrees\\\",\\\"KNN\\\",\\\"RandomForest\\\",\\\"XGBoostClassifier\\\",\\\"GradientBoosting\\\",\\\"TensorFlowDNN\\\",\\\"DecisionTree\\\",\\\"SVM\\\",\\\"LightGBM\\\",\\\"AveragedPerceptronClassifier\\\",\\\"BernoulliNaiveBayes\\\",\\\"LogisticRegression\\\",\\\"LinearSVM\\\",\\\"SGD\\\",\\\"TensorFlowLinearClassifier\\\",\\\"MultinomialNaiveBayes\\\"],\\\"private_models\\\":[],\\\"auto_blacklist\\\":true,\\\"blacklist_samples_reached\\\":false,\\\"exclude_nan_labels\\\":true,\\\"verbosity\\\":20,\\\"_debug_log\\\":\\\"azureml_automl.log\\\",\\\"show_warnings\\\":false,\\\"model_explainability\\\":true,\\\"service_url\\\":null,\\\"sdk_url\\\":null,\\\"sdk_packages\\\":null,\\\"enable_onnx_compatible_models\\\":false,\\\"enable_split_onnx_featurizer_estimator_models\\\":false,\\\"vm_type\\\":\\\"STANDARD_DS3_V2\\\",\\\"telemetry_verbosity\\\":20,\\\"send_telemetry\\\":true,\\\"enable_dnn\\\":false,\\\"scenario\\\":\\\"SDK-1.13.0\\\",\\\"environment_label\\\":null,\\\"save_mlflow\\\":false,\\\"force_text_dnn\\\":false,\\\"enable_feature_sweeping\\\":true,\\\"enable_early_stopping\\\":true,\\\"early_stopping_n_iters\\\":10,\\\"metrics\\\":null,\\\"enable_metric_confidence\\\":false,\\\"enable_ensembling\\\":true,\\\"enable_stack_ensembling\\\":true,\\\"ensemble_iterations\\\":15,\\\"enable_tf\\\":false,\\\"enable_subsampling\\\":null,\\\"subsample_seed\\\":null,\\\"enable_nimbusml\\\":false,\\\"enable_streaming\\\":false,\\\"force_streaming\\\":false,\\\"track_child_runs\\\":true,\\\"allowed_private_models\\\":[],\\\"label_column_name\\\":\\\"diagnosis\\\",\\\"weight_column_name\\\":null,\\\"cv_split_column_names\\\":null,\\\"enable_local_managed\\\":false,\\\"_local_managed_run_id\\\":null,\\\"cost_mode\\\":1,\\\"lag_length\\\":0,\\\"metric_operation\\\":\\\"maximize\\\",\\\"preprocess\\\":true}\", \"DataPrepJsonString\": \"{\\\\\\\"training_data\\\\\\\": {\\\\\\\"datasetId\\\\\\\": \\\\\\\"adab72e5-0e10-4f38-ac0e-bcb6b6137cb0\\\\\\\"}, \\\\\\\"datasets\\\\\\\": 0}\", \"EnableSubsampling\": null, \"runTemplate\": \"AutoML\", \"azureml.runsource\": \"automl\", \"display_task_type\": \"classification\", \"dependencies_versions\": \"{\\\"azureml-widgets\\\": \\\"1.26.0\\\", \\\"azureml-train\\\": \\\"1.26.0\\\", \\\"azureml-train-restclients-hyperdrive\\\": \\\"1.26.0\\\", \\\"azureml-train-core\\\": \\\"1.26.0\\\", \\\"azureml-train-automl\\\": \\\"1.26.0\\\", \\\"azureml-train-automl-runtime\\\": \\\"1.26.0\\\", \\\"azureml-train-automl-client\\\": \\\"1.26.0\\\", \\\"azureml-tensorboard\\\": \\\"1.26.0\\\", \\\"azureml-telemetry\\\": \\\"1.26.0\\\", \\\"azureml-sdk\\\": \\\"1.26.0\\\", \\\"azureml-samples\\\": \\\"0+unknown\\\", \\\"azureml-pipeline\\\": \\\"1.26.0\\\", \\\"azureml-pipeline-steps\\\": \\\"1.26.0\\\", \\\"azureml-pipeline-core\\\": \\\"1.26.0\\\", \\\"azureml-opendatasets\\\": \\\"1.26.0\\\", \\\"azureml-model-management-sdk\\\": \\\"1.0.1b6.post1\\\", \\\"azureml-mlflow\\\": \\\"1.26.0\\\", \\\"azureml-interpret\\\": \\\"1.26.0\\\", \\\"azureml-explain-model\\\": \\\"1.26.0\\\", \\\"azureml-defaults\\\": \\\"1.26.0\\\", \\\"azureml-dataset-runtime\\\": \\\"1.26.0\\\", \\\"azureml-dataprep\\\": \\\"2.13.2\\\", \\\"azureml-dataprep-rslex\\\": \\\"1.11.2\\\", \\\"azureml-dataprep-native\\\": \\\"32.0.0\\\", \\\"azureml-datadrift\\\": \\\"1.26.0\\\", \\\"azureml-core\\\": \\\"1.26.0\\\", \\\"azureml-contrib-services\\\": \\\"1.26.0\\\", \\\"azureml-contrib-server\\\": \\\"1.26.0\\\", \\\"azureml-contrib-reinforcementlearning\\\": \\\"1.26.0\\\", \\\"azureml-contrib-pipeline-steps\\\": \\\"1.26.0\\\", \\\"azureml-contrib-notebook\\\": \\\"1.26.0\\\", \\\"azureml-contrib-gbdt\\\": \\\"1.26.0\\\", \\\"azureml-contrib-fairness\\\": \\\"1.26.0\\\", \\\"azureml-contrib-dataset\\\": \\\"1.26.0\\\", \\\"azureml-cli-common\\\": \\\"1.26.0\\\", \\\"azureml-automl-runtime\\\": \\\"1.26.0\\\", \\\"azureml-automl-dnn-nlp\\\": \\\"1.26.0\\\", \\\"azureml-automl-core\\\": \\\"1.26.0\\\", \\\"azureml-accel-models\\\": \\\"1.26.0\\\"}\", \"_aml_system_scenario_identification\": \"Remote.Parent\", \"ClientType\": \"SDK\", \"environment_cpu_name\": \"AzureML-AutoML\", \"environment_cpu_label\": \"prod\", \"environment_gpu_name\": \"AzureML-AutoML-GPU\", \"environment_gpu_label\": \"prod\", \"root_attribution\": \"automl\", \"attribution\": \"AutoML\", \"Orchestrator\": \"AutoML\", \"CancelUri\": \"https://southcentralus.experiments.azureml.net/jasmine/v1.0/subscriptions/f5091c60-1c3c-430f-8d81-d802f6bf2414/resourceGroups/aml-quickstarts-142685/providers/Microsoft.MachineLearningServices/workspaces/quick-starts-ws-142685/experimentids/ed240b5e-cbbc-4a31-b687-9ec579dacc59/cancel/AutoML_7d0ce565-819d-4c55-a1b1-ab7176b64c1d\", \"ClientSdkVersion\": \"1.25.0\", \"snapshotId\": \"00000000-0000-0000-0000-000000000000\", \"SetupRunId\": \"AutoML_7d0ce565-819d-4c55-a1b1-ab7176b64c1d_setup\", \"SetupRunContainerId\": \"dcid.AutoML_7d0ce565-819d-4c55-a1b1-ab7176b64c1d_setup\", \"FeaturizationRunJsonPath\": \"featurizer_container.json\", \"FeaturizationRunId\": \"AutoML_7d0ce565-819d-4c55-a1b1-ab7176b64c1d_featurize\", \"ProblemInfoJsonString\": \"{\\\"dataset_num_categorical\\\": 0, \\\"is_sparse\\\": false, \\\"subsampling\\\": false, \\\"dataset_classes\\\": 2, \\\"dataset_features\\\": 5, \\\"dataset_samples\\\": 569, \\\"single_frequency_class_detected\\\": false}\", \"ModelExplainRunId\": \"AutoML_7d0ce565-819d-4c55-a1b1-ab7176b64c1d_ModelExplain\"}, \"tags\": {\"model_explain_run\": \"best_run\", \"_aml_system_azureml.automlComponent\": \"AutoML\", \"pipeline_id\": \"\", \"score\": \"\", \"predicted_cost\": \"\", \"fit_time\": \"\", \"training_percent\": \"\", \"iteration\": \"\", \"run_preprocessor\": \"\", \"run_algorithm\": \"\", \"automl_best_child_run_id\": \"AutoML_7d0ce565-819d-4c55-a1b1-ab7176b64c1d_25\", \"model_explain_best_run_child_id\": \"AutoML_7d0ce565-819d-4c55-a1b1-ab7176b64c1d_25\"}, \"end_time_utc\": \"2021-04-14T16:04:06.002361Z\", \"status\": \"Completed\", \"log_files\": {}, \"log_groups\": [], \"run_duration\": \"0:53:41\", \"run_number\": \"1\", \"run_queued_details\": {\"status\": \"Completed\", \"details\": null}}, \"child_runs\": [{\"run_id\": \"AutoML_7d0ce565-819d-4c55-a1b1-ab7176b64c1d_0\", \"run_number\": 5, \"metric\": null, \"status\": \"Completed\", \"run_type\": \"azureml.scriptrun\", \"training_percent\": \"100\", \"start_time\": \"2021-04-14T15:25:14.653824Z\", \"end_time\": \"2021-04-14T15:31:27.783852Z\", \"created_time\": \"2021-04-14T15:24:56.73952Z\", \"created_time_dt\": \"2021-04-14T15:24:56.73952Z\", \"duration\": \"0:06:31\", \"iteration\": \"0\", \"goal\": \"accuracy_max\", \"run_name\": \"MaxAbsScaler, LightGBM\", \"run_properties\": \"copy=True\", \"primary_metric\": 0.92437343, \"best_metric\": 0.92437343}, {\"run_id\": \"AutoML_7d0ce565-819d-4c55-a1b1-ab7176b64c1d_1\", \"run_number\": 6, \"metric\": null, \"status\": \"Completed\", \"run_type\": \"azureml.scriptrun\", \"training_percent\": \"100\", \"start_time\": \"2021-04-14T15:25:15.078061Z\", \"end_time\": \"2021-04-14T15:31:24.446154Z\", \"created_time\": \"2021-04-14T15:24:56.746559Z\", \"created_time_dt\": \"2021-04-14T15:24:56.746559Z\", \"duration\": \"0:06:27\", \"iteration\": \"1\", \"goal\": \"accuracy_max\", \"run_name\": \"MinMaxScaler, RandomForest\", \"run_properties\": \"copy=True, feature_range=(0, 1\", \"primary_metric\": 0.90673559, \"best_metric\": 0.92437343}, {\"run_id\": \"AutoML_7d0ce565-819d-4c55-a1b1-ab7176b64c1d_2\", \"run_number\": 7, \"metric\": null, \"status\": \"Completed\", \"run_type\": \"azureml.scriptrun\", \"training_percent\": \"100\", \"start_time\": \"2021-04-14T15:25:13.936107Z\", \"end_time\": \"2021-04-14T15:31:22.448443Z\", \"created_time\": \"2021-04-14T15:24:56.965461Z\", \"created_time_dt\": \"2021-04-14T15:24:56.965461Z\", \"duration\": \"0:06:25\", \"iteration\": \"2\", \"goal\": \"accuracy_max\", \"run_name\": \"MinMaxScaler, RandomForest\", \"run_properties\": \"copy=True, feature_range=(0, 1\", \"primary_metric\": 0.91199875, \"best_metric\": 0.92437343}, {\"run_id\": \"AutoML_7d0ce565-819d-4c55-a1b1-ab7176b64c1d_4\", \"run_number\": 8, \"metric\": null, \"status\": \"Completed\", \"run_type\": \"azureml.scriptrun\", \"training_percent\": \"100\", \"start_time\": \"2021-04-14T15:25:14.095438Z\", \"end_time\": \"2021-04-14T15:31:22.086986Z\", \"created_time\": \"2021-04-14T15:24:56.980293Z\", \"created_time_dt\": \"2021-04-14T15:24:56.980293Z\", \"duration\": \"0:06:25\", \"iteration\": \"4\", \"goal\": \"accuracy_max\", \"run_name\": \"MinMaxScaler, RandomForest\", \"run_properties\": \"copy=True, feature_range=(0, 1\", \"primary_metric\": 0.8927005, \"best_metric\": 0.92437343}, {\"run_id\": \"AutoML_7d0ce565-819d-4c55-a1b1-ab7176b64c1d_3\", \"run_number\": 9, \"metric\": null, \"status\": \"Completed\", \"run_type\": \"azureml.scriptrun\", \"training_percent\": \"100\", \"start_time\": \"2021-04-14T15:25:16.407042Z\", \"end_time\": \"2021-04-14T15:31:23.386795Z\", \"created_time\": \"2021-04-14T15:24:57.071978Z\", \"created_time_dt\": \"2021-04-14T15:24:57.071978Z\", \"duration\": \"0:06:26\", \"iteration\": \"3\", \"goal\": \"accuracy_max\", \"run_name\": \"MinMaxScaler, RandomForest\", \"run_properties\": \"copy=True, feature_range=(0, 1\", \"primary_metric\": 0.92258772, \"best_metric\": 0.92437343}, {\"run_id\": \"AutoML_7d0ce565-819d-4c55-a1b1-ab7176b64c1d_5\", \"run_number\": 10, \"metric\": null, \"status\": \"Completed\", \"run_type\": \"azureml.scriptrun\", \"training_percent\": \"100\", \"start_time\": \"2021-04-14T15:31:44.438077Z\", \"end_time\": \"2021-04-14T15:37:41.55066Z\", \"created_time\": \"2021-04-14T15:31:25.4347Z\", \"created_time_dt\": \"2021-04-14T15:31:25.4347Z\", \"duration\": \"0:06:16\", \"iteration\": \"5\", \"goal\": \"accuracy_max\", \"run_name\": \"MinMaxScaler, SVM\", \"run_properties\": \"copy=True, feature_range=(0, 1\", \"primary_metric\": 0.92612782, \"best_metric\": 0.92612782}, {\"run_id\": \"AutoML_7d0ce565-819d-4c55-a1b1-ab7176b64c1d_6\", \"run_number\": 11, \"metric\": null, \"status\": \"Completed\", \"run_type\": \"azureml.scriptrun\", \"training_percent\": \"100\", \"start_time\": \"2021-04-14T15:31:44.178748Z\", \"end_time\": \"2021-04-14T15:37:39.688955Z\", \"created_time\": \"2021-04-14T15:31:25.448747Z\", \"created_time_dt\": \"2021-04-14T15:31:25.448747Z\", \"duration\": \"0:06:14\", \"iteration\": \"6\", \"goal\": \"accuracy_max\", \"run_name\": \"StandardScalerWrapper, GradientBoosting\", \"run_properties\": \"<azureml.automl.runtime.shared.model_wrappers.StandardScalerWrapper object at 0x7f956b3a1390\", \"primary_metric\": 0.89796366, \"best_metric\": 0.92612782}, {\"run_id\": \"AutoML_7d0ce565-819d-4c55-a1b1-ab7176b64c1d_7\", \"run_number\": 12, \"metric\": null, \"status\": \"Completed\", \"run_type\": \"azureml.scriptrun\", \"training_percent\": \"100\", \"start_time\": \"2021-04-14T15:31:43.28278Z\", \"end_time\": \"2021-04-14T15:37:44.044025Z\", \"created_time\": \"2021-04-14T15:31:30.757526Z\", \"created_time_dt\": \"2021-04-14T15:31:30.757526Z\", \"duration\": \"0:06:13\", \"iteration\": \"7\", \"goal\": \"accuracy_max\", \"run_name\": \"StandardScalerWrapper, SGD\", \"run_properties\": \"<azureml.automl.runtime.shared.model_wrappers.StandardScalerWrapper object at 0x7f25c4f3ec88\", \"primary_metric\": 0.91732456, \"best_metric\": 0.92612782}, {\"run_id\": \"AutoML_7d0ce565-819d-4c55-a1b1-ab7176b64c1d_8\", \"run_number\": 13, \"metric\": null, \"status\": \"Completed\", \"run_type\": \"azureml.scriptrun\", \"training_percent\": \"100\", \"start_time\": \"2021-04-14T15:31:44.946506Z\", \"end_time\": \"2021-04-14T15:37:39.641445Z\", \"created_time\": \"2021-04-14T15:31:30.841557Z\", \"created_time_dt\": \"2021-04-14T15:31:30.841557Z\", \"duration\": \"0:06:08\", \"iteration\": \"8\", \"goal\": \"accuracy_max\", \"run_name\": \"StandardScalerWrapper, SGD\", \"run_properties\": \"<azureml.automl.runtime.shared.model_wrappers.StandardScalerWrapper object at 0x7f7d86704b38\", \"primary_metric\": 0.92083333, \"best_metric\": 0.92612782}, {\"run_id\": \"AutoML_7d0ce565-819d-4c55-a1b1-ab7176b64c1d_9\", \"run_number\": 14, \"metric\": null, \"status\": \"Completed\", \"run_type\": \"azureml.scriptrun\", \"training_percent\": \"100\", \"start_time\": \"2021-04-14T15:31:45.591451Z\", \"end_time\": \"2021-04-14T15:37:38.205875Z\", \"created_time\": \"2021-04-14T15:31:30.858411Z\", \"created_time_dt\": \"2021-04-14T15:31:30.858411Z\", \"duration\": \"0:06:07\", \"iteration\": \"9\", \"goal\": \"accuracy_max\", \"run_name\": \"RobustScaler, SVM\", \"run_properties\": \"copy=True, quantile_range=[10, 90], with_centering=True,\\n             with_scaling=True\", \"primary_metric\": 0.92086466, \"best_metric\": 0.92612782}, {\"run_id\": \"AutoML_7d0ce565-819d-4c55-a1b1-ab7176b64c1d_10\", \"run_number\": 15, \"metric\": null, \"status\": \"Completed\", \"run_type\": \"azureml.scriptrun\", \"training_percent\": \"100\", \"start_time\": \"2021-04-14T15:37:53.906545Z\", \"end_time\": \"2021-04-14T15:43:59.035534Z\", \"created_time\": \"2021-04-14T15:37:40.907498Z\", \"created_time_dt\": \"2021-04-14T15:37:40.907498Z\", \"duration\": \"0:06:18\", \"iteration\": \"10\", \"goal\": \"accuracy_max\", \"run_name\": \"MaxAbsScaler, RandomForest\", \"run_properties\": \"copy=True\", \"primary_metric\": 0.91553885, \"best_metric\": 0.92612782}, {\"run_id\": \"AutoML_7d0ce565-819d-4c55-a1b1-ab7176b64c1d_11\", \"run_number\": 16, \"metric\": null, \"status\": \"Completed\", \"run_type\": \"azureml.scriptrun\", \"training_percent\": \"100\", \"start_time\": \"2021-04-14T15:37:58.199593Z\", \"end_time\": \"2021-04-14T15:43:51.930749Z\", \"created_time\": \"2021-04-14T15:37:45.599213Z\", \"created_time_dt\": \"2021-04-14T15:37:45.599213Z\", \"duration\": \"0:06:06\", \"iteration\": \"11\", \"goal\": \"accuracy_max\", \"run_name\": \"StandardScalerWrapper, RandomForest\", \"run_properties\": \"<azureml.automl.runtime.shared.model_wrappers.StandardScalerWrapper object at 0x7f9df16499b0\", \"primary_metric\": 0.92258772, \"best_metric\": 0.92612782}, {\"run_id\": \"AutoML_7d0ce565-819d-4c55-a1b1-ab7176b64c1d_12\", \"run_number\": 17, \"metric\": null, \"status\": \"Completed\", \"run_type\": \"azureml.scriptrun\", \"training_percent\": \"100\", \"start_time\": \"2021-04-14T15:37:54.904336Z\", \"end_time\": \"2021-04-14T15:43:47.901728Z\", \"created_time\": \"2021-04-14T15:37:45.767971Z\", \"created_time_dt\": \"2021-04-14T15:37:45.767971Z\", \"duration\": \"0:06:02\", \"iteration\": \"12\", \"goal\": \"accuracy_max\", \"run_name\": \"MaxAbsScaler, LightGBM\", \"run_properties\": \"copy=True\", \"primary_metric\": 0.91199875, \"best_metric\": 0.92612782}, {\"run_id\": \"AutoML_7d0ce565-819d-4c55-a1b1-ab7176b64c1d_13\", \"run_number\": 18, \"metric\": null, \"status\": \"Completed\", \"run_type\": \"azureml.scriptrun\", \"training_percent\": \"100\", \"start_time\": \"2021-04-14T15:37:57.704326Z\", \"end_time\": \"2021-04-14T15:43:52.786971Z\", \"created_time\": \"2021-04-14T15:37:45.781658Z\", \"created_time_dt\": \"2021-04-14T15:37:45.781658Z\", \"duration\": \"0:06:07\", \"iteration\": \"13\", \"goal\": \"accuracy_max\", \"run_name\": \"MinMaxScaler, LightGBM\", \"run_properties\": \"copy=True, feature_range=(0, 1\", \"primary_metric\": 0.92606516, \"best_metric\": 0.92612782}, {\"run_id\": \"AutoML_7d0ce565-819d-4c55-a1b1-ab7176b64c1d_14\", \"run_number\": 19, \"metric\": null, \"status\": \"Completed\", \"run_type\": \"azureml.scriptrun\", \"training_percent\": \"100\", \"start_time\": \"2021-04-14T15:38:03.56009Z\", \"end_time\": \"2021-04-14T15:44:08.787883Z\", \"created_time\": \"2021-04-14T15:37:51.788445Z\", \"created_time_dt\": \"2021-04-14T15:37:51.788445Z\", \"duration\": \"0:06:16\", \"iteration\": \"14\", \"goal\": \"accuracy_max\", \"run_name\": \"StandardScalerWrapper, RandomForest\", \"run_properties\": \"<azureml.automl.runtime.shared.model_wrappers.StandardScalerWrapper object at 0x7f670ac22d30\", \"primary_metric\": 0.9049812, \"best_metric\": 0.92612782}, {\"run_id\": \"AutoML_7d0ce565-819d-4c55-a1b1-ab7176b64c1d_15\", \"run_number\": 20, \"metric\": null, \"status\": \"Completed\", \"run_type\": \"azureml.scriptrun\", \"training_percent\": \"100\", \"start_time\": \"2021-04-14T15:44:00.076172Z\", \"end_time\": \"2021-04-14T15:50:02.36753Z\", \"created_time\": \"2021-04-14T15:43:50.34135Z\", \"created_time_dt\": \"2021-04-14T15:43:50.34135Z\", \"duration\": \"0:06:12\", \"iteration\": \"15\", \"goal\": \"accuracy_max\", \"run_name\": \"MinMaxScaler, LightGBM\", \"run_properties\": \"copy=True, feature_range=(0, 1\", \"primary_metric\": 0.91027569, \"best_metric\": 0.92612782}, {\"run_id\": \"AutoML_7d0ce565-819d-4c55-a1b1-ab7176b64c1d_16\", \"run_number\": 21, \"metric\": null, \"status\": \"Completed\", \"run_type\": \"azureml.scriptrun\", \"training_percent\": \"100\", \"start_time\": \"2021-04-14T15:44:06.21476Z\", \"end_time\": \"2021-04-14T15:49:56.725456Z\", \"created_time\": \"2021-04-14T15:43:55.043549Z\", \"created_time_dt\": \"2021-04-14T15:43:55.043549Z\", \"duration\": \"0:06:01\", \"iteration\": \"16\", \"goal\": \"accuracy_max\", \"run_name\": \"MinMaxScaler, LogisticRegression\", \"run_properties\": \"copy=True, feature_range=(0, 1\", \"primary_metric\": 0.91904762, \"best_metric\": 0.92612782}, {\"run_id\": \"AutoML_7d0ce565-819d-4c55-a1b1-ab7176b64c1d_17\", \"run_number\": 22, \"metric\": null, \"status\": \"Completed\", \"run_type\": \"azureml.scriptrun\", \"training_percent\": \"100\", \"start_time\": \"2021-04-14T15:44:05.979304Z\", \"end_time\": \"2021-04-14T15:50:00.997927Z\", \"created_time\": \"2021-04-14T15:43:55.141644Z\", \"created_time_dt\": \"2021-04-14T15:43:55.141644Z\", \"duration\": \"0:06:05\", \"iteration\": \"17\", \"goal\": \"accuracy_max\", \"run_name\": \"StandardScalerWrapper, LightGBM\", \"run_properties\": \"<azureml.automl.runtime.shared.model_wrappers.StandardScalerWrapper object at 0x7f2b3f5024a8\", \"primary_metric\": 0.92963659, \"best_metric\": 0.92963659}, {\"run_id\": \"AutoML_7d0ce565-819d-4c55-a1b1-ab7176b64c1d_18\", \"run_number\": 23, \"metric\": null, \"status\": \"Completed\", \"run_type\": \"azureml.scriptrun\", \"training_percent\": \"100\", \"start_time\": \"2021-04-14T15:44:10.386517Z\", \"end_time\": \"2021-04-14T15:49:59.216939Z\", \"created_time\": \"2021-04-14T15:44:01.597863Z\", \"created_time_dt\": \"2021-04-14T15:44:01.597863Z\", \"duration\": \"0:05:57\", \"iteration\": \"18\", \"goal\": \"accuracy_max\", \"run_name\": \"MinMaxScaler, LightGBM\", \"run_properties\": \"copy=True, feature_range=(0, 1\", \"primary_metric\": 0.93142231, \"best_metric\": 0.93142231}, {\"run_id\": \"AutoML_7d0ce565-819d-4c55-a1b1-ab7176b64c1d_19\", \"run_number\": 24, \"metric\": null, \"status\": \"Completed\", \"run_type\": \"azureml.scriptrun\", \"training_percent\": \"100\", \"start_time\": \"2021-04-14T15:44:28.3436Z\", \"end_time\": \"2021-04-14T15:50:16.357852Z\", \"created_time\": \"2021-04-14T15:44:11.421763Z\", \"created_time_dt\": \"2021-04-14T15:44:11.421763Z\", \"duration\": \"0:06:04\", \"iteration\": \"19\", \"goal\": \"accuracy_max\", \"run_name\": \"StandardScalerWrapper, LightGBM\", \"run_properties\": \"<azureml.automl.runtime.shared.model_wrappers.StandardScalerWrapper object at 0x7f51d5011d30\", \"primary_metric\": 0.91199875, \"best_metric\": 0.93142231}, {\"run_id\": \"AutoML_7d0ce565-819d-4c55-a1b1-ab7176b64c1d_20\", \"run_number\": 25, \"metric\": null, \"status\": \"Canceled\", \"run_type\": \"azureml.scriptrun\", \"training_percent\": \"100\", \"start_time\": \"2021-04-14T15:50:14.455566Z\", \"end_time\": \"2021-04-14T15:55:37.995429Z\", \"created_time\": \"2021-04-14T15:49:59.615193Z\", \"created_time_dt\": \"2021-04-14T15:49:59.615193Z\", \"duration\": \"0:05:38\", \"iteration\": \"20\", \"goal\": null, \"run_name\": \"Canceled\", \"run_properties\": null}, {\"run_id\": \"AutoML_7d0ce565-819d-4c55-a1b1-ab7176b64c1d_21\", \"run_number\": 26, \"metric\": null, \"status\": \"Canceled\", \"run_type\": \"azureml.scriptrun\", \"training_percent\": \"100\", \"start_time\": \"2021-04-14T15:50:15.571815Z\", \"end_time\": \"2021-04-14T15:55:38.383431Z\", \"created_time\": \"2021-04-14T15:50:04.086721Z\", \"created_time_dt\": \"2021-04-14T15:50:04.086721Z\", \"duration\": \"0:05:34\", \"iteration\": \"21\", \"goal\": null, \"run_name\": \"Canceled\", \"run_properties\": null}, {\"run_id\": \"AutoML_7d0ce565-819d-4c55-a1b1-ab7176b64c1d_22\", \"run_number\": 27, \"metric\": null, \"status\": \"Canceled\", \"run_type\": \"azureml.scriptrun\", \"training_percent\": \"100\", \"start_time\": \"2021-04-14T15:50:15.242925Z\", \"end_time\": \"2021-04-14T15:55:37.893023Z\", \"created_time\": \"2021-04-14T15:50:04.278953Z\", \"created_time_dt\": \"2021-04-14T15:50:04.278953Z\", \"duration\": \"0:05:33\", \"iteration\": \"22\", \"goal\": null, \"run_name\": \"Canceled\", \"run_properties\": null}, {\"run_id\": \"AutoML_7d0ce565-819d-4c55-a1b1-ab7176b64c1d_23\", \"run_number\": 28, \"metric\": null, \"status\": \"Canceled\", \"run_type\": \"azureml.scriptrun\", \"training_percent\": \"100\", \"start_time\": \"2021-04-14T15:50:17.382889Z\", \"end_time\": \"2021-04-14T15:55:38.12464Z\", \"created_time\": \"2021-04-14T15:50:09.246777Z\", \"created_time_dt\": \"2021-04-14T15:50:09.246777Z\", \"duration\": \"0:05:28\", \"iteration\": \"23\", \"goal\": null, \"run_name\": \"Canceled\", \"run_properties\": null}, {\"run_id\": \"AutoML_7d0ce565-819d-4c55-a1b1-ab7176b64c1d_24\", \"run_number\": 29, \"metric\": null, \"status\": \"Canceled\", \"run_type\": \"azureml.scriptrun\", \"training_percent\": \"100\", \"start_time\": \"2021-04-14T15:50:28.620585Z\", \"end_time\": \"2021-04-14T15:55:38.237416Z\", \"created_time\": \"2021-04-14T15:50:18.70326Z\", \"created_time_dt\": \"2021-04-14T15:50:18.70326Z\", \"duration\": \"0:05:19\", \"iteration\": \"24\", \"goal\": null, \"run_name\": \"Canceled\", \"run_properties\": null}, {\"run_id\": \"AutoML_7d0ce565-819d-4c55-a1b1-ab7176b64c1d_25\", \"run_number\": 30, \"metric\": null, \"status\": \"Completed\", \"run_type\": \"azureml.scriptrun\", \"training_percent\": \"100\", \"start_time\": \"2021-04-14T15:56:24.443823Z\", \"end_time\": \"2021-04-14T16:04:00.670091Z\", \"created_time\": \"2021-04-14T15:55:39.764909Z\", \"created_time_dt\": \"2021-04-14T15:55:39.764909Z\", \"duration\": \"0:08:20\", \"iteration\": \"25\", \"goal\": \"accuracy_max\", \"run_name\": \"VotingEnsemble\", \"run_properties\": \"classification_labels=None,\\n                              estimators=[('18',\\n                                           Pipeline(memory=None,\\n                                                    steps=[('minmaxscaler',\\n                                                            MinMaxScaler(copy=True,\\n                                                                         feature_range=(0,\\n                                                                                        1\", \"primary_metric\": 0.93840852, \"best_metric\": 0.93840852}, {\"run_id\": \"AutoML_7d0ce565-819d-4c55-a1b1-ab7176b64c1d_26\", \"run_number\": 31, \"metric\": null, \"status\": \"Completed\", \"run_type\": \"azureml.scriptrun\", \"training_percent\": \"100\", \"start_time\": \"2021-04-14T15:55:51.432395Z\", \"end_time\": \"2021-04-14T16:02:28.726572Z\", \"created_time\": \"2021-04-14T15:55:39.78509Z\", \"created_time_dt\": \"2021-04-14T15:55:39.78509Z\", \"duration\": \"0:06:48\", \"iteration\": \"26\", \"goal\": \"accuracy_max\", \"run_name\": \"StackEnsemble\", \"run_properties\": \"base_learners=[('18',\\n                                        Pipeline(memory=None,\\n                                                 steps=[('minmaxscaler',\\n                                                         MinMaxScaler(copy=True,\\n                                                                      feature_range=(0,\\n                                                                                     1\", \"primary_metric\": 0.93489975, \"best_metric\": 0.93840852}], \"children_metrics\": {\"categories\": [0], \"series\": {\"average_precision_score_weighted\": [{\"categories\": [\"0\", \"1\", \"2\", \"3\", \"4\", \"5\", \"6\", \"7\", \"8\", \"9\", \"10\", \"11\", \"12\", \"13\", \"14\", \"15\", \"16\", \"17\", \"18\", \"19\", \"25\", \"26\"], \"mode\": \"markers\", \"name\": \"average_precision_score_weighted\", \"stepped\": false, \"type\": \"scatter\", \"data\": [0.9802393177765827, 0.9667980523556976, 0.96593420731173, 0.9757381257569424, 0.9608481763556458, 0.9453467331487195, 0.9718346128539, 0.9826701055270093, 0.9835304839423354, 0.9588640092589346, 0.975913928461671, 0.9778142921901883, 0.9766103746235164, 0.9811517578265091, 0.9724022663085645, 0.9761117974055079, 0.9834403578036527, 0.980170677719992, 0.9816531265003423, 0.9771046662740644, 0.9807771930602863, 0.9797320253316626]}, {\"categories\": [\"0\", \"1\", \"2\", \"3\", \"4\", \"5\", \"6\", \"7\", \"8\", \"9\", \"10\", \"11\", \"12\", \"13\", \"14\", \"15\", \"16\", \"17\", \"18\", \"19\", \"25\", \"26\"], \"mode\": \"lines\", \"name\": \"average_precision_score_weighted_max\", \"stepped\": true, \"type\": \"scatter\", \"data\": [0.9802393177765827, 0.9802393177765827, 0.9802393177765827, 0.9802393177765827, 0.9802393177765827, 0.9802393177765827, 0.9802393177765827, 0.9826701055270093, 0.9835304839423354, 0.9835304839423354, 0.9835304839423354, 0.9835304839423354, 0.9835304839423354, 0.9835304839423354, 0.9835304839423354, 0.9835304839423354, 0.9835304839423354, 0.9835304839423354, 0.9835304839423354, 0.9835304839423354, 0.9835304839423354, 0.9835304839423354]}], \"matthews_correlation\": [{\"categories\": [\"0\", \"1\", \"2\", \"3\", \"4\", \"5\", \"6\", \"7\", \"8\", \"9\", \"10\", \"11\", \"12\", \"13\", \"14\", \"15\", \"16\", \"17\", \"18\", \"19\", \"25\", \"26\"], \"mode\": \"markers\", \"name\": \"matthews_correlation\", \"stepped\": false, \"type\": \"scatter\", \"data\": [0.8371715332149023, 0.8037377539117306, 0.8154490314874936, 0.83745653150725, 0.773871622121814, 0.8406628757058842, 0.7853878942900491, 0.8260368163677694, 0.8320218361768117, 0.829756563228262, 0.8219494099425422, 0.8384217969597938, 0.8145247133561841, 0.8438500434765761, 0.8003526817314125, 0.8094429892195063, 0.829751784600604, 0.8510263899270589, 0.8546727864173229, 0.8146479786203924, 0.870029125348502, 0.8610896306687641]}, {\"categories\": [\"0\", \"1\", \"2\", \"3\", \"4\", \"5\", \"6\", \"7\", \"8\", \"9\", \"10\", \"11\", \"12\", \"13\", \"14\", \"15\", \"16\", \"17\", \"18\", \"19\", \"25\", \"26\"], \"mode\": \"lines\", \"name\": \"matthews_correlation_max\", \"stepped\": true, \"type\": \"scatter\", \"data\": [0.8371715332149023, 0.8371715332149023, 0.8371715332149023, 0.83745653150725, 0.83745653150725, 0.8406628757058842, 0.8406628757058842, 0.8406628757058842, 0.8406628757058842, 0.8406628757058842, 0.8406628757058842, 0.8406628757058842, 0.8406628757058842, 0.8438500434765761, 0.8438500434765761, 0.8438500434765761, 0.8438500434765761, 0.8510263899270589, 0.8546727864173229, 0.8546727864173229, 0.870029125348502, 0.870029125348502]}], \"f1_score_micro\": [{\"categories\": [\"0\", \"1\", \"2\", \"3\", \"4\", \"5\", \"6\", \"7\", \"8\", \"9\", \"10\", \"11\", \"12\", \"13\", \"14\", \"15\", \"16\", \"17\", \"18\", \"19\", \"25\", \"26\"], \"mode\": \"markers\", \"name\": \"f1_score_micro\", \"stepped\": false, \"type\": \"scatter\", \"data\": [0.9243734335839597, 0.9067355889724309, 0.9119987468671678, 0.9225877192982456, 0.8927005012531326, 0.9261278195488721, 0.8979636591478697, 0.9173245614035087, 0.9208333333333334, 0.9208646616541353, 0.9155388471177945, 0.9225877192982456, 0.9119987468671678, 0.9260651629072683, 0.9049812030075188, 0.9102756892230577, 0.919047619047619, 0.9296365914786966, 0.931422305764411, 0.9119987468671678, 0.938408521303258, 0.9348997493734335]}, {\"categories\": [\"0\", \"1\", \"2\", \"3\", \"4\", \"5\", \"6\", \"7\", \"8\", \"9\", \"10\", \"11\", \"12\", \"13\", \"14\", \"15\", \"16\", \"17\", \"18\", \"19\", \"25\", \"26\"], \"mode\": \"lines\", \"name\": \"f1_score_micro_max\", \"stepped\": true, \"type\": \"scatter\", \"data\": [0.9243734335839597, 0.9243734335839597, 0.9243734335839597, 0.9243734335839597, 0.9243734335839597, 0.9261278195488721, 0.9261278195488721, 0.9261278195488721, 0.9261278195488721, 0.9261278195488721, 0.9261278195488721, 0.9261278195488721, 0.9261278195488721, 0.9261278195488721, 0.9261278195488721, 0.9261278195488721, 0.9261278195488721, 0.9296365914786966, 0.931422305764411, 0.931422305764411, 0.938408521303258, 0.938408521303258]}], \"average_precision_score_macro\": [{\"categories\": [\"0\", \"1\", \"2\", \"3\", \"4\", \"5\", \"6\", \"7\", \"8\", \"9\", \"10\", \"11\", \"12\", \"13\", \"14\", \"15\", \"16\", \"17\", \"18\", \"19\", \"25\", \"26\"], \"mode\": \"markers\", \"name\": \"average_precision_score_macro\", \"stepped\": false, \"type\": \"scatter\", \"data\": [0.9780138106513124, 0.9641015924063735, 0.9633968383249762, 0.9736755393391437, 0.9572117386599324, 0.9444477656760026, 0.969709821930792, 0.9807992170586564, 0.981758328135656, 0.9567016332827867, 0.9738183270942701, 0.9759978016749304, 0.9749692666916342, 0.9797044425784536, 0.9699952185361749, 0.9743550442892197, 0.9814337053708406, 0.9788750965727475, 0.9803305700114278, 0.9753271021636092, 0.9797691964179119, 0.9783257697986307]}, {\"categories\": [\"0\", \"1\", \"2\", \"3\", \"4\", \"5\", \"6\", \"7\", \"8\", \"9\", \"10\", \"11\", \"12\", \"13\", \"14\", \"15\", \"16\", \"17\", \"18\", \"19\", \"25\", \"26\"], \"mode\": \"lines\", \"name\": \"average_precision_score_macro_max\", \"stepped\": true, \"type\": \"scatter\", \"data\": [0.9780138106513124, 0.9780138106513124, 0.9780138106513124, 0.9780138106513124, 0.9780138106513124, 0.9780138106513124, 0.9780138106513124, 0.9807992170586564, 0.981758328135656, 0.981758328135656, 0.981758328135656, 0.981758328135656, 0.981758328135656, 0.981758328135656, 0.981758328135656, 0.981758328135656, 0.981758328135656, 0.981758328135656, 0.981758328135656, 0.981758328135656, 0.981758328135656, 0.981758328135656]}], \"AUC_macro\": [{\"categories\": [\"0\", \"1\", \"2\", \"3\", \"4\", \"5\", \"6\", \"7\", \"8\", \"9\", \"10\", \"11\", \"12\", \"13\", \"14\", \"15\", \"16\", \"17\", \"18\", \"19\", \"25\", \"26\"], \"mode\": \"markers\", \"name\": \"AUC_macro\", \"stepped\": false, \"type\": \"scatter\", \"data\": [0.9773814891945802, 0.9652755052947463, 0.9662704832340345, 0.9745909722046193, 0.9594355849793457, 0.9446277944285291, 0.9694752685295495, 0.9808021550802211, 0.9816936073927094, 0.9572652904166169, 0.9743602925909475, 0.9771015167092496, 0.9749979451653342, 0.979304150427039, 0.9703067134631995, 0.974002851918676, 0.9816292667498505, 0.9780339763788918, 0.9798283969789725, 0.974717229514031, 0.9799290111071098, 0.9787447946012152]}, {\"categories\": [\"0\", \"1\", \"2\", \"3\", \"4\", \"5\", \"6\", \"7\", \"8\", \"9\", \"10\", \"11\", \"12\", \"13\", \"14\", \"15\", \"16\", \"17\", \"18\", \"19\", \"25\", \"26\"], \"mode\": \"lines\", \"name\": \"AUC_macro_max\", \"stepped\": true, \"type\": \"scatter\", \"data\": [0.9773814891945802, 0.9773814891945802, 0.9773814891945802, 0.9773814891945802, 0.9773814891945802, 0.9773814891945802, 0.9773814891945802, 0.9808021550802211, 0.9816936073927094, 0.9816936073927094, 0.9816936073927094, 0.9816936073927094, 0.9816936073927094, 0.9816936073927094, 0.9816936073927094, 0.9816936073927094, 0.9816936073927094, 0.9816936073927094, 0.9816936073927094, 0.9816936073927094, 0.9816936073927094, 0.9816936073927094]}], \"balanced_accuracy\": [{\"categories\": [\"0\", \"1\", \"2\", \"3\", \"4\", \"5\", \"6\", \"7\", \"8\", \"9\", \"10\", \"11\", \"12\", \"13\", \"14\", \"15\", \"16\", \"17\", \"18\", \"19\", \"25\", \"26\"], \"mode\": \"markers\", \"name\": \"balanced_accuracy\", \"stepped\": false, \"type\": \"scatter\", \"data\": [0.9182105951381587, 0.8938448332162794, 0.8987066611075191, 0.9201427888366938, 0.8775443344780838, 0.9122408149290399, 0.8766149251935327, 0.9026443525786666, 0.908140827314272, 0.9105743965330074, 0.9033953620059385, 0.9130297504050329, 0.8971217174876918, 0.9194693655878229, 0.8894219320542478, 0.8974001173709508, 0.9041149408139608, 0.9217949469831719, 0.9246575372246355, 0.8977403463764985, 0.93319893662082, 0.9281569198140973]}, {\"categories\": [\"0\", \"1\", \"2\", \"3\", \"4\", \"5\", \"6\", \"7\", \"8\", \"9\", \"10\", \"11\", \"12\", \"13\", \"14\", \"15\", \"16\", \"17\", \"18\", \"19\", \"25\", \"26\"], \"mode\": \"lines\", \"name\": \"balanced_accuracy_max\", \"stepped\": true, \"type\": \"scatter\", \"data\": [0.9182105951381587, 0.9182105951381587, 0.9182105951381587, 0.9201427888366938, 0.9201427888366938, 0.9201427888366938, 0.9201427888366938, 0.9201427888366938, 0.9201427888366938, 0.9201427888366938, 0.9201427888366938, 0.9201427888366938, 0.9201427888366938, 0.9201427888366938, 0.9201427888366938, 0.9201427888366938, 0.9201427888366938, 0.9217949469831719, 0.9246575372246355, 0.9246575372246355, 0.93319893662082, 0.93319893662082]}], \"norm_macro_recall\": [{\"categories\": [\"0\", \"1\", \"2\", \"3\", \"4\", \"5\", \"6\", \"7\", \"8\", \"9\", \"10\", \"11\", \"12\", \"13\", \"14\", \"15\", \"16\", \"17\", \"18\", \"19\", \"25\", \"26\"], \"mode\": \"markers\", \"name\": \"norm_macro_recall\", \"stepped\": false, \"type\": \"scatter\", \"data\": [0.8364211902763173, 0.7876896664325589, 0.797413322215038, 0.8402855776733877, 0.7550886689561673, 0.8244816298580797, 0.7532298503870649, 0.8052887051573336, 0.8162816546285437, 0.8211487930660148, 0.8067907240118775, 0.8260595008100658, 0.7942434349753833, 0.8389387311756462, 0.7788438641084955, 0.7948002347419018, 0.8082298816279219, 0.8435898939663437, 0.8493150744492712, 0.7954806927529969, 0.86639787324164, 0.8563138396281946]}, {\"categories\": [\"0\", \"1\", \"2\", \"3\", \"4\", \"5\", \"6\", \"7\", \"8\", \"9\", \"10\", \"11\", \"12\", \"13\", \"14\", \"15\", \"16\", \"17\", \"18\", \"19\", \"25\", \"26\"], \"mode\": \"lines\", \"name\": \"norm_macro_recall_max\", \"stepped\": true, \"type\": \"scatter\", \"data\": [0.8364211902763173, 0.8364211902763173, 0.8364211902763173, 0.8402855776733877, 0.8402855776733877, 0.8402855776733877, 0.8402855776733877, 0.8402855776733877, 0.8402855776733877, 0.8402855776733877, 0.8402855776733877, 0.8402855776733877, 0.8402855776733877, 0.8402855776733877, 0.8402855776733877, 0.8402855776733877, 0.8402855776733877, 0.8435898939663437, 0.8493150744492712, 0.8493150744492712, 0.86639787324164, 0.86639787324164]}], \"precision_score_macro\": [{\"categories\": [\"0\", \"1\", \"2\", \"3\", \"4\", \"5\", \"6\", \"7\", \"8\", \"9\", \"10\", \"11\", \"12\", \"13\", \"14\", \"15\", \"16\", \"17\", \"18\", \"19\", \"25\", \"26\"], \"mode\": \"markers\", \"name\": \"precision_score_macro\", \"stepped\": false, \"type\": \"scatter\", \"data\": [0.9192347941740525, 0.9107678859146082, 0.9174987881842226, 0.9176881648921965, 0.8972155640629426, 0.9288021831891393, 0.9100507942981405, 0.9244982230370026, 0.9246184261134591, 0.9196083358905597, 0.9191499366953121, 0.925798607027747, 0.9182007741067968, 0.924971280907477, 0.9119119282401689, 0.9125922449127121, 0.9267977989159715, 0.9295311528122175, 0.9302080403923318, 0.9176135420010224, 0.9372159626115449, 0.9332290499779866]}, {\"categories\": [\"0\", \"1\", \"2\", \"3\", \"4\", \"5\", \"6\", \"7\", \"8\", \"9\", \"10\", \"11\", \"12\", \"13\", \"14\", \"15\", \"16\", \"17\", \"18\", \"19\", \"25\", \"26\"], \"mode\": \"lines\", \"name\": \"precision_score_macro_max\", \"stepped\": true, \"type\": \"scatter\", \"data\": [0.9192347941740525, 0.9192347941740525, 0.9192347941740525, 0.9192347941740525, 0.9192347941740525, 0.9288021831891393, 0.9288021831891393, 0.9288021831891393, 0.9288021831891393, 0.9288021831891393, 0.9288021831891393, 0.9288021831891393, 0.9288021831891393, 0.9288021831891393, 0.9288021831891393, 0.9288021831891393, 0.9288021831891393, 0.9295311528122175, 0.9302080403923318, 0.9302080403923318, 0.9372159626115449, 0.9372159626115449]}], \"AUC_micro\": [{\"categories\": [\"0\", \"1\", \"2\", \"3\", \"4\", \"5\", \"6\", \"7\", \"8\", \"9\", \"10\", \"11\", \"12\", \"13\", \"14\", \"15\", \"16\", \"17\", \"18\", \"19\", \"25\", \"26\"], \"mode\": \"markers\", \"name\": \"AUC_micro\", \"stepped\": false, \"type\": \"scatter\", \"data\": [0.9787857213522528, 0.9680486754951287, 0.9664162952808086, 0.9744157052248414, 0.95646424370764, 0.9559737179728771, 0.9614176712928938, 0.9805631226405612, 0.9811720423395581, 0.9626506154169885, 0.9740782485662779, 0.9766936039189451, 0.9726435743965176, 0.978550307472943, 0.971078296854291, 0.9718774340299369, 0.9805223624537536, 0.97892381329263, 0.9804067362171093, 0.9723205354394759, 0.9804211539186312, 0.9797462406015038]}, {\"categories\": [\"0\", \"1\", \"2\", \"3\", \"4\", \"5\", \"6\", \"7\", \"8\", \"9\", \"10\", \"11\", \"12\", \"13\", \"14\", \"15\", \"16\", \"17\", \"18\", \"19\", \"25\", \"26\"], \"mode\": \"lines\", \"name\": \"AUC_micro_max\", \"stepped\": true, \"type\": \"scatter\", \"data\": [0.9787857213522528, 0.9787857213522528, 0.9787857213522528, 0.9787857213522528, 0.9787857213522528, 0.9787857213522528, 0.9787857213522528, 0.9805631226405612, 0.9811720423395581, 0.9811720423395581, 0.9811720423395581, 0.9811720423395581, 0.9811720423395581, 0.9811720423395581, 0.9811720423395581, 0.9811720423395581, 0.9811720423395581, 0.9811720423395581, 0.9811720423395581, 0.9811720423395581, 0.9811720423395581, 0.9811720423395581]}], \"recall_score_macro\": [{\"categories\": [\"0\", \"1\", \"2\", \"3\", \"4\", \"5\", \"6\", \"7\", \"8\", \"9\", \"10\", \"11\", \"12\", \"13\", \"14\", \"15\", \"16\", \"17\", \"18\", \"19\", \"25\", \"26\"], \"mode\": \"markers\", \"name\": \"recall_score_macro\", \"stepped\": false, \"type\": \"scatter\", \"data\": [0.9182105951381587, 0.8938448332162794, 0.8987066611075191, 0.9201427888366938, 0.8775443344780838, 0.9122408149290399, 0.8766149251935327, 0.9026443525786666, 0.908140827314272, 0.9105743965330074, 0.9033953620059385, 0.9130297504050329, 0.8971217174876918, 0.9194693655878229, 0.8894219320542478, 0.8974001173709508, 0.9041149408139608, 0.9217949469831719, 0.9246575372246355, 0.8977403463764985, 0.93319893662082, 0.9281569198140973]}, {\"categories\": [\"0\", \"1\", \"2\", \"3\", \"4\", \"5\", \"6\", \"7\", \"8\", \"9\", \"10\", \"11\", \"12\", \"13\", \"14\", \"15\", \"16\", \"17\", \"18\", \"19\", \"25\", \"26\"], \"mode\": \"lines\", \"name\": \"recall_score_macro_max\", \"stepped\": true, \"type\": \"scatter\", \"data\": [0.9182105951381587, 0.9182105951381587, 0.9182105951381587, 0.9201427888366938, 0.9201427888366938, 0.9201427888366938, 0.9201427888366938, 0.9201427888366938, 0.9201427888366938, 0.9201427888366938, 0.9201427888366938, 0.9201427888366938, 0.9201427888366938, 0.9201427888366938, 0.9201427888366938, 0.9201427888366938, 0.9201427888366938, 0.9217949469831719, 0.9246575372246355, 0.9246575372246355, 0.93319893662082, 0.93319893662082]}], \"precision_score_weighted\": [{\"categories\": [\"0\", \"1\", \"2\", \"3\", \"4\", \"5\", \"6\", \"7\", \"8\", \"9\", \"10\", \"11\", \"12\", \"13\", \"14\", \"15\", \"16\", \"17\", \"18\", \"19\", \"25\", \"26\"], \"mode\": \"markers\", \"name\": \"precision_score_weighted\", \"stepped\": false, \"type\": \"scatter\", \"data\": [0.9268260876918551, 0.9105555001197168, 0.9161453154920107, 0.9252638451642443, 0.8976579053253675, 0.9282004580113343, 0.9045192651206285, 0.9243572778051726, 0.9261283112869565, 0.9237307735724208, 0.9182031946141065, 0.9256932079456739, 0.9162055591126258, 0.9294380588464582, 0.9094975627875412, 0.9130461637703527, 0.9262760762279025, 0.9313871909422987, 0.9323753518925496, 0.9154942866178024, 0.9408053222229036, 0.9368899473438119]}, {\"categories\": [\"0\", \"1\", \"2\", \"3\", \"4\", \"5\", \"6\", \"7\", \"8\", \"9\", \"10\", \"11\", \"12\", \"13\", \"14\", \"15\", \"16\", \"17\", \"18\", \"19\", \"25\", \"26\"], \"mode\": \"lines\", \"name\": \"precision_score_weighted_max\", \"stepped\": true, \"type\": \"scatter\", \"data\": [0.9268260876918551, 0.9268260876918551, 0.9268260876918551, 0.9268260876918551, 0.9268260876918551, 0.9282004580113343, 0.9282004580113343, 0.9282004580113343, 0.9282004580113343, 0.9282004580113343, 0.9282004580113343, 0.9282004580113343, 0.9282004580113343, 0.9294380588464582, 0.9294380588464582, 0.9294380588464582, 0.9294380588464582, 0.9313871909422987, 0.9323753518925496, 0.9323753518925496, 0.9408053222229036, 0.9408053222229036]}], \"recall_score_micro\": [{\"categories\": [\"0\", \"1\", \"2\", \"3\", \"4\", \"5\", \"6\", \"7\", \"8\", \"9\", \"10\", \"11\", \"12\", \"13\", \"14\", \"15\", \"16\", \"17\", \"18\", \"19\", \"25\", \"26\"], \"mode\": \"markers\", \"name\": \"recall_score_micro\", \"stepped\": false, \"type\": \"scatter\", \"data\": [0.9243734335839597, 0.9067355889724309, 0.9119987468671678, 0.9225877192982456, 0.8927005012531326, 0.9261278195488721, 0.8979636591478697, 0.9173245614035087, 0.9208333333333334, 0.9208646616541353, 0.9155388471177945, 0.9225877192982456, 0.9119987468671678, 0.9260651629072683, 0.9049812030075188, 0.9102756892230577, 0.919047619047619, 0.9296365914786966, 0.931422305764411, 0.9119987468671678, 0.938408521303258, 0.9348997493734335]}, {\"categories\": [\"0\", \"1\", \"2\", \"3\", \"4\", \"5\", \"6\", \"7\", \"8\", \"9\", \"10\", \"11\", \"12\", \"13\", \"14\", \"15\", \"16\", \"17\", \"18\", \"19\", \"25\", \"26\"], \"mode\": \"lines\", \"name\": \"recall_score_micro_max\", \"stepped\": true, \"type\": \"scatter\", \"data\": [0.9243734335839597, 0.9243734335839597, 0.9243734335839597, 0.9243734335839597, 0.9243734335839597, 0.9261278195488721, 0.9261278195488721, 0.9261278195488721, 0.9261278195488721, 0.9261278195488721, 0.9261278195488721, 0.9261278195488721, 0.9261278195488721, 0.9261278195488721, 0.9261278195488721, 0.9261278195488721, 0.9261278195488721, 0.9296365914786966, 0.931422305764411, 0.931422305764411, 0.938408521303258, 0.938408521303258]}], \"AUC_weighted\": [{\"categories\": [\"0\", \"1\", \"2\", \"3\", \"4\", \"5\", \"6\", \"7\", \"8\", \"9\", \"10\", \"11\", \"12\", \"13\", \"14\", \"15\", \"16\", \"17\", \"18\", \"19\", \"25\", \"26\"], \"mode\": \"markers\", \"name\": \"AUC_weighted\", \"stepped\": false, \"type\": \"scatter\", \"data\": [0.9773814891945802, 0.9652755052947463, 0.9662704832340345, 0.9745909722046193, 0.9594355849793457, 0.9446277944285291, 0.9694752685295495, 0.9808021550802211, 0.9816936073927094, 0.9572652904166169, 0.9743602925909475, 0.9771015167092496, 0.9749979451653342, 0.979304150427039, 0.9703067134631995, 0.974002851918676, 0.9816292667498505, 0.9780339763788918, 0.9798283969789725, 0.9747172295140312, 0.9799290111071098, 0.9787447946012152]}, {\"categories\": [\"0\", \"1\", \"2\", \"3\", \"4\", \"5\", \"6\", \"7\", \"8\", \"9\", \"10\", \"11\", \"12\", \"13\", \"14\", \"15\", \"16\", \"17\", \"18\", \"19\", \"25\", \"26\"], \"mode\": \"lines\", \"name\": \"AUC_weighted_max\", \"stepped\": true, \"type\": \"scatter\", \"data\": [0.9773814891945802, 0.9773814891945802, 0.9773814891945802, 0.9773814891945802, 0.9773814891945802, 0.9773814891945802, 0.9773814891945802, 0.9808021550802211, 0.9816936073927094, 0.9816936073927094, 0.9816936073927094, 0.9816936073927094, 0.9816936073927094, 0.9816936073927094, 0.9816936073927094, 0.9816936073927094, 0.9816936073927094, 0.9816936073927094, 0.9816936073927094, 0.9816936073927094, 0.9816936073927094, 0.9816936073927094]}], \"f1_score_macro\": [{\"categories\": [\"0\", \"1\", \"2\", \"3\", \"4\", \"5\", \"6\", \"7\", \"8\", \"9\", \"10\", \"11\", \"12\", \"13\", \"14\", \"15\", \"16\", \"17\", \"18\", \"19\", \"25\", \"26\"], \"mode\": \"markers\", \"name\": \"f1_score_macro\", \"stepped\": false, \"type\": \"scatter\", \"data\": [0.9171851072639103, 0.8979470598309908, 0.9037642667039645, 0.9171876408527935, 0.8821755745365634, 0.9183309435136989, 0.8863984494692249, 0.9077015534544882, 0.9120271806790262, 0.9128155232821265, 0.9081475573800641, 0.9165776018097123, 0.9032631187844828, 0.9194637625360471, 0.895619593374418, 0.9017581501219197, 0.909379299812613, 0.9240346729385926, 0.9262951522103064, 0.9037508940686314, 0.9333096473162961, 0.9290992143752572]}, {\"categories\": [\"0\", \"1\", \"2\", \"3\", \"4\", \"5\", \"6\", \"7\", \"8\", \"9\", \"10\", \"11\", \"12\", \"13\", \"14\", \"15\", \"16\", \"17\", \"18\", \"19\", \"25\", \"26\"], \"mode\": \"lines\", \"name\": \"f1_score_macro_max\", \"stepped\": true, \"type\": \"scatter\", \"data\": [0.9171851072639103, 0.9171851072639103, 0.9171851072639103, 0.9171876408527935, 0.9171876408527935, 0.9183309435136989, 0.9183309435136989, 0.9183309435136989, 0.9183309435136989, 0.9183309435136989, 0.9183309435136989, 0.9183309435136989, 0.9183309435136989, 0.9194637625360471, 0.9194637625360471, 0.9194637625360471, 0.9194637625360471, 0.9240346729385926, 0.9262951522103064, 0.9262951522103064, 0.9333096473162961, 0.9333096473162961]}], \"accuracy\": [{\"categories\": [\"0\", \"1\", \"2\", \"3\", \"4\", \"5\", \"6\", \"7\", \"8\", \"9\", \"10\", \"11\", \"12\", \"13\", \"14\", \"15\", \"16\", \"17\", \"18\", \"19\", \"25\", \"26\"], \"mode\": \"markers\", \"name\": \"accuracy\", \"stepped\": false, \"type\": \"scatter\", \"data\": [0.9243734335839597, 0.9067355889724309, 0.9119987468671678, 0.9225877192982456, 0.8927005012531326, 0.9261278195488721, 0.8979636591478697, 0.9173245614035087, 0.9208333333333334, 0.9208646616541353, 0.9155388471177945, 0.9225877192982456, 0.9119987468671678, 0.9260651629072683, 0.9049812030075188, 0.9102756892230577, 0.919047619047619, 0.9296365914786966, 0.931422305764411, 0.9119987468671678, 0.938408521303258, 0.9348997493734335]}, {\"categories\": [\"0\", \"1\", \"2\", \"3\", \"4\", \"5\", \"6\", \"7\", \"8\", \"9\", \"10\", \"11\", \"12\", \"13\", \"14\", \"15\", \"16\", \"17\", \"18\", \"19\", \"25\", \"26\"], \"mode\": \"lines\", \"name\": \"accuracy_max\", \"stepped\": true, \"type\": \"scatter\", \"data\": [0.9243734335839597, 0.9243734335839597, 0.9243734335839597, 0.9243734335839597, 0.9243734335839597, 0.9261278195488721, 0.9261278195488721, 0.9261278195488721, 0.9261278195488721, 0.9261278195488721, 0.9261278195488721, 0.9261278195488721, 0.9261278195488721, 0.9261278195488721, 0.9261278195488721, 0.9261278195488721, 0.9261278195488721, 0.9296365914786966, 0.931422305764411, 0.931422305764411, 0.938408521303258, 0.938408521303258]}], \"precision_score_micro\": [{\"categories\": [\"0\", \"1\", \"2\", \"3\", \"4\", \"5\", \"6\", \"7\", \"8\", \"9\", \"10\", \"11\", \"12\", \"13\", \"14\", \"15\", \"16\", \"17\", \"18\", \"19\", \"25\", \"26\"], \"mode\": \"markers\", \"name\": \"precision_score_micro\", \"stepped\": false, \"type\": \"scatter\", \"data\": [0.9243734335839597, 0.9067355889724309, 0.9119987468671678, 0.9225877192982456, 0.8927005012531326, 0.9261278195488721, 0.8979636591478697, 0.9173245614035087, 0.9208333333333334, 0.9208646616541353, 0.9155388471177945, 0.9225877192982456, 0.9119987468671678, 0.9260651629072683, 0.9049812030075188, 0.9102756892230577, 0.919047619047619, 0.9296365914786966, 0.931422305764411, 0.9119987468671678, 0.938408521303258, 0.9348997493734335]}, {\"categories\": [\"0\", \"1\", \"2\", \"3\", \"4\", \"5\", \"6\", \"7\", \"8\", \"9\", \"10\", \"11\", \"12\", \"13\", \"14\", \"15\", \"16\", \"17\", \"18\", \"19\", \"25\", \"26\"], \"mode\": \"lines\", \"name\": \"precision_score_micro_max\", \"stepped\": true, \"type\": \"scatter\", \"data\": [0.9243734335839597, 0.9243734335839597, 0.9243734335839597, 0.9243734335839597, 0.9243734335839597, 0.9261278195488721, 0.9261278195488721, 0.9261278195488721, 0.9261278195488721, 0.9261278195488721, 0.9261278195488721, 0.9261278195488721, 0.9261278195488721, 0.9261278195488721, 0.9261278195488721, 0.9261278195488721, 0.9261278195488721, 0.9296365914786966, 0.931422305764411, 0.931422305764411, 0.938408521303258, 0.938408521303258]}], \"recall_score_weighted\": [{\"categories\": [\"0\", \"1\", \"2\", \"3\", \"4\", \"5\", \"6\", \"7\", \"8\", \"9\", \"10\", \"11\", \"12\", \"13\", \"14\", \"15\", \"16\", \"17\", \"18\", \"19\", \"25\", \"26\"], \"mode\": \"markers\", \"name\": \"recall_score_weighted\", \"stepped\": false, \"type\": \"scatter\", \"data\": [0.9243734335839597, 0.9067355889724309, 0.9119987468671678, 0.9225877192982456, 0.8927005012531326, 0.9261278195488721, 0.8979636591478697, 0.9173245614035087, 0.9208333333333334, 0.9208646616541353, 0.9155388471177945, 0.9225877192982456, 0.9119987468671678, 0.9260651629072683, 0.9049812030075188, 0.9102756892230577, 0.919047619047619, 0.9296365914786966, 0.931422305764411, 0.9119987468671678, 0.938408521303258, 0.9348997493734335]}, {\"categories\": [\"0\", \"1\", \"2\", \"3\", \"4\", \"5\", \"6\", \"7\", \"8\", \"9\", \"10\", \"11\", \"12\", \"13\", \"14\", \"15\", \"16\", \"17\", \"18\", \"19\", \"25\", \"26\"], \"mode\": \"lines\", \"name\": \"recall_score_weighted_max\", \"stepped\": true, \"type\": \"scatter\", \"data\": [0.9243734335839597, 0.9243734335839597, 0.9243734335839597, 0.9243734335839597, 0.9243734335839597, 0.9261278195488721, 0.9261278195488721, 0.9261278195488721, 0.9261278195488721, 0.9261278195488721, 0.9261278195488721, 0.9261278195488721, 0.9261278195488721, 0.9261278195488721, 0.9261278195488721, 0.9261278195488721, 0.9261278195488721, 0.9296365914786966, 0.931422305764411, 0.931422305764411, 0.938408521303258, 0.938408521303258]}], \"average_precision_score_micro\": [{\"categories\": [\"0\", \"1\", \"2\", \"3\", \"4\", \"5\", \"6\", \"7\", \"8\", \"9\", \"10\", \"11\", \"12\", \"13\", \"14\", \"15\", \"16\", \"17\", \"18\", \"19\", \"25\", \"26\"], \"mode\": \"markers\", \"name\": \"average_precision_score_micro\", \"stepped\": false, \"type\": \"scatter\", \"data\": [0.9796992152407007, 0.9680637041201056, 0.9640901615135278, 0.9740061830506104, 0.9564192099528681, 0.9516524846233878, 0.9611178336190644, 0.9816403562632647, 0.9821985685065696, 0.961144174247625, 0.9745351625520859, 0.9767281020209808, 0.972445853749065, 0.9793435720943215, 0.9718423094387649, 0.9724683560630558, 0.9815740902737085, 0.9793886513905032, 0.9811027754851669, 0.9732587526899008, 0.9801966635796223, 0.9796666129274136]}, {\"categories\": [\"0\", \"1\", \"2\", \"3\", \"4\", \"5\", \"6\", \"7\", \"8\", \"9\", \"10\", \"11\", \"12\", \"13\", \"14\", \"15\", \"16\", \"17\", \"18\", \"19\", \"25\", \"26\"], \"mode\": \"lines\", \"name\": \"average_precision_score_micro_max\", \"stepped\": true, \"type\": \"scatter\", \"data\": [0.9796992152407007, 0.9796992152407007, 0.9796992152407007, 0.9796992152407007, 0.9796992152407007, 0.9796992152407007, 0.9796992152407007, 0.9816403562632647, 0.9821985685065696, 0.9821985685065696, 0.9821985685065696, 0.9821985685065696, 0.9821985685065696, 0.9821985685065696, 0.9821985685065696, 0.9821985685065696, 0.9821985685065696, 0.9821985685065696, 0.9821985685065696, 0.9821985685065696, 0.9821985685065696, 0.9821985685065696]}], \"log_loss\": [{\"categories\": [\"0\", \"1\", \"2\", \"3\", \"4\", \"5\", \"6\", \"7\", \"8\", \"9\", \"10\", \"11\", \"12\", \"13\", \"14\", \"15\", \"16\", \"17\", \"18\", \"19\", \"25\", \"26\"], \"mode\": \"markers\", \"name\": \"log_loss\", \"stepped\": false, \"type\": \"scatter\", \"data\": [0.24927938382759157, 0.2802836265527736, 0.33959569454260186, 0.25151290581562624, 0.27932947938554703, 0.2662974823639595, 0.3399108184585853, 0.25819205110015436, 0.22797123900943764, 0.23059933593194012, 0.22821092390418612, 0.21148452691973532, 0.2911806218938148, 0.18976989429617155, 0.24712315902179632, 0.2735682275879241, 0.21058756068759815, 0.18956453937651627, 0.18796067048535084, 0.2693537198150873, 0.1893140057334594, 0.21541517578663344]}, {\"categories\": [\"0\", \"1\", \"2\", \"3\", \"4\", \"5\", \"6\", \"7\", \"8\", \"9\", \"10\", \"11\", \"12\", \"13\", \"14\", \"15\", \"16\", \"17\", \"18\", \"19\", \"25\", \"26\"], \"mode\": \"lines\", \"name\": \"log_loss_min\", \"stepped\": true, \"type\": \"scatter\", \"data\": [0.24927938382759157, 0.24927938382759157, 0.24927938382759157, 0.24927938382759157, 0.24927938382759157, 0.24927938382759157, 0.24927938382759157, 0.24927938382759157, 0.22797123900943764, 0.22797123900943764, 0.22797123900943764, 0.21148452691973532, 0.21148452691973532, 0.18976989429617155, 0.18976989429617155, 0.18976989429617155, 0.18976989429617155, 0.18956453937651627, 0.18796067048535084, 0.18796067048535084, 0.18796067048535084, 0.18796067048535084]}], \"f1_score_weighted\": [{\"categories\": [\"0\", \"1\", \"2\", \"3\", \"4\", \"5\", \"6\", \"7\", \"8\", \"9\", \"10\", \"11\", \"12\", \"13\", \"14\", \"15\", \"16\", \"17\", \"18\", \"19\", \"25\", \"26\"], \"mode\": \"markers\", \"name\": \"f1_score_weighted\", \"stepped\": false, \"type\": \"scatter\", \"data\": [0.9243524885717143, 0.9049454897749261, 0.9103327110578924, 0.9226094048618109, 0.8906832248476757, 0.925279333591113, 0.8952265611133408, 0.9158229679630076, 0.9197219573211213, 0.9203845427673253, 0.9142227515942096, 0.92163410680287, 0.9103460940673713, 0.9255663635702984, 0.9029264937298823, 0.9088887241261189, 0.9174584324865611, 0.9291558460377847, 0.9309313259011052, 0.9103690684282656, 0.9380847092031038, 0.9345735418297023]}, {\"categories\": [\"0\", \"1\", \"2\", \"3\", \"4\", \"5\", \"6\", \"7\", \"8\", \"9\", \"10\", \"11\", \"12\", \"13\", \"14\", \"15\", \"16\", \"17\", \"18\", \"19\", \"25\", \"26\"], \"mode\": \"lines\", \"name\": \"f1_score_weighted_max\", \"stepped\": true, \"type\": \"scatter\", \"data\": [0.9243524885717143, 0.9243524885717143, 0.9243524885717143, 0.9243524885717143, 0.9243524885717143, 0.925279333591113, 0.925279333591113, 0.925279333591113, 0.925279333591113, 0.925279333591113, 0.925279333591113, 0.925279333591113, 0.925279333591113, 0.9255663635702984, 0.9255663635702984, 0.9255663635702984, 0.9255663635702984, 0.9291558460377847, 0.9309313259011052, 0.9309313259011052, 0.9380847092031038, 0.9380847092031038]}], \"weighted_accuracy\": [{\"categories\": [\"0\", \"1\", \"2\", \"3\", \"4\", \"5\", \"6\", \"7\", \"8\", \"9\", \"10\", \"11\", \"12\", \"13\", \"14\", \"15\", \"16\", \"17\", \"18\", \"19\", \"25\", \"26\"], \"mode\": \"markers\", \"name\": \"weighted_accuracy\", \"stepped\": false, \"type\": \"scatter\", \"data\": [0.9298003113675322, 0.9184240858817578, 0.9241435392808235, 0.9256198865927552, 0.9063133860927264, 0.9375233452608542, 0.9164699404374973, 0.930498759436843, 0.9322677348508727, 0.9295313757362076, 0.9265243156539089, 0.9314963563059241, 0.9254256108323844, 0.9326056964079147, 0.9189016601237278, 0.922007258240118, 0.9324600407197398, 0.9369241211238316, 0.9375528373091992, 0.9247800168542988, 0.9436932022782502, 0.9409908015469304]}, {\"categories\": [\"0\", \"1\", \"2\", \"3\", \"4\", \"5\", \"6\", \"7\", \"8\", \"9\", \"10\", \"11\", \"12\", \"13\", \"14\", \"15\", \"16\", \"17\", \"18\", \"19\", \"25\", \"26\"], \"mode\": \"lines\", \"name\": \"weighted_accuracy_max\", \"stepped\": true, \"type\": \"scatter\", \"data\": [0.9298003113675322, 0.9298003113675322, 0.9298003113675322, 0.9298003113675322, 0.9298003113675322, 0.9375233452608542, 0.9375233452608542, 0.9375233452608542, 0.9375233452608542, 0.9375233452608542, 0.9375233452608542, 0.9375233452608542, 0.9375233452608542, 0.9375233452608542, 0.9375233452608542, 0.9375233452608542, 0.9375233452608542, 0.9375233452608542, 0.9375528373091992, 0.9375528373091992, 0.9436932022782502, 0.9436932022782502]}]}, \"metricName\": null, \"primaryMetricName\": \"accuracy\", \"showLegend\": false}, \"run_metrics\": [{\"name\": \"experiment_status\", \"run_id\": \"AutoML_7d0ce565-819d-4c55-a1b1-ab7176b64c1d\", \"categories\": [0, 1, 2, 3, 4, 5, 6, 7, 8, 9, 10, 11, 12, 13], \"series\": [{\"data\": [\"DatasetEvaluation\", \"FeaturesGeneration\", \"DatasetFeaturization\", \"DatasetFeaturizationCompleted\", \"DatasetCrossValidationSplit\", \"ModelSelection\", \"BestRunExplainModel\", \"ModelExplanationDataSetSetup\", \"PickSurrogateModel\", \"EngineeredFeatureExplanations\", \"EngineeredFeatureExplanations\", \"RawFeaturesExplanations\", \"RawFeaturesExplanations\", \"BestRunExplainModel\"]}]}, {\"name\": \"experiment_status_description\", \"run_id\": \"AutoML_7d0ce565-819d-4c55-a1b1-ab7176b64c1d\", \"categories\": [0, 1, 2, 3, 4, 5, 6, 7, 8, 9, 10, 11, 12, 13], \"series\": [{\"data\": [\"Gathering dataset statistics.\", \"Generating features for the dataset.\", \"Beginning to fit featurizers and featurize the dataset.\", \"Completed fit featurizers and featurizing the dataset.\", \"Generating individually featurized CV splits.\", \"Beginning model selection.\", \"Best run model explanations started\", \"Model explanations data setup completed\", \"Choosing LightGBM as the surrogate model for explanations\", \"Computation of engineered features started\", \"Computation of engineered features completed\", \"Computation of raw features started\", \"Computation of raw features completed\", \"Best run model explanations completed\"]}]}, {\"name\": \"precision_score_macro\", \"run_id\": \"AutoML_7d0ce565-819d-4c55-a1b1-ab7176b64c1d\", \"categories\": [0], \"series\": [{\"data\": [0.9372159626115449]}]}, {\"name\": \"f1_score_micro\", \"run_id\": \"AutoML_7d0ce565-819d-4c55-a1b1-ab7176b64c1d\", \"categories\": [0], \"series\": [{\"data\": [0.938408521303258]}]}, {\"name\": \"log_loss\", \"run_id\": \"AutoML_7d0ce565-819d-4c55-a1b1-ab7176b64c1d\", \"categories\": [0], \"series\": [{\"data\": [0.1893140057334594]}]}, {\"name\": \"balanced_accuracy\", \"run_id\": \"AutoML_7d0ce565-819d-4c55-a1b1-ab7176b64c1d\", \"categories\": [0], \"series\": [{\"data\": [0.93319893662082]}]}, {\"name\": \"matthews_correlation\", \"run_id\": \"AutoML_7d0ce565-819d-4c55-a1b1-ab7176b64c1d\", \"categories\": [0], \"series\": [{\"data\": [0.870029125348502]}]}, {\"name\": \"recall_score_micro\", \"run_id\": \"AutoML_7d0ce565-819d-4c55-a1b1-ab7176b64c1d\", \"categories\": [0], \"series\": [{\"data\": [0.938408521303258]}]}, {\"name\": \"recall_score_weighted\", \"run_id\": \"AutoML_7d0ce565-819d-4c55-a1b1-ab7176b64c1d\", \"categories\": [0], \"series\": [{\"data\": [0.938408521303258]}]}, {\"name\": \"average_precision_score_micro\", \"run_id\": \"AutoML_7d0ce565-819d-4c55-a1b1-ab7176b64c1d\", \"categories\": [0], \"series\": [{\"data\": [0.9801966635796223]}]}, {\"name\": \"AUC_weighted\", \"run_id\": \"AutoML_7d0ce565-819d-4c55-a1b1-ab7176b64c1d\", \"categories\": [0], \"series\": [{\"data\": [0.9799290111071098]}]}, {\"name\": \"average_precision_score_weighted\", \"run_id\": \"AutoML_7d0ce565-819d-4c55-a1b1-ab7176b64c1d\", \"categories\": [0], \"series\": [{\"data\": [0.9807771930602863]}]}, {\"name\": \"f1_score_macro\", \"run_id\": \"AutoML_7d0ce565-819d-4c55-a1b1-ab7176b64c1d\", \"categories\": [0], \"series\": [{\"data\": [0.9333096473162961]}]}, {\"name\": \"accuracy\", \"run_id\": \"AutoML_7d0ce565-819d-4c55-a1b1-ab7176b64c1d\", \"categories\": [0], \"series\": [{\"data\": [0.938408521303258]}]}, {\"name\": \"f1_score_weighted\", \"run_id\": \"AutoML_7d0ce565-819d-4c55-a1b1-ab7176b64c1d\", \"categories\": [0], \"series\": [{\"data\": [0.9380847092031038]}]}, {\"name\": \"AUC_macro\", \"run_id\": \"AutoML_7d0ce565-819d-4c55-a1b1-ab7176b64c1d\", \"categories\": [0], \"series\": [{\"data\": [0.9799290111071098]}]}, {\"name\": \"AUC_micro\", \"run_id\": \"AutoML_7d0ce565-819d-4c55-a1b1-ab7176b64c1d\", \"categories\": [0], \"series\": [{\"data\": [0.9804211539186312]}]}, {\"name\": \"average_precision_score_macro\", \"run_id\": \"AutoML_7d0ce565-819d-4c55-a1b1-ab7176b64c1d\", \"categories\": [0], \"series\": [{\"data\": [0.9797691964179119]}]}, {\"name\": \"weighted_accuracy\", \"run_id\": \"AutoML_7d0ce565-819d-4c55-a1b1-ab7176b64c1d\", \"categories\": [0], \"series\": [{\"data\": [0.9436932022782502]}]}, {\"name\": \"norm_macro_recall\", \"run_id\": \"AutoML_7d0ce565-819d-4c55-a1b1-ab7176b64c1d\", \"categories\": [0], \"series\": [{\"data\": [0.86639787324164]}]}, {\"name\": \"recall_score_macro\", \"run_id\": \"AutoML_7d0ce565-819d-4c55-a1b1-ab7176b64c1d\", \"categories\": [0], \"series\": [{\"data\": [0.93319893662082]}]}, {\"name\": \"precision_score_micro\", \"run_id\": \"AutoML_7d0ce565-819d-4c55-a1b1-ab7176b64c1d\", \"categories\": [0], \"series\": [{\"data\": [0.938408521303258]}]}, {\"name\": \"precision_score_weighted\", \"run_id\": \"AutoML_7d0ce565-819d-4c55-a1b1-ab7176b64c1d\", \"categories\": [0], \"series\": [{\"data\": [0.9408053222229036]}]}], \"run_logs\": \"\\nRun is completed.\", \"graph\": {}, \"widget_settings\": {\"childWidgetDisplay\": \"popup\", \"send_telemetry\": false, \"log_level\": \"INFO\", \"sdk_version\": \"1.26.0\"}, \"loading\": false}"
     },
     "metadata": {},
     "output_type": "display_data"
    }
   ],
   "source": [
    "RunDetails(remote_run).show()"
   ]
  },
  {
   "cell_type": "code",
   "execution_count": 9,
   "metadata": {},
   "outputs": [
    {
     "data": {
      "text/html": [
       "<table style=\"width:100%\"><tr><th>Experiment</th><th>Id</th><th>Type</th><th>Status</th><th>Details Page</th><th>Docs Page</th></tr><tr><td>predict-breast-cancer-automl</td><td>AutoML_7d0ce565-819d-4c55-a1b1-ab7176b64c1d</td><td>automl</td><td>Completed</td><td><a href=\"https://ml.azure.com/runs/AutoML_7d0ce565-819d-4c55-a1b1-ab7176b64c1d?wsid=/subscriptions/f5091c60-1c3c-430f-8d81-d802f6bf2414/resourcegroups/aml-quickstarts-142685/workspaces/quick-starts-ws-142685&amp;tid=660b3398-b80e-49d2-bc5b-ac1dc93b5254\" target=\"_blank\" rel=\"noopener\">Link to Azure Machine Learning studio</a></td><td><a href=\"https://docs.microsoft.com/en-us/python/api/overview/azure/ml/intro?view=azure-ml-py\" target=\"_blank\" rel=\"noopener\">Link to Documentation</a></td></tr></table>"
      ],
      "text/plain": [
       "<IPython.core.display.HTML object>"
      ]
     },
     "metadata": {},
     "output_type": "display_data"
    },
    {
     "name": "stdout",
     "output_type": "stream",
     "text": [
      "\n",
      "\n",
      "****************************************************************************************************\n",
      "DATA GUARDRAILS: \n",
      "\n",
      "TYPE:         Cross validation\n",
      "STATUS:       DONE\n",
      "DESCRIPTION:  Each iteration of the trained model was validated through cross-validation.\n",
      "              \n",
      "DETAILS:      \n",
      "+---------------------------------+\n",
      "|Number of folds                  |\n",
      "+=================================+\n",
      "|10                               |\n",
      "+---------------------------------+\n",
      "\n",
      "****************************************************************************************************\n",
      "\n",
      "TYPE:         Class balancing detection\n",
      "STATUS:       PASSED\n",
      "DESCRIPTION:  Your inputs were analyzed, and all classes are balanced in your training data.\n",
      "              Learn more about imbalanced data: https://aka.ms/AutomatedMLImbalancedData\n",
      "\n",
      "****************************************************************************************************\n",
      "\n",
      "TYPE:         Missing feature values imputation\n",
      "STATUS:       PASSED\n",
      "DESCRIPTION:  No feature missing values were detected in the training data.\n",
      "              Learn more about missing value imputation: https://aka.ms/AutomatedMLFeaturization\n",
      "\n",
      "****************************************************************************************************\n",
      "\n",
      "TYPE:         High cardinality feature detection\n",
      "STATUS:       PASSED\n",
      "DESCRIPTION:  Your inputs were analyzed, and no high cardinality features were detected.\n",
      "              Learn more about high cardinality feature handling: https://aka.ms/AutomatedMLFeaturization\n",
      "\n",
      "****************************************************************************************************\n",
      "\n",
      "****************************************************************************************************\n",
      "ITERATION: The iteration being evaluated.\n",
      "PIPELINE: A summary description of the pipeline being evaluated.\n",
      "DURATION: Time taken for the current iteration.\n",
      "METRIC: The result of computing score on the fitted pipeline.\n",
      "BEST: The best observed score thus far.\n",
      "****************************************************************************************************\n",
      "\n",
      " ITERATION   PIPELINE                                       DURATION      METRIC      BEST\n",
      "         0   MaxAbsScaler LightGBM                          0:06:13       0.9244    0.9244\n",
      "         1   MinMaxScaler RandomForest                      0:06:09       0.9067    0.9244\n",
      "         2   MinMaxScaler RandomForest                      0:06:09       0.9120    0.9244\n",
      "         3   MinMaxScaler RandomForest                      0:06:07       0.9226    0.9244\n",
      "         4   MinMaxScaler RandomForest                      0:06:08       0.8927    0.9244\n",
      "         5   MinMaxScaler SVM                               0:05:57       0.9261    0.9261\n",
      "         6   StandardScalerWrapper GradientBoosting         0:05:56       0.8980    0.9261\n",
      "         7   StandardScalerWrapper SGD                      0:06:01       0.9173    0.9261\n",
      "         8   StandardScalerWrapper SGD                      0:05:55       0.9208    0.9261\n",
      "         9   RobustScaler SVM                               0:05:53       0.9209    0.9261\n",
      "        10   MaxAbsScaler RandomForest                      0:06:05       0.9155    0.9261\n",
      "        11   StandardScalerWrapper RandomForest             0:05:54       0.9226    0.9261\n",
      "        12   MaxAbsScaler LightGBM                          0:05:53       0.9120    0.9261\n",
      "        13   MinMaxScaler LightGBM                          0:05:55       0.9261    0.9261\n",
      "        14   StandardScalerWrapper RandomForest             0:06:05       0.9050    0.9261\n",
      "        15   MinMaxScaler LightGBM                          0:06:02       0.9103    0.9261\n",
      "        16   MinMaxScaler LogisticRegression                0:05:51       0.9190    0.9261\n",
      "        17   StandardScalerWrapper LightGBM                 0:05:55       0.9296    0.9296\n",
      "        18   MinMaxScaler LightGBM                          0:05:49       0.9314    0.9314\n",
      "        19   StandardScalerWrapper LightGBM                 0:05:48       0.9120    0.9314\n",
      "        20                                                  0:05:24          nan    0.9314\n",
      "ERROR: {\n",
      "    \"additional_properties\": {},\n",
      "    \"error\": {\n",
      "        \"additional_properties\": {\n",
      "            \"debugInfo\": null\n",
      "        },\n",
      "        \"code\": \"UserError\",\n",
      "        \"severity\": null,\n",
      "        \"message\": \"Experiment timeout reached, please consider increasing your experiment timeout.\",\n",
      "        \"message_format\": \"Experiment timeout reached, please consider increasing your experiment timeout.\",\n",
      "        \"message_parameters\": {},\n",
      "        \"reference_code\": null,\n",
      "        \"details_uri\": null,\n",
      "        \"target\": null,\n",
      "        \"details\": [],\n",
      "        \"inner_error\": {\n",
      "            \"additional_properties\": {},\n",
      "            \"code\": \"ResourceExhausted\",\n",
      "            \"inner_error\": {\n",
      "                \"additional_properties\": {},\n",
      "                \"code\": \"Timeout\",\n",
      "                \"inner_error\": {\n",
      "                    \"additional_properties\": {},\n",
      "                    \"code\": \"ExperimentTimeoutForIterations\",\n",
      "                    \"inner_error\": null\n",
      "                }\n",
      "            }\n",
      "        }\n",
      "    },\n",
      "    \"correlation\": null,\n",
      "    \"environment\": null,\n",
      "    \"location\": null,\n",
      "    \"time\": {},\n",
      "    \"component_name\": null\n",
      "}\n",
      "        21                                                  0:05:23          nan    0.9314\n",
      "ERROR: {\n",
      "    \"additional_properties\": {},\n",
      "    \"error\": {\n",
      "        \"additional_properties\": {\n",
      "            \"debugInfo\": null\n",
      "        },\n",
      "        \"code\": \"UserError\",\n",
      "        \"severity\": null,\n",
      "        \"message\": \"Experiment timeout reached, please consider increasing your experiment timeout.\",\n",
      "        \"message_format\": \"Experiment timeout reached, please consider increasing your experiment timeout.\",\n",
      "        \"message_parameters\": {},\n",
      "        \"reference_code\": null,\n",
      "        \"details_uri\": null,\n",
      "        \"target\": null,\n",
      "        \"details\": [],\n",
      "        \"inner_error\": {\n",
      "            \"additional_properties\": {},\n",
      "            \"code\": \"ResourceExhausted\",\n",
      "            \"inner_error\": {\n",
      "                \"additional_properties\": {},\n",
      "                \"code\": \"Timeout\",\n",
      "                \"inner_error\": {\n",
      "                    \"additional_properties\": {},\n",
      "                    \"code\": \"ExperimentTimeoutForIterations\",\n",
      "                    \"inner_error\": null\n",
      "                }\n",
      "            }\n",
      "        }\n",
      "    },\n",
      "    \"correlation\": null,\n",
      "    \"environment\": null,\n",
      "    \"location\": null,\n",
      "    \"time\": {},\n",
      "    \"component_name\": null\n",
      "}\n",
      "        22                                                  0:05:23          nan    0.9314\n",
      "ERROR: {\n",
      "    \"additional_properties\": {},\n",
      "    \"error\": {\n",
      "        \"additional_properties\": {\n",
      "            \"debugInfo\": null\n",
      "        },\n",
      "        \"code\": \"UserError\",\n",
      "        \"severity\": null,\n",
      "        \"message\": \"Experiment timeout reached, please consider increasing your experiment timeout.\",\n",
      "        \"message_format\": \"Experiment timeout reached, please consider increasing your experiment timeout.\",\n",
      "        \"message_parameters\": {},\n",
      "        \"reference_code\": null,\n",
      "        \"details_uri\": null,\n",
      "        \"target\": null,\n",
      "        \"details\": [],\n",
      "        \"inner_error\": {\n",
      "            \"additional_properties\": {},\n",
      "            \"code\": \"ResourceExhausted\",\n",
      "            \"inner_error\": {\n",
      "                \"additional_properties\": {},\n",
      "                \"code\": \"Timeout\",\n",
      "                \"inner_error\": {\n",
      "                    \"additional_properties\": {},\n",
      "                    \"code\": \"ExperimentTimeoutForIterations\",\n",
      "                    \"inner_error\": null\n",
      "                }\n",
      "            }\n",
      "        }\n",
      "    },\n",
      "    \"correlation\": null,\n",
      "    \"environment\": null,\n",
      "    \"location\": null,\n",
      "    \"time\": {},\n",
      "    \"component_name\": null\n",
      "}\n",
      "        23                                                  0:05:21          nan    0.9314\n",
      "ERROR: {\n",
      "    \"additional_properties\": {},\n",
      "    \"error\": {\n",
      "        \"additional_properties\": {\n",
      "            \"debugInfo\": null\n",
      "        },\n",
      "        \"code\": \"UserError\",\n",
      "        \"severity\": null,\n",
      "        \"message\": \"Experiment timeout reached, please consider increasing your experiment timeout.\",\n",
      "        \"message_format\": \"Experiment timeout reached, please consider increasing your experiment timeout.\",\n",
      "        \"message_parameters\": {},\n",
      "        \"reference_code\": null,\n",
      "        \"details_uri\": null,\n",
      "        \"target\": null,\n",
      "        \"details\": [],\n",
      "        \"inner_error\": {\n",
      "            \"additional_properties\": {},\n",
      "            \"code\": \"ResourceExhausted\",\n",
      "            \"inner_error\": {\n",
      "                \"additional_properties\": {},\n",
      "                \"code\": \"Timeout\",\n",
      "                \"inner_error\": {\n",
      "                    \"additional_properties\": {},\n",
      "                    \"code\": \"ExperimentTimeoutForIterations\",\n",
      "                    \"inner_error\": null\n",
      "                }\n",
      "            }\n",
      "        }\n",
      "    },\n",
      "    \"correlation\": null,\n",
      "    \"environment\": null,\n",
      "    \"location\": null,\n",
      "    \"time\": {},\n",
      "    \"component_name\": null\n",
      "}\n"
     ]
    },
    {
     "name": "stdout",
     "output_type": "stream",
     "text": [
      "        24                                                  0:05:10          nan    0.9314\n",
      "ERROR: {\n",
      "    \"additional_properties\": {},\n",
      "    \"error\": {\n",
      "        \"additional_properties\": {\n",
      "            \"debugInfo\": null\n",
      "        },\n",
      "        \"code\": \"UserError\",\n",
      "        \"severity\": null,\n",
      "        \"message\": \"Experiment timeout reached, please consider increasing your experiment timeout.\",\n",
      "        \"message_format\": \"Experiment timeout reached, please consider increasing your experiment timeout.\",\n",
      "        \"message_parameters\": {},\n",
      "        \"reference_code\": null,\n",
      "        \"details_uri\": null,\n",
      "        \"target\": null,\n",
      "        \"details\": [],\n",
      "        \"inner_error\": {\n",
      "            \"additional_properties\": {},\n",
      "            \"code\": \"ResourceExhausted\",\n",
      "            \"inner_error\": {\n",
      "                \"additional_properties\": {},\n",
      "                \"code\": \"Timeout\",\n",
      "                \"inner_error\": {\n",
      "                    \"additional_properties\": {},\n",
      "                    \"code\": \"ExperimentTimeoutForIterations\",\n",
      "                    \"inner_error\": null\n",
      "                }\n",
      "            }\n",
      "        }\n",
      "    },\n",
      "    \"correlation\": null,\n",
      "    \"environment\": null,\n",
      "    \"location\": null,\n",
      "    \"time\": {},\n",
      "    \"component_name\": null\n",
      "}\n",
      "        25    VotingEnsemble                                0:07:36       0.9384    0.9384\n",
      "        26    StackEnsemble                                 0:06:37       0.9349    0.9384\n"
     ]
    },
    {
     "data": {
      "text/plain": [
       "{'runId': 'AutoML_7d0ce565-819d-4c55-a1b1-ab7176b64c1d',\n",
       " 'target': 'notebook142685',\n",
       " 'status': 'Completed',\n",
       " 'startTimeUtc': '2021-04-14T15:10:42.124821Z',\n",
       " 'endTimeUtc': '2021-04-14T16:04:06.002361Z',\n",
       " 'properties': {'num_iterations': '1000',\n",
       "  'training_type': 'TrainFull',\n",
       "  'acquisition_function': 'EI',\n",
       "  'primary_metric': 'accuracy',\n",
       "  'train_split': '0',\n",
       "  'acquisition_parameter': '0',\n",
       "  'num_cross_validation': None,\n",
       "  'target': 'notebook142685',\n",
       "  'AMLSettingsJsonString': '{\"path\":null,\"name\":\"predict-breast-cancer-automl\",\"subscription_id\":\"f5091c60-1c3c-430f-8d81-d802f6bf2414\",\"resource_group\":\"aml-quickstarts-142685\",\"workspace_name\":\"quick-starts-ws-142685\",\"region\":\"southcentralus\",\"compute_target\":\"notebook142685\",\"spark_service\":null,\"azure_service\":\"remote\",\"many_models\":false,\"pipeline_fetch_max_batch_size\":1,\"enable_batch_run\":false,\"enable_run_restructure\":false,\"iterations\":1000,\"primary_metric\":\"accuracy\",\"task_type\":\"classification\",\"data_script\":null,\"test_size\":0.0,\"validation_size\":0.0,\"n_cross_validations\":null,\"y_min\":null,\"y_max\":null,\"num_classes\":null,\"featurization\":\"auto\",\"_ignore_package_version_incompatibilities\":false,\"is_timeseries\":false,\"max_cores_per_iteration\":1,\"max_concurrent_iterations\":5,\"iteration_timeout_minutes\":null,\"mem_in_mb\":null,\"enforce_time_on_windows\":false,\"experiment_timeout_minutes\":30,\"experiment_exit_score\":null,\"whitelist_models\":null,\"blacklist_algos\":[\"XGBoostClassifier\",\"TensorFlowLinearClassifier\",\"TensorFlowDNN\"],\"supported_models\":[\"ExtremeRandomTrees\",\"KNN\",\"RandomForest\",\"XGBoostClassifier\",\"GradientBoosting\",\"TensorFlowDNN\",\"DecisionTree\",\"SVM\",\"LightGBM\",\"AveragedPerceptronClassifier\",\"BernoulliNaiveBayes\",\"LogisticRegression\",\"LinearSVM\",\"SGD\",\"TensorFlowLinearClassifier\",\"MultinomialNaiveBayes\"],\"private_models\":[],\"auto_blacklist\":true,\"blacklist_samples_reached\":false,\"exclude_nan_labels\":true,\"verbosity\":20,\"_debug_log\":\"azureml_automl.log\",\"show_warnings\":false,\"model_explainability\":true,\"service_url\":null,\"sdk_url\":null,\"sdk_packages\":null,\"enable_onnx_compatible_models\":false,\"enable_split_onnx_featurizer_estimator_models\":false,\"vm_type\":\"STANDARD_DS3_V2\",\"telemetry_verbosity\":20,\"send_telemetry\":true,\"enable_dnn\":false,\"scenario\":\"SDK-1.13.0\",\"environment_label\":null,\"save_mlflow\":false,\"force_text_dnn\":false,\"enable_feature_sweeping\":true,\"enable_early_stopping\":true,\"early_stopping_n_iters\":10,\"metrics\":null,\"enable_metric_confidence\":false,\"enable_ensembling\":true,\"enable_stack_ensembling\":true,\"ensemble_iterations\":15,\"enable_tf\":false,\"enable_subsampling\":null,\"subsample_seed\":null,\"enable_nimbusml\":false,\"enable_streaming\":false,\"force_streaming\":false,\"track_child_runs\":true,\"allowed_private_models\":[],\"label_column_name\":\"diagnosis\",\"weight_column_name\":null,\"cv_split_column_names\":null,\"enable_local_managed\":false,\"_local_managed_run_id\":null,\"cost_mode\":1,\"lag_length\":0,\"metric_operation\":\"maximize\",\"preprocess\":true}',\n",
       "  'DataPrepJsonString': '{\\\\\"training_data\\\\\": {\\\\\"datasetId\\\\\": \\\\\"adab72e5-0e10-4f38-ac0e-bcb6b6137cb0\\\\\"}, \\\\\"datasets\\\\\": 0}',\n",
       "  'EnableSubsampling': None,\n",
       "  'runTemplate': 'AutoML',\n",
       "  'azureml.runsource': 'automl',\n",
       "  'display_task_type': 'classification',\n",
       "  'dependencies_versions': '{\"azureml-widgets\": \"1.26.0\", \"azureml-train\": \"1.26.0\", \"azureml-train-restclients-hyperdrive\": \"1.26.0\", \"azureml-train-core\": \"1.26.0\", \"azureml-train-automl\": \"1.26.0\", \"azureml-train-automl-runtime\": \"1.26.0\", \"azureml-train-automl-client\": \"1.26.0\", \"azureml-tensorboard\": \"1.26.0\", \"azureml-telemetry\": \"1.26.0\", \"azureml-sdk\": \"1.26.0\", \"azureml-samples\": \"0+unknown\", \"azureml-pipeline\": \"1.26.0\", \"azureml-pipeline-steps\": \"1.26.0\", \"azureml-pipeline-core\": \"1.26.0\", \"azureml-opendatasets\": \"1.26.0\", \"azureml-model-management-sdk\": \"1.0.1b6.post1\", \"azureml-mlflow\": \"1.26.0\", \"azureml-interpret\": \"1.26.0\", \"azureml-explain-model\": \"1.26.0\", \"azureml-defaults\": \"1.26.0\", \"azureml-dataset-runtime\": \"1.26.0\", \"azureml-dataprep\": \"2.13.2\", \"azureml-dataprep-rslex\": \"1.11.2\", \"azureml-dataprep-native\": \"32.0.0\", \"azureml-datadrift\": \"1.26.0\", \"azureml-core\": \"1.26.0\", \"azureml-contrib-services\": \"1.26.0\", \"azureml-contrib-server\": \"1.26.0\", \"azureml-contrib-reinforcementlearning\": \"1.26.0\", \"azureml-contrib-pipeline-steps\": \"1.26.0\", \"azureml-contrib-notebook\": \"1.26.0\", \"azureml-contrib-gbdt\": \"1.26.0\", \"azureml-contrib-fairness\": \"1.26.0\", \"azureml-contrib-dataset\": \"1.26.0\", \"azureml-cli-common\": \"1.26.0\", \"azureml-automl-runtime\": \"1.26.0\", \"azureml-automl-dnn-nlp\": \"1.26.0\", \"azureml-automl-core\": \"1.26.0\", \"azureml-accel-models\": \"1.26.0\"}',\n",
       "  '_aml_system_scenario_identification': 'Remote.Parent',\n",
       "  'ClientType': 'SDK',\n",
       "  'environment_cpu_name': 'AzureML-AutoML',\n",
       "  'environment_cpu_label': 'prod',\n",
       "  'environment_gpu_name': 'AzureML-AutoML-GPU',\n",
       "  'environment_gpu_label': 'prod',\n",
       "  'root_attribution': 'automl',\n",
       "  'attribution': 'AutoML',\n",
       "  'Orchestrator': 'AutoML',\n",
       "  'CancelUri': 'https://southcentralus.experiments.azureml.net/jasmine/v1.0/subscriptions/f5091c60-1c3c-430f-8d81-d802f6bf2414/resourceGroups/aml-quickstarts-142685/providers/Microsoft.MachineLearningServices/workspaces/quick-starts-ws-142685/experimentids/ed240b5e-cbbc-4a31-b687-9ec579dacc59/cancel/AutoML_7d0ce565-819d-4c55-a1b1-ab7176b64c1d',\n",
       "  'ClientSdkVersion': '1.25.0',\n",
       "  'snapshotId': '00000000-0000-0000-0000-000000000000',\n",
       "  'SetupRunId': 'AutoML_7d0ce565-819d-4c55-a1b1-ab7176b64c1d_setup',\n",
       "  'SetupRunContainerId': 'dcid.AutoML_7d0ce565-819d-4c55-a1b1-ab7176b64c1d_setup',\n",
       "  'FeaturizationRunJsonPath': 'featurizer_container.json',\n",
       "  'FeaturizationRunId': 'AutoML_7d0ce565-819d-4c55-a1b1-ab7176b64c1d_featurize',\n",
       "  'ProblemInfoJsonString': '{\"dataset_num_categorical\": 0, \"is_sparse\": false, \"subsampling\": false, \"dataset_classes\": 2, \"dataset_features\": 5, \"dataset_samples\": 569, \"single_frequency_class_detected\": false}',\n",
       "  'ModelExplainRunId': 'AutoML_7d0ce565-819d-4c55-a1b1-ab7176b64c1d_ModelExplain'},\n",
       " 'inputDatasets': [{'dataset': {'id': 'adab72e5-0e10-4f38-ac0e-bcb6b6137cb0'}, 'consumptionDetails': {'type': 'RunInput', 'inputName': 'training_data', 'mechanism': 'Direct'}}],\n",
       " 'outputDatasets': [],\n",
       " 'logFiles': {},\n",
       " 'submittedBy': 'ODL_User 142685'}"
      ]
     },
     "execution_count": 9,
     "metadata": {},
     "output_type": "execute_result"
    }
   ],
   "source": [
    "remote_run.wait_for_completion(show_output=True)"
   ]
  },
  {
   "cell_type": "markdown",
   "metadata": {},
   "source": [
    "## Best Model\n",
    "\n",
    "TODO: In the cell below, get the best model from the automl experiments and display all the properties of the model.\n",
    "\n"
   ]
  },
  {
   "cell_type": "code",
   "execution_count": 10,
   "metadata": {
    "gather": {
     "logged": 1598431425670
    },
    "jupyter": {
     "outputs_hidden": false,
     "source_hidden": false
    },
    "nteract": {
     "transient": {
      "deleting": false
     }
    }
   },
   "outputs": [
    {
     "data": {
      "text/plain": [
       "PreFittedSoftVotingClassifier(classification_labels=None,\n",
       "                              estimators=[('18',\n",
       "                                           Pipeline(memory=None,\n",
       "                                                    steps=[('minmaxscaler',\n",
       "                                                            MinMaxScaler(copy=True,\n",
       "                                                                         feature_range=(0,\n",
       "                                                                                        1))),\n",
       "                                                           ('lightgbmclassifier',\n",
       "                                                            LightGBMClassifier(boosting_type='goss',\n",
       "                                                                               class_weight=None,\n",
       "                                                                               colsample_bytree=0.7922222222222222,\n",
       "                                                                               importance_type='split',\n",
       "                                                                               learning_rate=0.06316157894736842,\n",
       "                                                                               max_bin=250,...\n",
       "                                                                                   min_samples_leaf=0.035789473684210524,\n",
       "                                                                                   min_samples_split=0.056842105263157895,\n",
       "                                                                                   min_weight_fraction_leaf=0.0,\n",
       "                                                                                   n_estimators=600,\n",
       "                                                                                   n_jobs=1,\n",
       "                                                                                   oob_score=False,\n",
       "                                                                                   random_state=None,\n",
       "                                                                                   verbose=0,\n",
       "                                                                                   warm_start=False))],\n",
       "                                                    verbose=False))],\n",
       "                              flatten_transform=None,\n",
       "                              weights=[0.2727272727272727, 0.09090909090909091,\n",
       "                                       0.18181818181818182, 0.18181818181818182,\n",
       "                                       0.09090909090909091, 0.09090909090909091,\n",
       "                                       0.09090909090909091])"
      ]
     },
     "execution_count": 10,
     "metadata": {},
     "output_type": "execute_result"
    }
   ],
   "source": [
    "best_automl_run, best_automl_model = remote_run.get_output()\n",
    "best_automl_model._final_estimator"
   ]
  },
  {
   "cell_type": "code",
   "execution_count": 11,
   "metadata": {
    "gather": {
     "logged": 1598431426111
    },
    "jupyter": {
     "outputs_hidden": false,
     "source_hidden": false
    },
    "nteract": {
     "transient": {
      "deleting": false
     }
    }
   },
   "outputs": [
    {
     "data": {
      "text/plain": [
       "['results/automl_breast_cancer_model.joblib']"
      ]
     },
     "execution_count": 11,
     "metadata": {},
     "output_type": "execute_result"
    }
   ],
   "source": [
    "#TODO: Save the best model\n",
    "joblib.dump(best_automl_model, filename=\"results/automl_breast_cancer_model.joblib\")"
   ]
  },
  {
   "cell_type": "markdown",
   "metadata": {},
   "source": [
    "## Model Deployment\n",
    "\n",
    "Remember you have to deploy only one of the two models you trained.. Perform the steps in the rest of this notebook only if you wish to deploy this model.\n",
    "\n",
    "TODO: In the cell below, register the model, create an inference config and deploy the model as a web service."
   ]
  },
  {
   "cell_type": "code",
   "execution_count": null,
   "metadata": {
    "gather": {
     "logged": 1598431435189
    },
    "jupyter": {
     "outputs_hidden": false,
     "source_hidden": false
    },
    "nteract": {
     "transient": {
      "deleting": false
     }
    }
   },
   "outputs": [],
   "source": []
  },
  {
   "cell_type": "markdown",
   "metadata": {
    "collapsed": true,
    "gather": {
     "logged": 1598431657736
    },
    "jupyter": {
     "outputs_hidden": false,
     "source_hidden": false
    },
    "nteract": {
     "transient": {
      "deleting": false
     }
    }
   },
   "source": [
    "TODO: In the cell below, send a request to the web service you deployed to test it."
   ]
  },
  {
   "cell_type": "code",
   "execution_count": null,
   "metadata": {
    "gather": {
     "logged": 1598432707604
    },
    "jupyter": {
     "outputs_hidden": false,
     "source_hidden": false
    },
    "nteract": {
     "transient": {
      "deleting": false
     }
    }
   },
   "outputs": [],
   "source": []
  },
  {
   "cell_type": "markdown",
   "metadata": {
    "collapsed": true,
    "gather": {
     "logged": 1598432765711
    },
    "jupyter": {
     "outputs_hidden": false,
     "source_hidden": false
    },
    "nteract": {
     "transient": {
      "deleting": false
     }
    }
   },
   "source": [
    "TODO: In the cell below, print the logs of the web service and delete the service"
   ]
  },
  {
   "cell_type": "code",
   "execution_count": null,
   "metadata": {
    "jupyter": {
     "outputs_hidden": false,
     "source_hidden": false
    },
    "nteract": {
     "transient": {
      "deleting": false
     }
    }
   },
   "outputs": [],
   "source": []
  }
 ],
 "metadata": {
  "kernel_info": {
   "name": "python3"
  },
  "kernelspec": {
   "display_name": "Python 3",
   "language": "python",
   "name": "python3"
  },
  "language_info": {
   "codemirror_mode": {
    "name": "ipython",
    "version": 3
   },
   "file_extension": ".py",
   "mimetype": "text/x-python",
   "name": "python",
   "nbconvert_exporter": "python",
   "pygments_lexer": "ipython3",
   "version": "3.6.9"
  },
  "nteract": {
   "version": "nteract-front-end@1.0.0"
  }
 },
 "nbformat": 4,
 "nbformat_minor": 2
}
