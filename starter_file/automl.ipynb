{
 "cells": [
  {
   "cell_type": "markdown",
   "metadata": {},
   "source": [
    "# Automated ML\n",
    "\n",
    "TODO: Import Dependencies. In the cell below, import all the dependencies that you will need to complete the project."
   ]
  },
  {
   "cell_type": "code",
   "execution_count": 1,
   "metadata": {
    "gather": {
     "logged": 1598423888013
    },
    "jupyter": {
     "outputs_hidden": false,
     "source_hidden": false
    },
    "nteract": {
     "transient": {
      "deleting": false
     }
    }
   },
   "outputs": [],
   "source": [
    "from azureml.core import Workspace, Experiment, Dataset\n",
    "from azureml.core.compute import ComputeTarget, AmlCompute\n",
    "from azureml.core.compute_target import ComputeTargetException\n",
    "from azureml.train.automl.utilities import get_primary_metrics\n",
    "from azureml.train.automl import AutoMLConfig\n",
    "from azureml.pipeline.steps import AutoMLStep\n",
    "from azureml.widgets import RunDetails \n",
    "from azureml.core.environment import Environment\n",
    "from azureml.core.model import InferenceConfig, Model\n",
    "from azureml.core.webservice.aci import AciWebservice\n",
    "from azureml.core.webservice import Webservice\n",
    "import os\n",
    "import joblib"
   ]
  },
  {
   "cell_type": "markdown",
   "metadata": {},
   "source": [
    "## Dataset\n",
    "\n",
    "### Overview\n",
    "TODO: In this markdown cell, give an overview of the dataset you are using. Also mention the task you will be performing.\n",
    "\n",
    "\n",
    "TODO: Get data. In the cell below, write code to access the data you will be using in this project. Remember that the dataset needs to be external."
   ]
  },
  {
   "cell_type": "code",
   "execution_count": 2,
   "metadata": {},
   "outputs": [],
   "source": [
    "if not os.path.exists('results'):\n",
    "    os.makedirs('results')"
   ]
  },
  {
   "cell_type": "code",
   "execution_count": 3,
   "metadata": {
    "gather": {
     "logged": 1598423890461
    },
    "jupyter": {
     "outputs_hidden": false,
     "source_hidden": false
    },
    "nteract": {
     "transient": {
      "deleting": false
     }
    }
   },
   "outputs": [
    {
     "name": "stdout",
     "output_type": "stream",
     "text": [
      "Workspace name: quick-starts-ws-143020\n",
      "Azure region: southcentralus\n",
      "Subscription id: b968fb36-f06a-4c76-a15f-afab68ae7667\n",
      "Resource group: aml-quickstarts-143020\n"
     ]
    }
   ],
   "source": [
    "ws = Workspace.from_config()\n",
    "\n",
    "# choose a name for experiment\n",
    "experiment_name = 'predict-breast-cancer-automl'\n",
    "\n",
    "# Check workspace details\n",
    "print('Workspace name: ' + ws.name, \n",
    "      'Azure region: ' + ws.location, \n",
    "      'Subscription id: ' + ws.subscription_id, \n",
    "      'Resource group: ' + ws.resource_group, sep = '\\n')\n",
    "\n",
    "experiment=Experiment(ws, experiment_name)"
   ]
  },
  {
   "cell_type": "code",
   "execution_count": 4,
   "metadata": {},
   "outputs": [
    {
     "name": "stdout",
     "output_type": "stream",
     "text": [
      "Cluster exists\n"
     ]
    }
   ],
   "source": [
    "# Check for existing cluster. Otherwise, create new cluster\n",
    "try:\n",
    "    cluster = ComputeTarget(workspace=ws, name=\"notebook143020\")\n",
    "    print(\"Cluster exists\")\n",
    "except:\n",
    "    config = AmlCompute.provisioning_configuration(vm_size='STANDARD_D2_V12', max_nodes=4)\n",
    "    cluster = ComputeTarget.create(ws, \"project-cluster\", config)\n",
    "\n",
    "cluster.wait_for_completion()"
   ]
  },
  {
   "cell_type": "code",
   "execution_count": 5,
   "metadata": {},
   "outputs": [
    {
     "data": {
      "text/html": [
       "<div>\n",
       "<style scoped>\n",
       "    .dataframe tbody tr th:only-of-type {\n",
       "        vertical-align: middle;\n",
       "    }\n",
       "\n",
       "    .dataframe tbody tr th {\n",
       "        vertical-align: top;\n",
       "    }\n",
       "\n",
       "    .dataframe thead th {\n",
       "        text-align: right;\n",
       "    }\n",
       "</style>\n",
       "<table border=\"1\" class=\"dataframe\">\n",
       "  <thead>\n",
       "    <tr style=\"text-align: right;\">\n",
       "      <th></th>\n",
       "      <th>mean_radius</th>\n",
       "      <th>mean_texture</th>\n",
       "      <th>mean_perimeter</th>\n",
       "      <th>mean_area</th>\n",
       "      <th>mean_smoothness</th>\n",
       "      <th>diagnosis</th>\n",
       "    </tr>\n",
       "  </thead>\n",
       "  <tbody>\n",
       "    <tr>\n",
       "      <th>0</th>\n",
       "      <td>17.99</td>\n",
       "      <td>10.38</td>\n",
       "      <td>122.80</td>\n",
       "      <td>1001.0</td>\n",
       "      <td>0.11840</td>\n",
       "      <td>0</td>\n",
       "    </tr>\n",
       "    <tr>\n",
       "      <th>1</th>\n",
       "      <td>20.57</td>\n",
       "      <td>17.77</td>\n",
       "      <td>132.90</td>\n",
       "      <td>1326.0</td>\n",
       "      <td>0.08474</td>\n",
       "      <td>0</td>\n",
       "    </tr>\n",
       "    <tr>\n",
       "      <th>2</th>\n",
       "      <td>19.69</td>\n",
       "      <td>21.25</td>\n",
       "      <td>130.00</td>\n",
       "      <td>1203.0</td>\n",
       "      <td>0.10960</td>\n",
       "      <td>0</td>\n",
       "    </tr>\n",
       "    <tr>\n",
       "      <th>3</th>\n",
       "      <td>11.42</td>\n",
       "      <td>20.38</td>\n",
       "      <td>77.58</td>\n",
       "      <td>386.1</td>\n",
       "      <td>0.14250</td>\n",
       "      <td>0</td>\n",
       "    </tr>\n",
       "    <tr>\n",
       "      <th>4</th>\n",
       "      <td>20.29</td>\n",
       "      <td>14.34</td>\n",
       "      <td>135.10</td>\n",
       "      <td>1297.0</td>\n",
       "      <td>0.10030</td>\n",
       "      <td>0</td>\n",
       "    </tr>\n",
       "  </tbody>\n",
       "</table>\n",
       "</div>"
      ],
      "text/plain": [
       "   mean_radius  mean_texture  mean_perimeter  mean_area  mean_smoothness  \\\n",
       "0        17.99         10.38          122.80     1001.0          0.11840   \n",
       "1        20.57         17.77          132.90     1326.0          0.08474   \n",
       "2        19.69         21.25          130.00     1203.0          0.10960   \n",
       "3        11.42         20.38           77.58      386.1          0.14250   \n",
       "4        20.29         14.34          135.10     1297.0          0.10030   \n",
       "\n",
       "   diagnosis  \n",
       "0          0  \n",
       "1          0  \n",
       "2          0  \n",
       "3          0  \n",
       "4          0  "
      ]
     },
     "execution_count": 5,
     "metadata": {},
     "output_type": "execute_result"
    }
   ],
   "source": [
    "train_data = Dataset.get_by_name(ws, name=\"breast_cancer_data\")\n",
    "train_data.take(5).to_pandas_dataframe()"
   ]
  },
  {
   "cell_type": "markdown",
   "metadata": {},
   "source": [
    "## AutoML Configuration\n",
    "\n",
    "TODO: Explain why you chose the automl settings and cofiguration you used below."
   ]
  },
  {
   "cell_type": "code",
   "execution_count": 6,
   "metadata": {
    "gather": {
     "logged": 1598429217746
    },
    "jupyter": {
     "outputs_hidden": false,
     "source_hidden": false
    },
    "nteract": {
     "transient": {
      "deleting": false
     }
    }
   },
   "outputs": [],
   "source": [
    "# TODO: Put your automl settings here\n",
    "automl_settings = {\n",
    "    \"experiment_timeout_minutes\": 30,\n",
    "    \"max_concurrent_iterations\": 5,\n",
    "    \"primary_metric\" : 'accuracy'\n",
    "}\n",
    "\n",
    "# TODO: Put your automl config here\n",
    "automl_config = AutoMLConfig(compute_target=cluster,\n",
    "                             task = \"classification\",\n",
    "                             training_data=train_data,\n",
    "                             label_column_name=\"diagnosis\",   \n",
    "                             enable_early_stopping= True,\n",
    "                             featurization= 'auto',\n",
    "                             blocked_models=['XGBoostClassifier'],\n",
    "                             debug_log = \"automl_errors.log\",\n",
    "                             **automl_settings\n",
    "                            )"
   ]
  },
  {
   "cell_type": "code",
   "execution_count": 7,
   "metadata": {
    "gather": {
     "logged": 1598431107951
    },
    "jupyter": {
     "outputs_hidden": false,
     "source_hidden": false
    },
    "nteract": {
     "transient": {
      "deleting": false
     }
    }
   },
   "outputs": [
    {
     "name": "stdout",
     "output_type": "stream",
     "text": [
      "Submitting remote run.\n",
      "No run_configuration provided, running on notebook143020 with default configuration\n",
      "Running on remote compute: notebook143020\n"
     ]
    },
    {
     "data": {
      "text/html": [
       "<table style=\"width:100%\"><tr><th>Experiment</th><th>Id</th><th>Type</th><th>Status</th><th>Details Page</th><th>Docs Page</th></tr><tr><td>predict-breast-cancer-automl</td><td>AutoML_438291e4-ac86-4bf1-aa6e-d9ba21e642b3</td><td>automl</td><td>NotStarted</td><td><a href=\"https://ml.azure.com/runs/AutoML_438291e4-ac86-4bf1-aa6e-d9ba21e642b3?wsid=/subscriptions/b968fb36-f06a-4c76-a15f-afab68ae7667/resourcegroups/aml-quickstarts-143020/workspaces/quick-starts-ws-143020&amp;tid=660b3398-b80e-49d2-bc5b-ac1dc93b5254\" target=\"_blank\" rel=\"noopener\">Link to Azure Machine Learning studio</a></td><td><a href=\"https://docs.microsoft.com/en-us/python/api/overview/azure/ml/intro?view=azure-ml-py\" target=\"_blank\" rel=\"noopener\">Link to Documentation</a></td></tr></table>"
      ],
      "text/plain": [
       "<IPython.core.display.HTML object>"
      ]
     },
     "metadata": {},
     "output_type": "display_data"
    },
    {
     "name": "stdout",
     "output_type": "stream",
     "text": [
      "\n",
      "Current status: FeaturesGeneration. Generating features for the dataset.\n",
      "        10   MinMaxScaler LogisticRegression                0:05:45       0.9190    0.9367\n",
      "        12   StandardScalerWrapper GradientBoosting         0:05:40       0.8997    0.9367\n",
      "        11   MaxAbsScaler RandomForest                      0:05:50       0.9138    0.9367\n",
      "        13   StandardScalerWrapper LightGBM                 0:05:44       0.9279    0.9367\n",
      "        14   MaxAbsScaler LightGBM                          0:06:23       0.9226    0.9367\n",
      "        17   MinMaxScaler LightGBM                          0:05:45       0.9261    0.9367\n",
      "        15   MaxAbsScaler LightGBM                          0:05:51       0.9120    0.9367\n",
      "        16   RobustScaler LightGBM                          0:05:42       0.8980    0.9367\n",
      "        18   RobustScaler KNN                               0:05:42       0.8962    0.9367\n",
      "        19   MaxAbsScaler ExtremeRandomTrees                0:06:30       0.8822    0.9367\n",
      "        20   MinMaxScaler LightGBM                          0:05:42       0.9226    0.9367\n",
      "        21   StandardScalerWrapper ExtremeRandomTrees       0:05:49       0.8646    0.9367\n",
      "        22   MinMaxScaler LightGBM                          0:05:40       0.9314    0.9367\n",
      "        23   MaxAbsScaler LightGBM                          0:05:40       0.9332    0.9367\n",
      "ERROR: {\n",
      "    \"additional_properties\": {},\n",
      "    \"error\": {\n",
      "        \"additional_properties\": {\n",
      "            \"debugInfo\": null\n",
      "        },\n",
      "        \"code\": \"UserError\",\n",
      "        \"severity\": null,\n",
      "        \"message\": \"Experiment timeout reached, please consider increasing your experiment timeout.\",\n",
      "        \"message_format\": \"Experiment timeout reached, please consider increasing your experiment timeout.\",\n",
      "        \"message_parameters\": {},\n",
      "        \"reference_code\": null,\n",
      "        \"details_uri\": null,\n",
      "        \"target\": null,\n",
      "        \"details\": [],\n",
      "        \"inner_error\": {\n",
      "            \"additional_properties\": {},\n",
      "            \"code\": \"ResourceExhausted\",\n",
      "            \"inner_error\": {\n",
      "                \"additional_properties\": {},\n",
      "                \"code\": \"Timeout\",\n",
      "                \"inner_error\": {\n",
      "                    \"additional_properties\": {},\n",
      "                    \"code\": \"ExperimentTimeoutForIterations\",\n",
      "                    \"inner_error\": null\n",
      "                }\n",
      "            }\n",
      "        }\n",
      "    },\n",
      "    \"correlation\": null,\n",
      "    \"environment\": null,\n",
      "    \"location\": null,\n",
      "    \"time\": {},\n",
      "    \"component_name\": null\n",
      "}\n",
      "        24                                                  0:03:34          nan    0.9367\n",
      "ERROR: {\n",
      "    \"additional_properties\": {},\n",
      "    \"error\": {\n",
      "        \"additional_properties\": {\n",
      "            \"debugInfo\": null\n",
      "        },\n",
      "        \"code\": \"UserError\",\n",
      "        \"severity\": null,\n",
      "        \"message\": \"Experiment timeout reached, please consider increasing your experiment timeout.\",\n",
      "        \"message_format\": \"Experiment timeout reached, please consider increasing your experiment timeout.\",\n",
      "        \"message_parameters\": {},\n",
      "        \"reference_code\": null,\n",
      "        \"details_uri\": null,\n",
      "        \"target\": null,\n",
      "        \"details\": [],\n",
      "        \"inner_error\": {\n",
      "            \"additional_properties\": {},\n",
      "            \"code\": \"ResourceExhausted\",\n",
      "            \"inner_error\": {\n",
      "                \"additional_properties\": {},\n",
      "                \"code\": \"Timeout\",\n",
      "                \"inner_error\": {\n",
      "                    \"additional_properties\": {},\n",
      "                    \"code\": \"ExperimentTimeoutForIterations\",\n",
      "                    \"inner_error\": null\n",
      "                }\n",
      "            }\n",
      "        }\n",
      "    },\n",
      "    \"correlation\": null,\n",
      "    \"environment\": null,\n",
      "    \"location\": null,\n",
      "    \"time\": {},\n",
      "    \"component_name\": null\n",
      "}\n",
      "        25                                                  0:00:20          nan    0.9367\n",
      "ERROR: {\n",
      "    \"additional_properties\": {},\n",
      "    \"error\": {\n",
      "        \"additional_properties\": {\n",
      "            \"debugInfo\": null\n",
      "        },\n",
      "        \"code\": \"UserError\",\n",
      "        \"severity\": null,\n",
      "        \"message\": \"Experiment timeout reached, please consider increasing your experiment timeout.\",\n",
      "        \"message_format\": \"Experiment timeout reached, please consider increasing your experiment timeout.\",\n",
      "        \"message_parameters\": {},\n",
      "        \"reference_code\": null,\n",
      "        \"details_uri\": null,\n",
      "        \"target\": null,\n",
      "        \"details\": [],\n",
      "        \"inner_error\": {\n",
      "            \"additional_properties\": {},\n",
      "            \"code\": \"ResourceExhausted\",\n",
      "            \"inner_error\": {\n",
      "                \"additional_properties\": {},\n",
      "                \"code\": \"Timeout\",\n",
      "                \"inner_error\": {\n",
      "                    \"additional_properties\": {},\n",
      "                    \"code\": \"ExperimentTimeoutForIterations\",\n",
      "                    \"inner_error\": null\n",
      "                }\n",
      "            }\n",
      "        }\n",
      "    },\n",
      "    \"correlation\": null,\n",
      "    \"environment\": null,\n",
      "    \"location\": null,\n",
      "    \"time\": {},\n",
      "    \"component_name\": null\n",
      "}\n",
      "        26    VotingEnsemble                                0:07:27       0.9402    0.9402\n",
      "        27    StackEnsemble                                 0:07:28       0.9402    0.9402\n"
     ]
    }
   ],
   "source": [
    "# TODO: Submit your experiment\n",
    "remote_run = experiment.submit(automl_config, show_output=True)"
   ]
  },
  {
   "cell_type": "markdown",
   "metadata": {},
   "source": [
    "## Run Details\n",
    "\n",
    "OPTIONAL: Write about the different models trained and their performance. Why do you think some models did better than others?\n",
    "\n",
    "TODO: In the cell below, use the `RunDetails` widget to show the different experiments."
   ]
  },
  {
   "cell_type": "code",
   "execution_count": 26,
   "metadata": {
    "gather": {
     "logged": 1598431121770
    },
    "jupyter": {
     "outputs_hidden": false,
     "source_hidden": false
    },
    "nteract": {
     "transient": {
      "deleting": false
     }
    }
   },
   "outputs": [
    {
     "data": {
      "application/vnd.jupyter.widget-view+json": {
       "model_id": "50296bf2762a4de08a36c290b7bdc908",
       "version_major": 2,
       "version_minor": 0
      },
      "text/plain": [
       "_AutoMLWidget(widget_settings={'childWidgetDisplay': 'popup', 'send_telemetry': False, 'log_level': 'INFO', 's…"
      ]
     },
     "metadata": {},
     "output_type": "display_data"
    },
    {
     "data": {
      "application/aml.mini.widget.v1": "{\"status\": \"Completed\", \"workbench_run_details_uri\": \"https://ml.azure.com/runs/AutoML_438291e4-ac86-4bf1-aa6e-d9ba21e642b3?wsid=/subscriptions/b968fb36-f06a-4c76-a15f-afab68ae7667/resourcegroups/aml-quickstarts-143020/workspaces/quick-starts-ws-143020&tid=660b3398-b80e-49d2-bc5b-ac1dc93b5254\", \"run_id\": \"AutoML_438291e4-ac86-4bf1-aa6e-d9ba21e642b3\", \"run_properties\": {\"run_id\": \"AutoML_438291e4-ac86-4bf1-aa6e-d9ba21e642b3\", \"created_utc\": \"2021-04-18T09:05:13.132608Z\", \"properties\": {\"num_iterations\": \"1000\", \"training_type\": \"TrainFull\", \"acquisition_function\": \"EI\", \"primary_metric\": \"accuracy\", \"train_split\": \"0\", \"acquisition_parameter\": \"0\", \"num_cross_validation\": null, \"target\": \"notebook143020\", \"AMLSettingsJsonString\": \"{\\\"path\\\":null,\\\"name\\\":\\\"predict-breast-cancer-automl\\\",\\\"subscription_id\\\":\\\"b968fb36-f06a-4c76-a15f-afab68ae7667\\\",\\\"resource_group\\\":\\\"aml-quickstarts-143020\\\",\\\"workspace_name\\\":\\\"quick-starts-ws-143020\\\",\\\"region\\\":\\\"southcentralus\\\",\\\"compute_target\\\":\\\"notebook143020\\\",\\\"spark_service\\\":null,\\\"azure_service\\\":\\\"remote\\\",\\\"many_models\\\":false,\\\"pipeline_fetch_max_batch_size\\\":1,\\\"enable_batch_run\\\":false,\\\"enable_run_restructure\\\":false,\\\"iterations\\\":1000,\\\"primary_metric\\\":\\\"accuracy\\\",\\\"task_type\\\":\\\"classification\\\",\\\"data_script\\\":null,\\\"test_size\\\":0.0,\\\"validation_size\\\":0.0,\\\"n_cross_validations\\\":null,\\\"y_min\\\":null,\\\"y_max\\\":null,\\\"num_classes\\\":null,\\\"featurization\\\":\\\"auto\\\",\\\"_ignore_package_version_incompatibilities\\\":false,\\\"is_timeseries\\\":false,\\\"max_cores_per_iteration\\\":1,\\\"max_concurrent_iterations\\\":5,\\\"iteration_timeout_minutes\\\":null,\\\"mem_in_mb\\\":null,\\\"enforce_time_on_windows\\\":false,\\\"experiment_timeout_minutes\\\":30,\\\"experiment_exit_score\\\":null,\\\"whitelist_models\\\":null,\\\"blacklist_algos\\\":[\\\"XGBoostClassifier\\\",\\\"TensorFlowLinearClassifier\\\",\\\"TensorFlowDNN\\\"],\\\"supported_models\\\":[\\\"TensorFlowLinearClassifier\\\",\\\"ExtremeRandomTrees\\\",\\\"DecisionTree\\\",\\\"BernoulliNaiveBayes\\\",\\\"MultinomialNaiveBayes\\\",\\\"SGD\\\",\\\"KNN\\\",\\\"GradientBoosting\\\",\\\"LogisticRegression\\\",\\\"TensorFlowDNN\\\",\\\"RandomForest\\\",\\\"LightGBM\\\",\\\"SVM\\\",\\\"XGBoostClassifier\\\",\\\"LinearSVM\\\",\\\"AveragedPerceptronClassifier\\\"],\\\"private_models\\\":[],\\\"auto_blacklist\\\":true,\\\"blacklist_samples_reached\\\":false,\\\"exclude_nan_labels\\\":true,\\\"verbosity\\\":20,\\\"_debug_log\\\":\\\"azureml_automl.log\\\",\\\"show_warnings\\\":false,\\\"model_explainability\\\":true,\\\"service_url\\\":null,\\\"sdk_url\\\":null,\\\"sdk_packages\\\":null,\\\"enable_onnx_compatible_models\\\":false,\\\"enable_split_onnx_featurizer_estimator_models\\\":false,\\\"vm_type\\\":\\\"STANDARD_DS3_V2\\\",\\\"telemetry_verbosity\\\":20,\\\"send_telemetry\\\":true,\\\"enable_dnn\\\":false,\\\"scenario\\\":\\\"SDK-1.13.0\\\",\\\"environment_label\\\":null,\\\"save_mlflow\\\":false,\\\"force_text_dnn\\\":false,\\\"enable_feature_sweeping\\\":true,\\\"enable_early_stopping\\\":true,\\\"early_stopping_n_iters\\\":10,\\\"metrics\\\":null,\\\"enable_metric_confidence\\\":false,\\\"enable_ensembling\\\":true,\\\"enable_stack_ensembling\\\":true,\\\"ensemble_iterations\\\":15,\\\"enable_tf\\\":false,\\\"enable_subsampling\\\":null,\\\"subsample_seed\\\":null,\\\"enable_nimbusml\\\":false,\\\"enable_streaming\\\":false,\\\"force_streaming\\\":false,\\\"track_child_runs\\\":true,\\\"allowed_private_models\\\":[],\\\"label_column_name\\\":\\\"diagnosis\\\",\\\"weight_column_name\\\":null,\\\"cv_split_column_names\\\":null,\\\"enable_local_managed\\\":false,\\\"_local_managed_run_id\\\":null,\\\"cost_mode\\\":1,\\\"lag_length\\\":0,\\\"metric_operation\\\":\\\"maximize\\\",\\\"preprocess\\\":true}\", \"DataPrepJsonString\": \"{\\\\\\\"training_data\\\\\\\": {\\\\\\\"datasetId\\\\\\\": \\\\\\\"12992ec8-ba30-48ba-8715-e4e73019434c\\\\\\\"}, \\\\\\\"datasets\\\\\\\": 0}\", \"EnableSubsampling\": null, \"runTemplate\": \"AutoML\", \"azureml.runsource\": \"automl\", \"display_task_type\": \"classification\", \"dependencies_versions\": \"{\\\"azureml-widgets\\\": \\\"1.26.0\\\", \\\"azureml-train\\\": \\\"1.26.0\\\", \\\"azureml-train-restclients-hyperdrive\\\": \\\"1.26.0\\\", \\\"azureml-train-core\\\": \\\"1.26.0\\\", \\\"azureml-train-automl\\\": \\\"1.26.0\\\", \\\"azureml-train-automl-runtime\\\": \\\"1.26.0\\\", \\\"azureml-train-automl-client\\\": \\\"1.26.0\\\", \\\"azureml-tensorboard\\\": \\\"1.26.0\\\", \\\"azureml-telemetry\\\": \\\"1.26.0\\\", \\\"azureml-sdk\\\": \\\"1.26.0\\\", \\\"azureml-samples\\\": \\\"0+unknown\\\", \\\"azureml-pipeline\\\": \\\"1.26.0\\\", \\\"azureml-pipeline-steps\\\": \\\"1.26.0\\\", \\\"azureml-pipeline-core\\\": \\\"1.26.0\\\", \\\"azureml-opendatasets\\\": \\\"1.26.0\\\", \\\"azureml-model-management-sdk\\\": \\\"1.0.1b6.post1\\\", \\\"azureml-mlflow\\\": \\\"1.26.0\\\", \\\"azureml-interpret\\\": \\\"1.26.0\\\", \\\"azureml-explain-model\\\": \\\"1.26.0\\\", \\\"azureml-defaults\\\": \\\"1.26.0\\\", \\\"azureml-dataset-runtime\\\": \\\"1.26.0\\\", \\\"azureml-dataprep\\\": \\\"2.13.2\\\", \\\"azureml-dataprep-rslex\\\": \\\"1.11.2\\\", \\\"azureml-dataprep-native\\\": \\\"32.0.0\\\", \\\"azureml-datadrift\\\": \\\"1.26.0\\\", \\\"azureml-core\\\": \\\"1.26.0\\\", \\\"azureml-contrib-services\\\": \\\"1.26.0\\\", \\\"azureml-contrib-server\\\": \\\"1.26.0\\\", \\\"azureml-contrib-reinforcementlearning\\\": \\\"1.26.0\\\", \\\"azureml-contrib-pipeline-steps\\\": \\\"1.26.0\\\", \\\"azureml-contrib-notebook\\\": \\\"1.26.0\\\", \\\"azureml-contrib-gbdt\\\": \\\"1.26.0\\\", \\\"azureml-contrib-fairness\\\": \\\"1.26.0\\\", \\\"azureml-contrib-dataset\\\": \\\"1.26.0\\\", \\\"azureml-cli-common\\\": \\\"1.26.0\\\", \\\"azureml-automl-runtime\\\": \\\"1.26.0\\\", \\\"azureml-automl-dnn-nlp\\\": \\\"1.26.0\\\", \\\"azureml-automl-core\\\": \\\"1.26.0\\\", \\\"azureml-accel-models\\\": \\\"1.26.0\\\"}\", \"_aml_system_scenario_identification\": \"Remote.Parent\", \"ClientType\": \"SDK\", \"environment_cpu_name\": \"AzureML-AutoML\", \"environment_cpu_label\": \"prod\", \"environment_gpu_name\": \"AzureML-AutoML-GPU\", \"environment_gpu_label\": \"prod\", \"root_attribution\": \"automl\", \"attribution\": \"AutoML\", \"Orchestrator\": \"AutoML\", \"CancelUri\": \"https://southcentralus.experiments.azureml.net/jasmine/v1.0/subscriptions/b968fb36-f06a-4c76-a15f-afab68ae7667/resourceGroups/aml-quickstarts-143020/providers/Microsoft.MachineLearningServices/workspaces/quick-starts-ws-143020/experimentids/53a2041e-d0de-4577-bb0d-291e6e923210/cancel/AutoML_438291e4-ac86-4bf1-aa6e-d9ba21e642b3\", \"ClientSdkVersion\": \"1.25.0\", \"snapshotId\": \"00000000-0000-0000-0000-000000000000\", \"SetupRunId\": \"AutoML_438291e4-ac86-4bf1-aa6e-d9ba21e642b3_setup\", \"SetupRunContainerId\": \"dcid.AutoML_438291e4-ac86-4bf1-aa6e-d9ba21e642b3_setup\", \"FeaturizationRunJsonPath\": \"featurizer_container.json\", \"FeaturizationRunId\": \"AutoML_438291e4-ac86-4bf1-aa6e-d9ba21e642b3_featurize\", \"ProblemInfoJsonString\": \"{\\\"dataset_num_categorical\\\": 0, \\\"is_sparse\\\": false, \\\"subsampling\\\": false, \\\"dataset_classes\\\": 2, \\\"dataset_features\\\": 5, \\\"dataset_samples\\\": 569, \\\"single_frequency_class_detected\\\": false}\", \"ModelExplainRunId\": \"AutoML_438291e4-ac86-4bf1-aa6e-d9ba21e642b3_ModelExplain\"}, \"tags\": {\"model_explain_run\": \"best_run\", \"_aml_system_azureml.automlComponent\": \"AutoML\", \"pipeline_id\": \"\", \"score\": \"\", \"predicted_cost\": \"\", \"fit_time\": \"\", \"training_percent\": \"\", \"iteration\": \"\", \"run_preprocessor\": \"\", \"run_algorithm\": \"\", \"dynamic_whitelisting_iterations\": \"<25>;\", \"automl_best_child_run_id\": \"AutoML_438291e4-ac86-4bf1-aa6e-d9ba21e642b3_26\", \"model_explain_best_run_child_id\": \"AutoML_438291e4-ac86-4bf1-aa6e-d9ba21e642b3_26\"}, \"end_time_utc\": \"2021-04-18T09:57:14.638131Z\", \"status\": \"Completed\", \"log_files\": {}, \"log_groups\": [], \"run_duration\": \"0:52:01\", \"run_number\": \"1\", \"run_queued_details\": {\"status\": \"Completed\", \"details\": null}}, \"child_runs\": [{\"run_id\": \"AutoML_438291e4-ac86-4bf1-aa6e-d9ba21e642b3_0\", \"run_number\": 5, \"metric\": null, \"status\": \"Completed\", \"run_type\": \"azureml.scriptrun\", \"training_percent\": \"100\", \"start_time\": \"2021-04-18T09:19:16.962467Z\", \"end_time\": \"2021-04-18T09:25:04.000987Z\", \"created_time\": \"2021-04-18T09:19:08.270803Z\", \"created_time_dt\": \"2021-04-18T09:19:08.270803Z\", \"duration\": \"0:05:55\", \"iteration\": \"0\", \"goal\": \"accuracy_max\", \"run_name\": \"MaxAbsScaler, LightGBM\", \"run_properties\": \"copy=True\", \"primary_metric\": 0.92437343, \"best_metric\": 0.92437343}, {\"run_id\": \"AutoML_438291e4-ac86-4bf1-aa6e-d9ba21e642b3_3\", \"run_number\": 6, \"metric\": null, \"status\": \"Completed\", \"run_type\": \"azureml.scriptrun\", \"training_percent\": \"100\", \"start_time\": \"2021-04-18T09:19:19.671907Z\", \"end_time\": \"2021-04-18T09:25:11.791409Z\", \"created_time\": \"2021-04-18T09:19:08.39138Z\", \"created_time_dt\": \"2021-04-18T09:19:08.39138Z\", \"duration\": \"0:06:03\", \"iteration\": \"3\", \"goal\": \"accuracy_max\", \"run_name\": \"MinMaxScaler, RandomForest\", \"run_properties\": \"copy=True, feature_range=(0, 1\", \"primary_metric\": 0.92083333, \"best_metric\": 0.92437343}, {\"run_id\": \"AutoML_438291e4-ac86-4bf1-aa6e-d9ba21e642b3_4\", \"run_number\": 7, \"metric\": null, \"status\": \"Completed\", \"run_type\": \"azureml.scriptrun\", \"training_percent\": \"100\", \"start_time\": \"2021-04-18T09:19:17.151608Z\", \"end_time\": \"2021-04-18T09:25:10.474464Z\", \"created_time\": \"2021-04-18T09:19:08.40685Z\", \"created_time_dt\": \"2021-04-18T09:19:08.40685Z\", \"duration\": \"0:06:02\", \"iteration\": \"4\", \"goal\": \"accuracy_max\", \"run_name\": \"MinMaxScaler, RandomForest\", \"run_properties\": \"copy=True, feature_range=(0, 1\", \"primary_metric\": 0.89094612, \"best_metric\": 0.92437343}, {\"run_id\": \"AutoML_438291e4-ac86-4bf1-aa6e-d9ba21e642b3_1\", \"run_number\": 8, \"metric\": null, \"status\": \"Completed\", \"run_type\": \"azureml.scriptrun\", \"training_percent\": \"100\", \"start_time\": \"2021-04-18T09:19:18.95739Z\", \"end_time\": \"2021-04-18T09:25:04.25646Z\", \"created_time\": \"2021-04-18T09:19:08.407934Z\", \"created_time_dt\": \"2021-04-18T09:19:08.407934Z\", \"duration\": \"0:05:55\", \"iteration\": \"1\", \"goal\": \"accuracy_max\", \"run_name\": \"MinMaxScaler, RandomForest\", \"run_properties\": \"copy=True, feature_range=(0, 1\", \"primary_metric\": 0.90676692, \"best_metric\": 0.92437343}, {\"run_id\": \"AutoML_438291e4-ac86-4bf1-aa6e-d9ba21e642b3_2\", \"run_number\": 9, \"metric\": null, \"status\": \"Completed\", \"run_type\": \"azureml.scriptrun\", \"training_percent\": \"100\", \"start_time\": \"2021-04-18T09:19:21.089374Z\", \"end_time\": \"2021-04-18T09:25:01.453676Z\", \"created_time\": \"2021-04-18T09:19:08.439483Z\", \"created_time_dt\": \"2021-04-18T09:19:08.439483Z\", \"duration\": \"0:05:53\", \"iteration\": \"2\", \"goal\": \"accuracy_max\", \"run_name\": \"MinMaxScaler, RandomForest\", \"run_properties\": \"copy=True, feature_range=(0, 1\", \"primary_metric\": 0.90494987, \"best_metric\": 0.92437343}, {\"run_id\": \"AutoML_438291e4-ac86-4bf1-aa6e-d9ba21e642b3_5\", \"run_number\": 10, \"metric\": null, \"status\": \"Completed\", \"run_type\": \"azureml.scriptrun\", \"training_percent\": \"100\", \"start_time\": \"2021-04-18T09:25:14.985106Z\", \"end_time\": \"2021-04-18T09:30:58.363534Z\", \"created_time\": \"2021-04-18T09:25:04.895538Z\", \"created_time_dt\": \"2021-04-18T09:25:04.895538Z\", \"duration\": \"0:05:53\", \"iteration\": \"5\", \"goal\": \"accuracy_max\", \"run_name\": \"MaxAbsScaler, LightGBM\", \"run_properties\": \"copy=True\", \"primary_metric\": 0.93665414, \"best_metric\": 0.93665414}, {\"run_id\": \"AutoML_438291e4-ac86-4bf1-aa6e-d9ba21e642b3_6\", \"run_number\": 11, \"metric\": null, \"status\": \"Completed\", \"run_type\": \"azureml.scriptrun\", \"training_percent\": \"100\", \"start_time\": \"2021-04-18T09:25:23.395404Z\", \"end_time\": \"2021-04-18T09:31:58.687981Z\", \"created_time\": \"2021-04-18T09:25:09.745692Z\", \"created_time_dt\": \"2021-04-18T09:25:09.745692Z\", \"duration\": \"0:06:48\", \"iteration\": \"6\", \"goal\": \"accuracy_max\", \"run_name\": \"MinMaxScaler, SVM\", \"run_properties\": \"copy=True, feature_range=(0, 1\", \"primary_metric\": 0.92077068, \"best_metric\": 0.93665414}, {\"run_id\": \"AutoML_438291e4-ac86-4bf1-aa6e-d9ba21e642b3_7\", \"run_number\": 12, \"metric\": null, \"status\": \"Completed\", \"run_type\": \"azureml.scriptrun\", \"training_percent\": \"100\", \"start_time\": \"2021-04-18T09:25:21.342698Z\", \"end_time\": \"2021-04-18T09:31:11.05456Z\", \"created_time\": \"2021-04-18T09:25:09.884665Z\", \"created_time_dt\": \"2021-04-18T09:25:09.884665Z\", \"duration\": \"0:06:01\", \"iteration\": \"7\", \"goal\": \"accuracy_max\", \"run_name\": \"MinMaxScaler, SVM\", \"run_properties\": \"copy=True, feature_range=(0, 1\", \"primary_metric\": 0.91378446, \"best_metric\": 0.93665414}, {\"run_id\": \"AutoML_438291e4-ac86-4bf1-aa6e-d9ba21e642b3_8\", \"run_number\": 13, \"metric\": null, \"status\": \"Completed\", \"run_type\": \"azureml.scriptrun\", \"training_percent\": \"100\", \"start_time\": \"2021-04-18T09:25:25.558715Z\", \"end_time\": \"2021-04-18T09:31:10.871028Z\", \"created_time\": \"2021-04-18T09:25:15.268264Z\", \"created_time_dt\": \"2021-04-18T09:25:15.268264Z\", \"duration\": \"0:05:55\", \"iteration\": \"8\", \"goal\": \"accuracy_max\", \"run_name\": \"StandardScalerWrapper, SGD\", \"run_properties\": \"<azureml.automl.runtime.shared.model_wrappers.StandardScalerWrapper object at 0x7f6d668feef0\", \"primary_metric\": 0.91732456, \"best_metric\": 0.93665414}, {\"run_id\": \"AutoML_438291e4-ac86-4bf1-aa6e-d9ba21e642b3_9\", \"run_number\": 14, \"metric\": null, \"status\": \"Completed\", \"run_type\": \"azureml.scriptrun\", \"training_percent\": \"100\", \"start_time\": \"2021-04-18T09:25:24.046706Z\", \"end_time\": \"2021-04-18T09:31:02.987164Z\", \"created_time\": \"2021-04-18T09:25:15.443656Z\", \"created_time_dt\": \"2021-04-18T09:25:15.443656Z\", \"duration\": \"0:05:47\", \"iteration\": \"9\", \"goal\": \"accuracy_max\", \"run_name\": \"StandardScalerWrapper, SGD\", \"run_properties\": \"<azureml.automl.runtime.shared.model_wrappers.StandardScalerWrapper object at 0x7efbce514080\", \"primary_metric\": 0.92083333, \"best_metric\": 0.93665414}, {\"run_id\": \"AutoML_438291e4-ac86-4bf1-aa6e-d9ba21e642b3_10\", \"run_number\": 15, \"metric\": null, \"status\": \"Completed\", \"run_type\": \"azureml.scriptrun\", \"training_percent\": \"100\", \"start_time\": \"2021-04-18T09:31:19.426682Z\", \"end_time\": \"2021-04-18T09:37:04.403612Z\", \"created_time\": \"2021-04-18T09:31:00.767968Z\", \"created_time_dt\": \"2021-04-18T09:31:00.767968Z\", \"duration\": \"0:06:03\", \"iteration\": \"10\", \"goal\": \"accuracy_max\", \"run_name\": \"MinMaxScaler, LogisticRegression\", \"run_properties\": \"copy=True, feature_range=(0, 1\", \"primary_metric\": 0.91904762, \"best_metric\": 0.93665414}, {\"run_id\": \"AutoML_438291e4-ac86-4bf1-aa6e-d9ba21e642b3_11\", \"run_number\": 16, \"metric\": null, \"status\": \"Completed\", \"run_type\": \"azureml.scriptrun\", \"training_percent\": \"100\", \"start_time\": \"2021-04-18T09:31:20.164301Z\", \"end_time\": \"2021-04-18T09:37:10.149834Z\", \"created_time\": \"2021-04-18T09:31:05.49332Z\", \"created_time_dt\": \"2021-04-18T09:31:05.49332Z\", \"duration\": \"0:06:04\", \"iteration\": \"11\", \"goal\": \"accuracy_max\", \"run_name\": \"MaxAbsScaler, RandomForest\", \"run_properties\": \"copy=True\", \"primary_metric\": 0.91375313, \"best_metric\": 0.93665414}, {\"run_id\": \"AutoML_438291e4-ac86-4bf1-aa6e-d9ba21e642b3_12\", \"run_number\": 17, \"metric\": null, \"status\": \"Completed\", \"run_type\": \"azureml.scriptrun\", \"training_percent\": \"100\", \"start_time\": \"2021-04-18T09:31:21.181556Z\", \"end_time\": \"2021-04-18T09:37:00.788386Z\", \"created_time\": \"2021-04-18T09:31:13.222334Z\", \"created_time_dt\": \"2021-04-18T09:31:13.222334Z\", \"duration\": \"0:05:47\", \"iteration\": \"12\", \"goal\": \"accuracy_max\", \"run_name\": \"StandardScalerWrapper, GradientBoosting\", \"run_properties\": \"<azureml.automl.runtime.shared.model_wrappers.StandardScalerWrapper object at 0x7fd7e042a198\", \"primary_metric\": 0.89971805, \"best_metric\": 0.93665414}, {\"run_id\": \"AutoML_438291e4-ac86-4bf1-aa6e-d9ba21e642b3_13\", \"run_number\": 18, \"metric\": null, \"status\": \"Completed\", \"run_type\": \"azureml.scriptrun\", \"training_percent\": \"100\", \"start_time\": \"2021-04-18T09:31:24.512504Z\", \"end_time\": \"2021-04-18T09:37:08.206699Z\", \"created_time\": \"2021-04-18T09:31:13.314135Z\", \"created_time_dt\": \"2021-04-18T09:31:13.314135Z\", \"duration\": \"0:05:54\", \"iteration\": \"13\", \"goal\": \"accuracy_max\", \"run_name\": \"StandardScalerWrapper, LightGBM\", \"run_properties\": \"<azureml.automl.runtime.shared.model_wrappers.StandardScalerWrapper object at 0x7effb4cf7128\", \"primary_metric\": 0.92785088, \"best_metric\": 0.93665414}, {\"run_id\": \"AutoML_438291e4-ac86-4bf1-aa6e-d9ba21e642b3_14\", \"run_number\": 19, \"metric\": null, \"status\": \"Completed\", \"run_type\": \"azureml.scriptrun\", \"training_percent\": \"100\", \"start_time\": \"2021-04-18T09:32:14.027925Z\", \"end_time\": \"2021-04-18T09:38:37.426452Z\", \"created_time\": \"2021-04-18T09:32:00.871365Z\", \"created_time_dt\": \"2021-04-18T09:32:00.871365Z\", \"duration\": \"0:06:36\", \"iteration\": \"14\", \"goal\": \"accuracy_max\", \"run_name\": \"MaxAbsScaler, LightGBM\", \"run_properties\": \"copy=True\", \"primary_metric\": 0.92258772, \"best_metric\": 0.93665414}, {\"run_id\": \"AutoML_438291e4-ac86-4bf1-aa6e-d9ba21e642b3_15\", \"run_number\": 20, \"metric\": null, \"status\": \"Completed\", \"run_type\": \"azureml.scriptrun\", \"training_percent\": \"100\", \"start_time\": \"2021-04-18T09:37:18.144042Z\", \"end_time\": \"2021-04-18T09:43:09.042846Z\", \"created_time\": \"2021-04-18T09:37:03.518243Z\", \"created_time_dt\": \"2021-04-18T09:37:03.518243Z\", \"duration\": \"0:06:05\", \"iteration\": \"15\", \"goal\": \"accuracy_max\", \"run_name\": \"MaxAbsScaler, LightGBM\", \"run_properties\": \"copy=True\", \"primary_metric\": 0.91199875, \"best_metric\": 0.93665414}, {\"run_id\": \"AutoML_438291e4-ac86-4bf1-aa6e-d9ba21e642b3_17\", \"run_number\": 21, \"metric\": null, \"status\": \"Completed\", \"run_type\": \"azureml.scriptrun\", \"training_percent\": \"100\", \"start_time\": \"2021-04-18T09:37:20.818244Z\", \"end_time\": \"2021-04-18T09:43:05.876054Z\", \"created_time\": \"2021-04-18T09:37:10.875315Z\", \"created_time_dt\": \"2021-04-18T09:37:10.875315Z\", \"duration\": \"0:05:55\", \"iteration\": \"17\", \"goal\": \"accuracy_max\", \"run_name\": \"MinMaxScaler, LightGBM\", \"run_properties\": \"copy=True, feature_range=(0, 1\", \"primary_metric\": 0.92606516, \"best_metric\": 0.93665414}, {\"run_id\": \"AutoML_438291e4-ac86-4bf1-aa6e-d9ba21e642b3_16\", \"run_number\": 22, \"metric\": null, \"status\": \"Completed\", \"run_type\": \"azureml.scriptrun\", \"training_percent\": \"100\", \"start_time\": \"2021-04-18T09:37:24.09918Z\", \"end_time\": \"2021-04-18T09:43:06.567453Z\", \"created_time\": \"2021-04-18T09:37:10.876751Z\", \"created_time_dt\": \"2021-04-18T09:37:10.876751Z\", \"duration\": \"0:05:55\", \"iteration\": \"16\", \"goal\": \"accuracy_max\", \"run_name\": \"RobustScaler, LightGBM\", \"run_properties\": \"copy=True, quantile_range=[10, 90], with_centering=True,\\n             with_scaling=True\", \"primary_metric\": 0.89796366, \"best_metric\": 0.93665414}, {\"run_id\": \"AutoML_438291e4-ac86-4bf1-aa6e-d9ba21e642b3_18\", \"run_number\": 23, \"metric\": null, \"status\": \"Completed\", \"run_type\": \"azureml.scriptrun\", \"training_percent\": \"100\", \"start_time\": \"2021-04-18T09:37:30.163379Z\", \"end_time\": \"2021-04-18T09:43:12.653554Z\", \"created_time\": \"2021-04-18T09:37:18.427593Z\", \"created_time_dt\": \"2021-04-18T09:37:18.427593Z\", \"duration\": \"0:05:54\", \"iteration\": \"18\", \"goal\": \"accuracy_max\", \"run_name\": \"RobustScaler, KNN\", \"run_properties\": \"copy=True, quantile_range=[25, 75], with_centering=True,\\n             with_scaling=False\", \"primary_metric\": 0.89620927, \"best_metric\": 0.93665414}, {\"run_id\": \"AutoML_438291e4-ac86-4bf1-aa6e-d9ba21e642b3_19\", \"run_number\": 24, \"metric\": null, \"status\": \"Completed\", \"run_type\": \"azureml.scriptrun\", \"training_percent\": \"100\", \"start_time\": \"2021-04-18T09:38:57.784158Z\", \"end_time\": \"2021-04-18T09:45:27.821801Z\", \"created_time\": \"2021-04-18T09:38:39.822232Z\", \"created_time_dt\": \"2021-04-18T09:38:39.822232Z\", \"duration\": \"0:06:47\", \"iteration\": \"19\", \"goal\": \"accuracy_max\", \"run_name\": \"MaxAbsScaler, ExtremeRandomTrees\", \"run_properties\": \"copy=True\", \"primary_metric\": 0.88223684, \"best_metric\": 0.93665414}, {\"run_id\": \"AutoML_438291e4-ac86-4bf1-aa6e-d9ba21e642b3_20\", \"run_number\": 25, \"metric\": null, \"status\": \"Completed\", \"run_type\": \"azureml.scriptrun\", \"training_percent\": \"100\", \"start_time\": \"2021-04-18T09:43:20.990883Z\", \"end_time\": \"2021-04-18T09:49:03.130982Z\", \"created_time\": \"2021-04-18T09:43:08.768083Z\", \"created_time_dt\": \"2021-04-18T09:43:08.768083Z\", \"duration\": \"0:05:54\", \"iteration\": \"20\", \"goal\": \"accuracy_max\", \"run_name\": \"MinMaxScaler, LightGBM\", \"run_properties\": \"copy=True, feature_range=(0, 1\", \"primary_metric\": 0.92258772, \"best_metric\": 0.93665414}, {\"run_id\": \"AutoML_438291e4-ac86-4bf1-aa6e-d9ba21e642b3_21\", \"run_number\": 26, \"metric\": null, \"status\": \"Completed\", \"run_type\": \"azureml.scriptrun\", \"training_percent\": \"100\", \"start_time\": \"2021-04-18T09:43:19.626387Z\", \"end_time\": \"2021-04-18T09:49:08.262518Z\", \"created_time\": \"2021-04-18T09:43:08.780673Z\", \"created_time_dt\": \"2021-04-18T09:43:08.780673Z\", \"duration\": \"0:05:59\", \"iteration\": \"21\", \"goal\": \"accuracy_max\", \"run_name\": \"StandardScalerWrapper, ExtremeRandomTrees\", \"run_properties\": \"<azureml.automl.runtime.shared.model_wrappers.StandardScalerWrapper object at 0x7feb9522c0f0\", \"primary_metric\": 0.86463033, \"best_metric\": 0.93665414}, {\"run_id\": \"AutoML_438291e4-ac86-4bf1-aa6e-d9ba21e642b3_22\", \"run_number\": 27, \"metric\": null, \"status\": \"Completed\", \"run_type\": \"azureml.scriptrun\", \"training_percent\": \"100\", \"start_time\": \"2021-04-18T09:43:28.384351Z\", \"end_time\": \"2021-04-18T09:49:08.428273Z\", \"created_time\": \"2021-04-18T09:43:17.626017Z\", \"created_time_dt\": \"2021-04-18T09:43:17.626017Z\", \"duration\": \"0:05:50\", \"iteration\": \"22\", \"goal\": \"accuracy_max\", \"run_name\": \"MinMaxScaler, LightGBM\", \"run_properties\": \"copy=True, feature_range=(0, 1\", \"primary_metric\": 0.93142231, \"best_metric\": 0.93665414}, {\"run_id\": \"AutoML_438291e4-ac86-4bf1-aa6e-d9ba21e642b3_23\", \"run_number\": 28, \"metric\": null, \"status\": \"Canceled\", \"run_type\": \"azureml.scriptrun\", \"training_percent\": \"100\", \"start_time\": \"2021-04-18T09:43:32.313929Z\", \"end_time\": \"2021-04-18T09:49:12.679837Z\", \"created_time\": \"2021-04-18T09:43:22.023823Z\", \"created_time_dt\": \"2021-04-18T09:43:22.023823Z\", \"duration\": \"0:05:50\", \"iteration\": \"23\", \"goal\": \"accuracy_max\", \"run_name\": \"MaxAbsScaler, LightGBM\", \"run_properties\": \"copy=True\", \"primary_metric\": 0.93317669, \"best_metric\": 0.93665414}, {\"run_id\": \"AutoML_438291e4-ac86-4bf1-aa6e-d9ba21e642b3_24\", \"run_number\": 29, \"metric\": null, \"status\": \"Canceled\", \"run_type\": \"azureml.scriptrun\", \"training_percent\": \"100\", \"start_time\": \"2021-04-18T09:45:44.359377Z\", \"end_time\": \"2021-04-18T09:49:18.33038Z\", \"created_time\": \"2021-04-18T09:45:30.231454Z\", \"created_time_dt\": \"2021-04-18T09:45:30.231454Z\", \"duration\": \"0:03:48\", \"iteration\": \"24\", \"goal\": null, \"run_name\": \"Canceled\", \"run_properties\": null}, {\"run_id\": \"AutoML_438291e4-ac86-4bf1-aa6e-d9ba21e642b3_25\", \"run_number\": 30, \"metric\": null, \"status\": \"Canceled\", \"run_type\": \"azureml.scriptrun\", \"training_percent\": \"100\", \"start_time\": \"2021-04-18T09:49:07.148912Z\", \"end_time\": \"2021-04-18T09:49:26.749268Z\", \"created_time\": \"2021-04-18T09:49:07.148912Z\", \"created_time_dt\": \"2021-04-18T09:49:07.148912Z\", \"duration\": \"0:00:19\", \"iteration\": \"25\", \"goal\": null, \"run_name\": \"Canceled\", \"run_properties\": null}, {\"run_id\": \"AutoML_438291e4-ac86-4bf1-aa6e-d9ba21e642b3_26\", \"run_number\": 31, \"metric\": null, \"status\": \"Completed\", \"run_type\": \"azureml.scriptrun\", \"training_percent\": \"100\", \"start_time\": \"2021-04-18T09:49:37.263947Z\", \"end_time\": \"2021-04-18T09:57:04.60429Z\", \"created_time\": \"2021-04-18T09:49:28.820572Z\", \"created_time_dt\": \"2021-04-18T09:49:28.820572Z\", \"duration\": \"0:07:35\", \"iteration\": \"26\", \"goal\": \"accuracy_max\", \"run_name\": \"VotingEnsemble\", \"run_properties\": \"classification_labels=None,\\n                              estimators=[('5',\\n                                           Pipeline(memory=None,\\n                                                    steps=[('maxabsscaler',\\n                                                            MaxAbsScaler(copy=True\", \"primary_metric\": 0.94016291, \"best_metric\": 0.94016291}, {\"run_id\": \"AutoML_438291e4-ac86-4bf1-aa6e-d9ba21e642b3_27\", \"run_number\": 32, \"metric\": null, \"status\": \"Completed\", \"run_type\": \"azureml.scriptrun\", \"training_percent\": \"100\", \"start_time\": \"2021-04-18T09:49:40.143042Z\", \"end_time\": \"2021-04-18T09:57:08.534511Z\", \"created_time\": \"2021-04-18T09:49:28.94509Z\", \"created_time_dt\": \"2021-04-18T09:49:28.94509Z\", \"duration\": \"0:07:39\", \"iteration\": \"27\", \"goal\": \"accuracy_max\", \"run_name\": \"StackEnsemble\", \"run_properties\": \"base_learners=[('5',\\n                                        Pipeline(memory=None,\\n                                                 steps=[('maxabsscaler',\\n                                                         MaxAbsScaler(copy=True\", \"primary_metric\": 0.94016291, \"best_metric\": 0.94016291}], \"children_metrics\": {\"categories\": [0], \"series\": {\"AUC_micro\": [{\"categories\": [\"0\", \"1\", \"2\", \"3\", \"4\", \"5\", \"6\", \"7\", \"8\", \"9\", \"10\", \"11\", \"12\", \"13\", \"14\", \"15\", \"16\", \"17\", \"18\", \"19\", \"20\", \"21\", \"22\", \"23\", \"26\", \"27\"], \"mode\": \"markers\", \"name\": \"AUC_micro\", \"stepped\": false, \"type\": \"scatter\", \"data\": [0.9787857213522528, 0.9679355421762426, 0.9665571549487757, 0.9770782002782645, 0.9541120285833632, 0.9806917827149327, 0.9554976197542728, 0.9575062735158699, 0.9805631226405612, 0.9811720423395581, 0.9805223624537536, 0.973925464114547, 0.9607976610542647, 0.9786240644688162, 0.9746178474852544, 0.9726435743965176, 0.9530971656899141, 0.978550307472943, 0.9502522067229477, 0.9507987445901721, 0.9799278604562784, 0.9401775997795241, 0.9804067362171093, 0.9784854229087756, 0.981144590800309, 0.9807136889843656]}, {\"categories\": [\"0\", \"1\", \"2\", \"3\", \"4\", \"5\", \"6\", \"7\", \"8\", \"9\", \"10\", \"11\", \"12\", \"13\", \"14\", \"15\", \"16\", \"17\", \"18\", \"19\", \"20\", \"21\", \"22\", \"23\", \"26\", \"27\"], \"mode\": \"lines\", \"name\": \"AUC_micro_max\", \"stepped\": true, \"type\": \"scatter\", \"data\": [0.9787857213522528, 0.9787857213522528, 0.9787857213522528, 0.9787857213522528, 0.9787857213522528, 0.9806917827149327, 0.9806917827149327, 0.9806917827149327, 0.9806917827149327, 0.9811720423395581, 0.9811720423395581, 0.9811720423395581, 0.9811720423395581, 0.9811720423395581, 0.9811720423395581, 0.9811720423395581, 0.9811720423395581, 0.9811720423395581, 0.9811720423395581, 0.9811720423395581, 0.9811720423395581, 0.9811720423395581, 0.9811720423395581, 0.9811720423395581, 0.9811720423395581, 0.9811720423395581]}], \"average_precision_score_macro\": [{\"categories\": [\"0\", \"1\", \"2\", \"3\", \"4\", \"5\", \"6\", \"7\", \"8\", \"9\", \"10\", \"11\", \"12\", \"13\", \"14\", \"15\", \"16\", \"17\", \"18\", \"19\", \"20\", \"21\", \"22\", \"23\", \"26\", \"27\"], \"mode\": \"markers\", \"name\": \"average_precision_score_macro\", \"stepped\": false, \"type\": \"scatter\", \"data\": [0.9780138106513124, 0.9656221105917083, 0.9639765741687144, 0.9782153897783308, 0.9523661424636742, 0.9811207292545951, 0.9444414092051154, 0.9491536009182011, 0.9807992170586564, 0.981758328135656, 0.9814337053708406, 0.9736286861285798, 0.9681245089771302, 0.9807656381104269, 0.9762844627771503, 0.9749692666916342, 0.9627942881472984, 0.9797044425784536, 0.939336685514853, 0.9673246358005254, 0.9794798269151876, 0.9735459332195694, 0.9803305700114278, 0.9773177014046105, 0.9815747565084765, 0.9810922876458292]}, {\"categories\": [\"0\", \"1\", \"2\", \"3\", \"4\", \"5\", \"6\", \"7\", \"8\", \"9\", \"10\", \"11\", \"12\", \"13\", \"14\", \"15\", \"16\", \"17\", \"18\", \"19\", \"20\", \"21\", \"22\", \"23\", \"26\", \"27\"], \"mode\": \"lines\", \"name\": \"average_precision_score_macro_max\", \"stepped\": true, \"type\": \"scatter\", \"data\": [0.9780138106513124, 0.9780138106513124, 0.9780138106513124, 0.9782153897783308, 0.9782153897783308, 0.9811207292545951, 0.9811207292545951, 0.9811207292545951, 0.9811207292545951, 0.981758328135656, 0.981758328135656, 0.981758328135656, 0.981758328135656, 0.981758328135656, 0.981758328135656, 0.981758328135656, 0.981758328135656, 0.981758328135656, 0.981758328135656, 0.981758328135656, 0.981758328135656, 0.981758328135656, 0.981758328135656, 0.981758328135656, 0.981758328135656, 0.981758328135656]}], \"recall_score_micro\": [{\"categories\": [\"0\", \"1\", \"2\", \"3\", \"4\", \"5\", \"6\", \"7\", \"8\", \"9\", \"10\", \"11\", \"12\", \"13\", \"14\", \"15\", \"16\", \"17\", \"18\", \"19\", \"20\", \"21\", \"22\", \"23\", \"26\", \"27\"], \"mode\": \"markers\", \"name\": \"recall_score_micro\", \"stepped\": false, \"type\": \"scatter\", \"data\": [0.9243734335839597, 0.906766917293233, 0.9049498746867167, 0.9208333333333332, 0.8909461152882205, 0.9366541353383457, 0.9207706766917292, 0.9137844611528821, 0.9173245614035087, 0.9208333333333334, 0.919047619047619, 0.91375313283208, 0.899718045112782, 0.9278508771929823, 0.9225877192982456, 0.9119987468671678, 0.8979636591478697, 0.9260651629072683, 0.8962092731829573, 0.882236842105263, 0.9225877192982456, 0.8646303258145362, 0.931422305764411, 0.9331766917293234, 0.9401629072681704, 0.9401629072681704]}, {\"categories\": [\"0\", \"1\", \"2\", \"3\", \"4\", \"5\", \"6\", \"7\", \"8\", \"9\", \"10\", \"11\", \"12\", \"13\", \"14\", \"15\", \"16\", \"17\", \"18\", \"19\", \"20\", \"21\", \"22\", \"23\", \"26\", \"27\"], \"mode\": \"lines\", \"name\": \"recall_score_micro_max\", \"stepped\": true, \"type\": \"scatter\", \"data\": [0.9243734335839597, 0.9243734335839597, 0.9243734335839597, 0.9243734335839597, 0.9243734335839597, 0.9366541353383457, 0.9366541353383457, 0.9366541353383457, 0.9366541353383457, 0.9366541353383457, 0.9366541353383457, 0.9366541353383457, 0.9366541353383457, 0.9366541353383457, 0.9366541353383457, 0.9366541353383457, 0.9366541353383457, 0.9366541353383457, 0.9366541353383457, 0.9366541353383457, 0.9366541353383457, 0.9366541353383457, 0.9366541353383457, 0.9366541353383457, 0.9401629072681704, 0.9401629072681704]}], \"accuracy\": [{\"categories\": [\"0\", \"1\", \"2\", \"3\", \"4\", \"5\", \"6\", \"7\", \"8\", \"9\", \"10\", \"11\", \"12\", \"13\", \"14\", \"15\", \"16\", \"17\", \"18\", \"19\", \"20\", \"21\", \"22\", \"23\", \"26\", \"27\"], \"mode\": \"markers\", \"name\": \"accuracy\", \"stepped\": false, \"type\": \"scatter\", \"data\": [0.9243734335839597, 0.906766917293233, 0.9049498746867167, 0.9208333333333332, 0.8909461152882205, 0.9366541353383457, 0.9207706766917292, 0.9137844611528821, 0.9173245614035087, 0.9208333333333334, 0.919047619047619, 0.91375313283208, 0.899718045112782, 0.9278508771929823, 0.9225877192982456, 0.9119987468671678, 0.8979636591478697, 0.9260651629072683, 0.8962092731829573, 0.882236842105263, 0.9225877192982456, 0.8646303258145362, 0.931422305764411, 0.9331766917293234, 0.9401629072681704, 0.9401629072681704]}, {\"categories\": [\"0\", \"1\", \"2\", \"3\", \"4\", \"5\", \"6\", \"7\", \"8\", \"9\", \"10\", \"11\", \"12\", \"13\", \"14\", \"15\", \"16\", \"17\", \"18\", \"19\", \"20\", \"21\", \"22\", \"23\", \"26\", \"27\"], \"mode\": \"lines\", \"name\": \"accuracy_max\", \"stepped\": true, \"type\": \"scatter\", \"data\": [0.9243734335839597, 0.9243734335839597, 0.9243734335839597, 0.9243734335839597, 0.9243734335839597, 0.9366541353383457, 0.9366541353383457, 0.9366541353383457, 0.9366541353383457, 0.9366541353383457, 0.9366541353383457, 0.9366541353383457, 0.9366541353383457, 0.9366541353383457, 0.9366541353383457, 0.9366541353383457, 0.9366541353383457, 0.9366541353383457, 0.9366541353383457, 0.9366541353383457, 0.9366541353383457, 0.9366541353383457, 0.9366541353383457, 0.9366541353383457, 0.9401629072681704, 0.9401629072681704]}], \"f1_score_micro\": [{\"categories\": [\"0\", \"1\", \"2\", \"3\", \"4\", \"5\", \"6\", \"7\", \"8\", \"9\", \"10\", \"11\", \"12\", \"13\", \"14\", \"15\", \"16\", \"17\", \"18\", \"19\", \"20\", \"21\", \"22\", \"23\", \"26\", \"27\"], \"mode\": \"markers\", \"name\": \"f1_score_micro\", \"stepped\": false, \"type\": \"scatter\", \"data\": [0.9243734335839597, 0.906766917293233, 0.9049498746867167, 0.9208333333333332, 0.8909461152882205, 0.9366541353383457, 0.9207706766917292, 0.9137844611528821, 0.9173245614035087, 0.9208333333333334, 0.919047619047619, 0.91375313283208, 0.899718045112782, 0.9278508771929823, 0.9225877192982456, 0.9119987468671678, 0.8979636591478697, 0.9260651629072683, 0.8962092731829573, 0.882236842105263, 0.9225877192982456, 0.8646303258145362, 0.931422305764411, 0.9331766917293234, 0.9401629072681704, 0.9401629072681704]}, {\"categories\": [\"0\", \"1\", \"2\", \"3\", \"4\", \"5\", \"6\", \"7\", \"8\", \"9\", \"10\", \"11\", \"12\", \"13\", \"14\", \"15\", \"16\", \"17\", \"18\", \"19\", \"20\", \"21\", \"22\", \"23\", \"26\", \"27\"], \"mode\": \"lines\", \"name\": \"f1_score_micro_max\", \"stepped\": true, \"type\": \"scatter\", \"data\": [0.9243734335839597, 0.9243734335839597, 0.9243734335839597, 0.9243734335839597, 0.9243734335839597, 0.9366541353383457, 0.9366541353383457, 0.9366541353383457, 0.9366541353383457, 0.9366541353383457, 0.9366541353383457, 0.9366541353383457, 0.9366541353383457, 0.9366541353383457, 0.9366541353383457, 0.9366541353383457, 0.9366541353383457, 0.9366541353383457, 0.9366541353383457, 0.9366541353383457, 0.9366541353383457, 0.9366541353383457, 0.9366541353383457, 0.9366541353383457, 0.9401629072681704, 0.9401629072681704]}], \"balanced_accuracy\": [{\"categories\": [\"0\", \"1\", \"2\", \"3\", \"4\", \"5\", \"6\", \"7\", \"8\", \"9\", \"10\", \"11\", \"12\", \"13\", \"14\", \"15\", \"16\", \"17\", \"18\", \"19\", \"20\", \"21\", \"22\", \"23\", \"26\", \"27\"], \"mode\": \"markers\", \"name\": \"balanced_accuracy\", \"stepped\": false, \"type\": \"scatter\", \"data\": [0.9182105951381587, 0.8948742449809852, 0.889892016384589, 0.9168167018801722, 0.8739427459020706, 0.9279221949838213, 0.9057190757986051, 0.8975889418982932, 0.9026443525786666, 0.908140827314272, 0.9041149408139608, 0.9012214489624604, 0.8807902184992606, 0.9155986757425003, 0.912000338640327, 0.8971217174876918, 0.8752594264723049, 0.9194693655878229, 0.8847850058126703, 0.8457969692962928, 0.912659183016771, 0.818942977915804, 0.9246575372246355, 0.9279398497329339, 0.9353728496642981, 0.9353728496642981]}, {\"categories\": [\"0\", \"1\", \"2\", \"3\", \"4\", \"5\", \"6\", \"7\", \"8\", \"9\", \"10\", \"11\", \"12\", \"13\", \"14\", \"15\", \"16\", \"17\", \"18\", \"19\", \"20\", \"21\", \"22\", \"23\", \"26\", \"27\"], \"mode\": \"lines\", \"name\": \"balanced_accuracy_max\", \"stepped\": true, \"type\": \"scatter\", \"data\": [0.9182105951381587, 0.9182105951381587, 0.9182105951381587, 0.9182105951381587, 0.9182105951381587, 0.9279221949838213, 0.9279221949838213, 0.9279221949838213, 0.9279221949838213, 0.9279221949838213, 0.9279221949838213, 0.9279221949838213, 0.9279221949838213, 0.9279221949838213, 0.9279221949838213, 0.9279221949838213, 0.9279221949838213, 0.9279221949838213, 0.9279221949838213, 0.9279221949838213, 0.9279221949838213, 0.9279221949838213, 0.9279221949838213, 0.9279398497329339, 0.9353728496642981, 0.9353728496642981]}], \"AUC_weighted\": [{\"categories\": [\"0\", \"1\", \"2\", \"3\", \"4\", \"5\", \"6\", \"7\", \"8\", \"9\", \"10\", \"11\", \"12\", \"13\", \"14\", \"15\", \"16\", \"17\", \"18\", \"19\", \"20\", \"21\", \"22\", \"23\", \"26\", \"27\"], \"mode\": \"markers\", \"name\": \"AUC_weighted\", \"stepped\": false, \"type\": \"scatter\", \"data\": [0.9773814891945802, 0.9669581953211399, 0.9656382719579613, 0.97803894515173, 0.9569054793109728, 0.9812746689180141, 0.9446277944285291, 0.9510440273281899, 0.9808021550802211, 0.9816936073927094, 0.9816292667498505, 0.9741084131830575, 0.9681583680437542, 0.9807307225735599, 0.9763570575764934, 0.9749979451653342, 0.9629567386180684, 0.979304150427039, 0.9465932760536193, 0.9673067799337872, 0.979674802289178, 0.973392775230334, 0.9798283969789725, 0.9778646099373068, 0.9811742726710758, 0.9809641695196027]}, {\"categories\": [\"0\", \"1\", \"2\", \"3\", \"4\", \"5\", \"6\", \"7\", \"8\", \"9\", \"10\", \"11\", \"12\", \"13\", \"14\", \"15\", \"16\", \"17\", \"18\", \"19\", \"20\", \"21\", \"22\", \"23\", \"26\", \"27\"], \"mode\": \"lines\", \"name\": \"AUC_weighted_max\", \"stepped\": true, \"type\": \"scatter\", \"data\": [0.9773814891945802, 0.9773814891945802, 0.9773814891945802, 0.97803894515173, 0.97803894515173, 0.9812746689180141, 0.9812746689180141, 0.9812746689180141, 0.9812746689180141, 0.9816936073927094, 0.9816936073927094, 0.9816936073927094, 0.9816936073927094, 0.9816936073927094, 0.9816936073927094, 0.9816936073927094, 0.9816936073927094, 0.9816936073927094, 0.9816936073927094, 0.9816936073927094, 0.9816936073927094, 0.9816936073927094, 0.9816936073927094, 0.9816936073927094, 0.9816936073927094, 0.9816936073927094]}], \"f1_score_weighted\": [{\"categories\": [\"0\", \"1\", \"2\", \"3\", \"4\", \"5\", \"6\", \"7\", \"8\", \"9\", \"10\", \"11\", \"12\", \"13\", \"14\", \"15\", \"16\", \"17\", \"18\", \"19\", \"20\", \"21\", \"22\", \"23\", \"26\", \"27\"], \"mode\": \"markers\", \"name\": \"f1_score_weighted\", \"stepped\": false, \"type\": \"scatter\", \"data\": [0.9243524885717143, 0.9053680502476329, 0.9031344165801146, 0.9206724416053648, 0.8887647083739705, 0.936252548410321, 0.919454512619521, 0.9127467069958227, 0.9158229679630076, 0.9197219573211213, 0.9174584324865611, 0.9122950763674715, 0.8969233562108958, 0.9265841088892138, 0.9213111031892101, 0.9103460940673713, 0.8946330971767112, 0.9255663635702984, 0.8950548097715197, 0.8771393053365374, 0.9223165063299013, 0.8554640048894943, 0.9309313259011052, 0.9328033819095763, 0.9399005312523458, 0.9399005312523458]}, {\"categories\": [\"0\", \"1\", \"2\", \"3\", \"4\", \"5\", \"6\", \"7\", \"8\", \"9\", \"10\", \"11\", \"12\", \"13\", \"14\", \"15\", \"16\", \"17\", \"18\", \"19\", \"20\", \"21\", \"22\", \"23\", \"26\", \"27\"], \"mode\": \"lines\", \"name\": \"f1_score_weighted_max\", \"stepped\": true, \"type\": \"scatter\", \"data\": [0.9243524885717143, 0.9243524885717143, 0.9243524885717143, 0.9243524885717143, 0.9243524885717143, 0.936252548410321, 0.936252548410321, 0.936252548410321, 0.936252548410321, 0.936252548410321, 0.936252548410321, 0.936252548410321, 0.936252548410321, 0.936252548410321, 0.936252548410321, 0.936252548410321, 0.936252548410321, 0.936252548410321, 0.936252548410321, 0.936252548410321, 0.936252548410321, 0.936252548410321, 0.936252548410321, 0.936252548410321, 0.9399005312523458, 0.9399005312523458]}], \"f1_score_macro\": [{\"categories\": [\"0\", \"1\", \"2\", \"3\", \"4\", \"5\", \"6\", \"7\", \"8\", \"9\", \"10\", \"11\", \"12\", \"13\", \"14\", \"15\", \"16\", \"17\", \"18\", \"19\", \"20\", \"21\", \"22\", \"23\", \"26\", \"27\"], \"mode\": \"markers\", \"name\": \"f1_score_macro\", \"stepped\": false, \"type\": \"scatter\", \"data\": [0.9171851072639103, 0.8987445604136243, 0.895704404655001, 0.9146122154783984, 0.8796239140625722, 0.9306378740367769, 0.9120566698421649, 0.9040309469274301, 0.9077015534544882, 0.9120271806790262, 0.909379299812613, 0.9060720146930477, 0.8889233328120012, 0.9208908988672319, 0.915863072886145, 0.9032631187844828, 0.8851588867693072, 0.9194637625360471, 0.8867041407152072, 0.8626247143799372, 0.9149595474289518, 0.8380996664029066, 0.9262951522103064, 0.9281214643223658, 0.9352421301626344, 0.9352421301626344]}, {\"categories\": [\"0\", \"1\", \"2\", \"3\", \"4\", \"5\", \"6\", \"7\", \"8\", \"9\", \"10\", \"11\", \"12\", \"13\", \"14\", \"15\", \"16\", \"17\", \"18\", \"19\", \"20\", \"21\", \"22\", \"23\", \"26\", \"27\"], \"mode\": \"lines\", \"name\": \"f1_score_macro_max\", \"stepped\": true, \"type\": \"scatter\", \"data\": [0.9171851072639103, 0.9171851072639103, 0.9171851072639103, 0.9171851072639103, 0.9171851072639103, 0.9306378740367769, 0.9306378740367769, 0.9306378740367769, 0.9306378740367769, 0.9306378740367769, 0.9306378740367769, 0.9306378740367769, 0.9306378740367769, 0.9306378740367769, 0.9306378740367769, 0.9306378740367769, 0.9306378740367769, 0.9306378740367769, 0.9306378740367769, 0.9306378740367769, 0.9306378740367769, 0.9306378740367769, 0.9306378740367769, 0.9306378740367769, 0.9352421301626344, 0.9352421301626344]}], \"precision_score_macro\": [{\"categories\": [\"0\", \"1\", \"2\", \"3\", \"4\", \"5\", \"6\", \"7\", \"8\", \"9\", \"10\", \"11\", \"12\", \"13\", \"14\", \"15\", \"16\", \"17\", \"18\", \"19\", \"20\", \"21\", \"22\", \"23\", \"26\", \"27\"], \"mode\": \"markers\", \"name\": \"precision_score_macro\", \"stepped\": false, \"type\": \"scatter\", \"data\": [0.9192347941740525, 0.9092430792884547, 0.9104121585728588, 0.9157599533944399, 0.8970176714499806, 0.9357697074152153, 0.9250655188932646, 0.914680355530086, 0.9244982230370026, 0.9246184261134591, 0.9267977989159715, 0.9177551208268119, 0.9115734684903731, 0.9334115017988948, 0.9267705765074187, 0.9182007741067968, 0.9127254330156086, 0.924971280907477, 0.8969516497094233, 0.9072894603517498, 0.9200698757170921, 0.9083184126233332, 0.9302080403923318, 0.930886258358832, 0.9385737489693312, 0.9385737489693312]}, {\"categories\": [\"0\", \"1\", \"2\", \"3\", \"4\", \"5\", \"6\", \"7\", \"8\", \"9\", \"10\", \"11\", \"12\", \"13\", \"14\", \"15\", \"16\", \"17\", \"18\", \"19\", \"20\", \"21\", \"22\", \"23\", \"26\", \"27\"], \"mode\": \"lines\", \"name\": \"precision_score_macro_max\", \"stepped\": true, \"type\": \"scatter\", \"data\": [0.9192347941740525, 0.9192347941740525, 0.9192347941740525, 0.9192347941740525, 0.9192347941740525, 0.9357697074152153, 0.9357697074152153, 0.9357697074152153, 0.9357697074152153, 0.9357697074152153, 0.9357697074152153, 0.9357697074152153, 0.9357697074152153, 0.9357697074152153, 0.9357697074152153, 0.9357697074152153, 0.9357697074152153, 0.9357697074152153, 0.9357697074152153, 0.9357697074152153, 0.9357697074152153, 0.9357697074152153, 0.9357697074152153, 0.9357697074152153, 0.9385737489693312, 0.9385737489693312]}], \"precision_score_weighted\": [{\"categories\": [\"0\", \"1\", \"2\", \"3\", \"4\", \"5\", \"6\", \"7\", \"8\", \"9\", \"10\", \"11\", \"12\", \"13\", \"14\", \"15\", \"16\", \"17\", \"18\", \"19\", \"20\", \"21\", \"22\", \"23\", \"26\", \"27\"], \"mode\": \"markers\", \"name\": \"precision_score_weighted\", \"stepped\": false, \"type\": \"scatter\", \"data\": [0.9268260876918551, 0.9096259852474236, 0.9088853402432946, 0.9229970946133388, 0.8966666488943005, 0.937921119013623, 0.9239727540385644, 0.9154429796002702, 0.9243572778051726, 0.9261283112869565, 0.9262760762279025, 0.9166637322193809, 0.90671427163615, 0.9315722749702167, 0.9262126875527154, 0.9162055591126258, 0.9063261506509663, 0.9294380588464582, 0.9008230059147649, 0.8953031960475701, 0.9243624441443528, 0.8882789095231708, 0.9323753518925496, 0.9345848469683361, 0.9423791893230865, 0.9423791893230865]}, {\"categories\": [\"0\", \"1\", \"2\", \"3\", \"4\", \"5\", \"6\", \"7\", \"8\", \"9\", \"10\", \"11\", \"12\", \"13\", \"14\", \"15\", \"16\", \"17\", \"18\", \"19\", \"20\", \"21\", \"22\", \"23\", \"26\", \"27\"], \"mode\": \"lines\", \"name\": \"precision_score_weighted_max\", \"stepped\": true, \"type\": \"scatter\", \"data\": [0.9268260876918551, 0.9268260876918551, 0.9268260876918551, 0.9268260876918551, 0.9268260876918551, 0.937921119013623, 0.937921119013623, 0.937921119013623, 0.937921119013623, 0.937921119013623, 0.937921119013623, 0.937921119013623, 0.937921119013623, 0.937921119013623, 0.937921119013623, 0.937921119013623, 0.937921119013623, 0.937921119013623, 0.937921119013623, 0.937921119013623, 0.937921119013623, 0.937921119013623, 0.937921119013623, 0.937921119013623, 0.9423791893230865, 0.9423791893230865]}], \"average_precision_score_micro\": [{\"categories\": [\"0\", \"1\", \"2\", \"3\", \"4\", \"5\", \"6\", \"7\", \"8\", \"9\", \"10\", \"11\", \"12\", \"13\", \"14\", \"15\", \"16\", \"17\", \"18\", \"19\", \"20\", \"21\", \"22\", \"23\", \"26\", \"27\"], \"mode\": \"markers\", \"name\": \"average_precision_score_micro\", \"stepped\": false, \"type\": \"scatter\", \"data\": [0.9796992152407007, 0.9677530050803688, 0.9655965306576328, 0.978108413869338, 0.9518396451236895, 0.9806732995167253, 0.9510165004022196, 0.9512071979661048, 0.9816403562632647, 0.9821985685065696, 0.9815740902737085, 0.9744034636068701, 0.9604373876449254, 0.9791904950796665, 0.9744193351424215, 0.972445853749065, 0.9519652568385053, 0.9793435720943215, 0.9440559234066965, 0.9518779388717012, 0.9807172726105445, 0.9427843438154502, 0.9811027754851669, 0.9791004027459532, 0.9816607337872731, 0.9812085873180841]}, {\"categories\": [\"0\", \"1\", \"2\", \"3\", \"4\", \"5\", \"6\", \"7\", \"8\", \"9\", \"10\", \"11\", \"12\", \"13\", \"14\", \"15\", \"16\", \"17\", \"18\", \"19\", \"20\", \"21\", \"22\", \"23\", \"26\", \"27\"], \"mode\": \"lines\", \"name\": \"average_precision_score_micro_max\", \"stepped\": true, \"type\": \"scatter\", \"data\": [0.9796992152407007, 0.9796992152407007, 0.9796992152407007, 0.9796992152407007, 0.9796992152407007, 0.9806732995167253, 0.9806732995167253, 0.9806732995167253, 0.9816403562632647, 0.9821985685065696, 0.9821985685065696, 0.9821985685065696, 0.9821985685065696, 0.9821985685065696, 0.9821985685065696, 0.9821985685065696, 0.9821985685065696, 0.9821985685065696, 0.9821985685065696, 0.9821985685065696, 0.9821985685065696, 0.9821985685065696, 0.9821985685065696, 0.9821985685065696, 0.9821985685065696, 0.9821985685065696]}], \"precision_score_micro\": [{\"categories\": [\"0\", \"1\", \"2\", \"3\", \"4\", \"5\", \"6\", \"7\", \"8\", \"9\", \"10\", \"11\", \"12\", \"13\", \"14\", \"15\", \"16\", \"17\", \"18\", \"19\", \"20\", \"21\", \"22\", \"23\", \"26\", \"27\"], \"mode\": \"markers\", \"name\": \"precision_score_micro\", \"stepped\": false, \"type\": \"scatter\", \"data\": [0.9243734335839597, 0.906766917293233, 0.9049498746867167, 0.9208333333333332, 0.8909461152882205, 0.9366541353383457, 0.9207706766917292, 0.9137844611528821, 0.9173245614035087, 0.9208333333333334, 0.919047619047619, 0.91375313283208, 0.899718045112782, 0.9278508771929823, 0.9225877192982456, 0.9119987468671678, 0.8979636591478697, 0.9260651629072683, 0.8962092731829573, 0.882236842105263, 0.9225877192982456, 0.8646303258145362, 0.931422305764411, 0.9331766917293234, 0.9401629072681704, 0.9401629072681704]}, {\"categories\": [\"0\", \"1\", \"2\", \"3\", \"4\", \"5\", \"6\", \"7\", \"8\", \"9\", \"10\", \"11\", \"12\", \"13\", \"14\", \"15\", \"16\", \"17\", \"18\", \"19\", \"20\", \"21\", \"22\", \"23\", \"26\", \"27\"], \"mode\": \"lines\", \"name\": \"precision_score_micro_max\", \"stepped\": true, \"type\": \"scatter\", \"data\": [0.9243734335839597, 0.9243734335839597, 0.9243734335839597, 0.9243734335839597, 0.9243734335839597, 0.9366541353383457, 0.9366541353383457, 0.9366541353383457, 0.9366541353383457, 0.9366541353383457, 0.9366541353383457, 0.9366541353383457, 0.9366541353383457, 0.9366541353383457, 0.9366541353383457, 0.9366541353383457, 0.9366541353383457, 0.9366541353383457, 0.9366541353383457, 0.9366541353383457, 0.9366541353383457, 0.9366541353383457, 0.9366541353383457, 0.9366541353383457, 0.9401629072681704, 0.9401629072681704]}], \"recall_score_weighted\": [{\"categories\": [\"0\", \"1\", \"2\", \"3\", \"4\", \"5\", \"6\", \"7\", \"8\", \"9\", \"10\", \"11\", \"12\", \"13\", \"14\", \"15\", \"16\", \"17\", \"18\", \"19\", \"20\", \"21\", \"22\", \"23\", \"26\", \"27\"], \"mode\": \"markers\", \"name\": \"recall_score_weighted\", \"stepped\": false, \"type\": \"scatter\", \"data\": [0.9243734335839597, 0.906766917293233, 0.9049498746867167, 0.9208333333333332, 0.8909461152882205, 0.9366541353383457, 0.9207706766917292, 0.9137844611528821, 0.9173245614035087, 0.9208333333333334, 0.919047619047619, 0.91375313283208, 0.899718045112782, 0.9278508771929823, 0.9225877192982456, 0.9119987468671678, 0.8979636591478697, 0.9260651629072683, 0.8962092731829573, 0.882236842105263, 0.9225877192982456, 0.8646303258145362, 0.931422305764411, 0.9331766917293234, 0.9401629072681704, 0.9401629072681704]}, {\"categories\": [\"0\", \"1\", \"2\", \"3\", \"4\", \"5\", \"6\", \"7\", \"8\", \"9\", \"10\", \"11\", \"12\", \"13\", \"14\", \"15\", \"16\", \"17\", \"18\", \"19\", \"20\", \"21\", \"22\", \"23\", \"26\", \"27\"], \"mode\": \"lines\", \"name\": \"recall_score_weighted_max\", \"stepped\": true, \"type\": \"scatter\", \"data\": [0.9243734335839597, 0.9243734335839597, 0.9243734335839597, 0.9243734335839597, 0.9243734335839597, 0.9366541353383457, 0.9366541353383457, 0.9366541353383457, 0.9366541353383457, 0.9366541353383457, 0.9366541353383457, 0.9366541353383457, 0.9366541353383457, 0.9366541353383457, 0.9366541353383457, 0.9366541353383457, 0.9366541353383457, 0.9366541353383457, 0.9366541353383457, 0.9366541353383457, 0.9366541353383457, 0.9366541353383457, 0.9366541353383457, 0.9366541353383457, 0.9401629072681704, 0.9401629072681704]}], \"AUC_macro\": [{\"categories\": [\"0\", \"1\", \"2\", \"3\", \"4\", \"5\", \"6\", \"7\", \"8\", \"9\", \"10\", \"11\", \"12\", \"13\", \"14\", \"15\", \"16\", \"17\", \"18\", \"19\", \"20\", \"21\", \"22\", \"23\", \"26\", \"27\"], \"mode\": \"markers\", \"name\": \"AUC_macro\", \"stepped\": false, \"type\": \"scatter\", \"data\": [0.9773814891945802, 0.9669581953211399, 0.9656382719579613, 0.9780389451517297, 0.9569054793109728, 0.9812746689180141, 0.9446277944285291, 0.9510440273281899, 0.9808021550802211, 0.9816936073927094, 0.9816292667498505, 0.9741084131830575, 0.9681583680437542, 0.9807307225735599, 0.9763570575764934, 0.9749979451653342, 0.9629567386180684, 0.979304150427039, 0.9465932760536193, 0.9673067799337872, 0.979674802289178, 0.973392775230334, 0.9798283969789725, 0.9778646099373066, 0.9811742726710758, 0.9809641695196027]}, {\"categories\": [\"0\", \"1\", \"2\", \"3\", \"4\", \"5\", \"6\", \"7\", \"8\", \"9\", \"10\", \"11\", \"12\", \"13\", \"14\", \"15\", \"16\", \"17\", \"18\", \"19\", \"20\", \"21\", \"22\", \"23\", \"26\", \"27\"], \"mode\": \"lines\", \"name\": \"AUC_macro_max\", \"stepped\": true, \"type\": \"scatter\", \"data\": [0.9773814891945802, 0.9773814891945802, 0.9773814891945802, 0.9780389451517297, 0.9780389451517297, 0.9812746689180141, 0.9812746689180141, 0.9812746689180141, 0.9812746689180141, 0.9816936073927094, 0.9816936073927094, 0.9816936073927094, 0.9816936073927094, 0.9816936073927094, 0.9816936073927094, 0.9816936073927094, 0.9816936073927094, 0.9816936073927094, 0.9816936073927094, 0.9816936073927094, 0.9816936073927094, 0.9816936073927094, 0.9816936073927094, 0.9816936073927094, 0.9816936073927094, 0.9816936073927094]}], \"log_loss\": [{\"categories\": [\"0\", \"1\", \"2\", \"3\", \"4\", \"5\", \"6\", \"7\", \"8\", \"9\", \"10\", \"11\", \"12\", \"13\", \"14\", \"15\", \"16\", \"17\", \"18\", \"19\", \"20\", \"21\", \"22\", \"23\", \"26\", \"27\"], \"mode\": \"markers\", \"name\": \"log_loss\", \"stepped\": false, \"type\": \"scatter\", \"data\": [0.24927938382759157, 0.27692186101414873, 0.29182831453833213, 0.19914376388883515, 0.2866718976298922, 0.17884885595017103, 0.2684159642776544, 0.2747565857116363, 0.2581899437488309, 0.22799643156886376, 0.21058699621876756, 0.2290039480275919, 0.34026575741067105, 0.1997686240035637, 0.26845805953163854, 0.2911806218938148, 0.3717403539664605, 0.18976989429617155, 0.7513546443658767, 0.40895462983232367, 0.181288748478172, 0.45238321826360617, 0.18796067048535084, 0.20302164660305722, 0.18562336710418123, 0.1986520119934147]}, {\"categories\": [\"0\", \"1\", \"2\", \"3\", \"4\", \"5\", \"6\", \"7\", \"8\", \"9\", \"10\", \"11\", \"12\", \"13\", \"14\", \"15\", \"16\", \"17\", \"18\", \"19\", \"20\", \"21\", \"22\", \"23\", \"26\", \"27\"], \"mode\": \"lines\", \"name\": \"log_loss_min\", \"stepped\": true, \"type\": \"scatter\", \"data\": [0.24927938382759157, 0.24927938382759157, 0.24927938382759157, 0.19914376388883515, 0.19914376388883515, 0.17884885595017103, 0.17884885595017103, 0.17884885595017103, 0.17884885595017103, 0.17884885595017103, 0.17884885595017103, 0.17884885595017103, 0.17884885595017103, 0.17884885595017103, 0.17884885595017103, 0.17884885595017103, 0.17884885595017103, 0.17884885595017103, 0.17884885595017103, 0.17884885595017103, 0.17884885595017103, 0.17884885595017103, 0.17884885595017103, 0.17884885595017103, 0.17884885595017103, 0.17884885595017103]}], \"matthews_correlation\": [{\"categories\": [\"0\", \"1\", \"2\", \"3\", \"4\", \"5\", \"6\", \"7\", \"8\", \"9\", \"10\", \"11\", \"12\", \"13\", \"14\", \"15\", \"16\", \"17\", \"18\", \"19\", \"20\", \"21\", \"22\", \"23\", \"26\", \"27\"], \"mode\": \"markers\", \"name\": \"matthews_correlation\", \"stepped\": false, \"type\": \"scatter\", \"data\": [0.8371715332149023, 0.8034985563161999, 0.7994887818372746, 0.8321700015941074, 0.7698686198616137, 0.8634902307064414, 0.8302155456803563, 0.8119883034334967, 0.8260368163677694, 0.8320218361768117, 0.829751784600604, 0.8183419185059526, 0.7910256783457387, 0.848377467986521, 0.8382240783154119, 0.8145247133561841, 0.7860480063551044, 0.8438500434765761, 0.7809743462067205, 0.7499160890103813, 0.8324600355848805, 0.7203029517509812, 0.8546727864173229, 0.8586046062763746, 0.8735798125447921, 0.8735798125447921]}, {\"categories\": [\"0\", \"1\", \"2\", \"3\", \"4\", \"5\", \"6\", \"7\", \"8\", \"9\", \"10\", \"11\", \"12\", \"13\", \"14\", \"15\", \"16\", \"17\", \"18\", \"19\", \"20\", \"21\", \"22\", \"23\", \"26\", \"27\"], \"mode\": \"lines\", \"name\": \"matthews_correlation_max\", \"stepped\": true, \"type\": \"scatter\", \"data\": [0.8371715332149023, 0.8371715332149023, 0.8371715332149023, 0.8371715332149023, 0.8371715332149023, 0.8634902307064414, 0.8634902307064414, 0.8634902307064414, 0.8634902307064414, 0.8634902307064414, 0.8634902307064414, 0.8634902307064414, 0.8634902307064414, 0.8634902307064414, 0.8634902307064414, 0.8634902307064414, 0.8634902307064414, 0.8634902307064414, 0.8634902307064414, 0.8634902307064414, 0.8634902307064414, 0.8634902307064414, 0.8634902307064414, 0.8634902307064414, 0.8735798125447921, 0.8735798125447921]}], \"norm_macro_recall\": [{\"categories\": [\"0\", \"1\", \"2\", \"3\", \"4\", \"5\", \"6\", \"7\", \"8\", \"9\", \"10\", \"11\", \"12\", \"13\", \"14\", \"15\", \"16\", \"17\", \"18\", \"19\", \"20\", \"21\", \"22\", \"23\", \"26\", \"27\"], \"mode\": \"markers\", \"name\": \"norm_macro_recall\", \"stepped\": false, \"type\": \"scatter\", \"data\": [0.8364211902763173, 0.7897484899619707, 0.7797840327691782, 0.8336334037603441, 0.747885491804141, 0.855844389967643, 0.81143815159721, 0.7951778837965866, 0.8052887051573336, 0.8162816546285437, 0.8082298816279219, 0.8024428979249209, 0.7615804369985211, 0.831197351485001, 0.824000677280654, 0.7942434349753833, 0.7505188529446098, 0.8389387311756462, 0.7695700116253408, 0.6915939385925854, 0.8253183660335417, 0.637885955831608, 0.8493150744492712, 0.855879699465868, 0.8707456993285966, 0.8707456993285966]}, {\"categories\": [\"0\", \"1\", \"2\", \"3\", \"4\", \"5\", \"6\", \"7\", \"8\", \"9\", \"10\", \"11\", \"12\", \"13\", \"14\", \"15\", \"16\", \"17\", \"18\", \"19\", \"20\", \"21\", \"22\", \"23\", \"26\", \"27\"], \"mode\": \"lines\", \"name\": \"norm_macro_recall_max\", \"stepped\": true, \"type\": \"scatter\", \"data\": [0.8364211902763173, 0.8364211902763173, 0.8364211902763173, 0.8364211902763173, 0.8364211902763173, 0.855844389967643, 0.855844389967643, 0.855844389967643, 0.855844389967643, 0.855844389967643, 0.855844389967643, 0.855844389967643, 0.855844389967643, 0.855844389967643, 0.855844389967643, 0.855844389967643, 0.855844389967643, 0.855844389967643, 0.855844389967643, 0.855844389967643, 0.855844389967643, 0.855844389967643, 0.855844389967643, 0.855879699465868, 0.8707456993285966, 0.8707456993285966]}], \"average_precision_score_weighted\": [{\"categories\": [\"0\", \"1\", \"2\", \"3\", \"4\", \"5\", \"6\", \"7\", \"8\", \"9\", \"10\", \"11\", \"12\", \"13\", \"14\", \"15\", \"16\", \"17\", \"18\", \"19\", \"20\", \"21\", \"22\", \"23\", \"26\", \"27\"], \"mode\": \"markers\", \"name\": \"average_precision_score_weighted\", \"stepped\": false, \"type\": \"scatter\", \"data\": [0.9802393177765827, 0.9683868493414132, 0.9664680233831662, 0.9800294411765764, 0.956666477496259, 0.9826087824406395, 0.945341511761919, 0.9522597949968018, 0.9826701055270093, 0.9835304839423354, 0.9834403578036527, 0.9757241727433495, 0.9705691287831195, 0.9820702973566882, 0.9780103486924305, 0.9766103746235164, 0.9653860027859353, 0.9811517578265091, 0.943723579245459, 0.9704757293488028, 0.9816768249123008, 0.9760291455509904, 0.9816531265003423, 0.979351059832935, 0.9827099613334926, 0.982375510970213]}, {\"categories\": [\"0\", \"1\", \"2\", \"3\", \"4\", \"5\", \"6\", \"7\", \"8\", \"9\", \"10\", \"11\", \"12\", \"13\", \"14\", \"15\", \"16\", \"17\", \"18\", \"19\", \"20\", \"21\", \"22\", \"23\", \"26\", \"27\"], \"mode\": \"lines\", \"name\": \"average_precision_score_weighted_max\", \"stepped\": true, \"type\": \"scatter\", \"data\": [0.9802393177765827, 0.9802393177765827, 0.9802393177765827, 0.9802393177765827, 0.9802393177765827, 0.9826087824406395, 0.9826087824406395, 0.9826087824406395, 0.9826701055270093, 0.9835304839423354, 0.9835304839423354, 0.9835304839423354, 0.9835304839423354, 0.9835304839423354, 0.9835304839423354, 0.9835304839423354, 0.9835304839423354, 0.9835304839423354, 0.9835304839423354, 0.9835304839423354, 0.9835304839423354, 0.9835304839423354, 0.9835304839423354, 0.9835304839423354, 0.9835304839423354, 0.9835304839423354]}], \"recall_score_macro\": [{\"categories\": [\"0\", \"1\", \"2\", \"3\", \"4\", \"5\", \"6\", \"7\", \"8\", \"9\", \"10\", \"11\", \"12\", \"13\", \"14\", \"15\", \"16\", \"17\", \"18\", \"19\", \"20\", \"21\", \"22\", \"23\", \"26\", \"27\"], \"mode\": \"markers\", \"name\": \"recall_score_macro\", \"stepped\": false, \"type\": \"scatter\", \"data\": [0.9182105951381587, 0.8948742449809852, 0.889892016384589, 0.9168167018801722, 0.8739427459020706, 0.9279221949838213, 0.9057190757986051, 0.8975889418982932, 0.9026443525786666, 0.908140827314272, 0.9041149408139608, 0.9012214489624604, 0.8807902184992606, 0.9155986757425003, 0.912000338640327, 0.8971217174876918, 0.8752594264723049, 0.9194693655878229, 0.8847850058126703, 0.8457969692962928, 0.912659183016771, 0.818942977915804, 0.9246575372246355, 0.9279398497329339, 0.9353728496642981, 0.9353728496642981]}, {\"categories\": [\"0\", \"1\", \"2\", \"3\", \"4\", \"5\", \"6\", \"7\", \"8\", \"9\", \"10\", \"11\", \"12\", \"13\", \"14\", \"15\", \"16\", \"17\", \"18\", \"19\", \"20\", \"21\", \"22\", \"23\", \"26\", \"27\"], \"mode\": \"lines\", \"name\": \"recall_score_macro_max\", \"stepped\": true, \"type\": \"scatter\", \"data\": [0.9182105951381587, 0.9182105951381587, 0.9182105951381587, 0.9182105951381587, 0.9182105951381587, 0.9279221949838213, 0.9279221949838213, 0.9279221949838213, 0.9279221949838213, 0.9279221949838213, 0.9279221949838213, 0.9279221949838213, 0.9279221949838213, 0.9279221949838213, 0.9279221949838213, 0.9279221949838213, 0.9279221949838213, 0.9279221949838213, 0.9279221949838213, 0.9279221949838213, 0.9279221949838213, 0.9279221949838213, 0.9279221949838213, 0.9279398497329339, 0.9353728496642981, 0.9353728496642981]}], \"weighted_accuracy\": [{\"categories\": [\"0\", \"1\", \"2\", \"3\", \"4\", \"5\", \"6\", \"7\", \"8\", \"9\", \"10\", \"11\", \"12\", \"13\", \"14\", \"15\", \"16\", \"17\", \"18\", \"19\", \"20\", \"21\", \"22\", \"23\", \"26\", \"27\"], \"mode\": \"markers\", \"name\": \"weighted_accuracy\", \"stepped\": false, \"type\": \"scatter\", \"data\": [0.9298003113675322, 0.9175933868487196, 0.9186343940341899, 0.9251091953520479, 0.9058699891237272, 0.9437738796196706, 0.9332588211570224, 0.9269551824764839, 0.930498759436843, 0.9322677348508727, 0.9324600407197398, 0.9251028076192984, 0.9167651616074073, 0.9385383332763017, 0.932383578210368, 0.9254256108323844, 0.9175915652552875, 0.9326056964079147, 0.9071502553828987, 0.9116227596636813, 0.9309093820670628, 0.9018222850357555, 0.9375528373091992, 0.9383254719826318, 0.945058187441455, 0.945058187441455]}, {\"categories\": [\"0\", \"1\", \"2\", \"3\", \"4\", \"5\", \"6\", \"7\", \"8\", \"9\", \"10\", \"11\", \"12\", \"13\", \"14\", \"15\", \"16\", \"17\", \"18\", \"19\", \"20\", \"21\", \"22\", \"23\", \"26\", \"27\"], \"mode\": \"lines\", \"name\": \"weighted_accuracy_max\", \"stepped\": true, \"type\": \"scatter\", \"data\": [0.9298003113675322, 0.9298003113675322, 0.9298003113675322, 0.9298003113675322, 0.9298003113675322, 0.9437738796196706, 0.9437738796196706, 0.9437738796196706, 0.9437738796196706, 0.9437738796196706, 0.9437738796196706, 0.9437738796196706, 0.9437738796196706, 0.9437738796196706, 0.9437738796196706, 0.9437738796196706, 0.9437738796196706, 0.9437738796196706, 0.9437738796196706, 0.9437738796196706, 0.9437738796196706, 0.9437738796196706, 0.9437738796196706, 0.9437738796196706, 0.945058187441455, 0.945058187441455]}]}, \"metricName\": null, \"primaryMetricName\": \"accuracy\", \"showLegend\": false}, \"run_metrics\": [], \"run_logs\": \"\\nRun is completed.\", \"graph\": {}, \"widget_settings\": {\"childWidgetDisplay\": \"popup\", \"send_telemetry\": false, \"log_level\": \"INFO\", \"sdk_version\": \"1.26.0\"}, \"loading\": false}"
     },
     "metadata": {},
     "output_type": "display_data"
    }
   ],
   "source": [
    "RunDetails(remote_run).show()"
   ]
  },
  {
   "cell_type": "code",
   "execution_count": 21,
   "metadata": {},
   "outputs": [
    {
     "data": {
      "text/html": [
       "<table style=\"width:100%\"><tr><th>Experiment</th><th>Id</th><th>Type</th><th>Status</th><th>Details Page</th><th>Docs Page</th></tr><tr><td>predict-breast-cancer-automl</td><td>AutoML_438291e4-ac86-4bf1-aa6e-d9ba21e642b3</td><td>automl</td><td>Completed</td><td><a href=\"https://ml.azure.com/runs/AutoML_438291e4-ac86-4bf1-aa6e-d9ba21e642b3?wsid=/subscriptions/b968fb36-f06a-4c76-a15f-afab68ae7667/resourcegroups/aml-quickstarts-143020/workspaces/quick-starts-ws-143020&amp;tid=660b3398-b80e-49d2-bc5b-ac1dc93b5254\" target=\"_blank\" rel=\"noopener\">Link to Azure Machine Learning studio</a></td><td><a href=\"https://docs.microsoft.com/en-us/python/api/overview/azure/ml/intro?view=azure-ml-py\" target=\"_blank\" rel=\"noopener\">Link to Documentation</a></td></tr></table>"
      ],
      "text/plain": [
       "<IPython.core.display.HTML object>"
      ]
     },
     "metadata": {},
     "output_type": "display_data"
    },
    {
     "name": "stdout",
     "output_type": "stream",
     "text": [
      "\n",
      "\n",
      "****************************************************************************************************\n",
      "DATA GUARDRAILS: \n",
      "\n",
      "TYPE:         Cross validation\n",
      "STATUS:       DONE\n",
      "DESCRIPTION:  Each iteration of the trained model was validated through cross-validation.\n",
      "              \n",
      "DETAILS:      \n",
      "+---------------------------------+\n",
      "|Number of folds                  |\n",
      "+=================================+\n",
      "|10                               |\n",
      "+---------------------------------+\n",
      "\n",
      "****************************************************************************************************\n",
      "\n",
      "TYPE:         Class balancing detection\n",
      "STATUS:       PASSED\n",
      "DESCRIPTION:  Your inputs were analyzed, and all classes are balanced in your training data.\n",
      "              Learn more about imbalanced data: https://aka.ms/AutomatedMLImbalancedData\n",
      "\n",
      "****************************************************************************************************\n",
      "\n",
      "TYPE:         Missing feature values imputation\n",
      "STATUS:       PASSED\n",
      "DESCRIPTION:  No feature missing values were detected in the training data.\n",
      "              Learn more about missing value imputation: https://aka.ms/AutomatedMLFeaturization\n",
      "\n",
      "****************************************************************************************************\n",
      "\n",
      "TYPE:         High cardinality feature detection\n",
      "STATUS:       PASSED\n",
      "DESCRIPTION:  Your inputs were analyzed, and no high cardinality features were detected.\n",
      "              Learn more about high cardinality feature handling: https://aka.ms/AutomatedMLFeaturization\n",
      "\n",
      "****************************************************************************************************\n",
      "\n",
      "****************************************************************************************************\n",
      "ITERATION: The iteration being evaluated.\n",
      "PIPELINE: A summary description of the pipeline being evaluated.\n",
      "DURATION: Time taken for the current iteration.\n",
      "METRIC: The result of computing score on the fitted pipeline.\n",
      "BEST: The best observed score thus far.\n",
      "****************************************************************************************************\n",
      "\n",
      " ITERATION   PIPELINE                                       DURATION      METRIC      BEST\n",
      "         0   MaxAbsScaler LightGBM                          0:05:47       0.9244    0.9244\n",
      "         1   MinMaxScaler RandomForest                      0:05:45       0.9068    0.9244\n",
      "         2   MinMaxScaler RandomForest                      0:05:40       0.9049    0.9244\n",
      "         3   MinMaxScaler RandomForest                      0:05:52       0.9208    0.9244\n",
      "         4   MinMaxScaler RandomForest                      0:05:53       0.8909    0.9244\n",
      "         5   MaxAbsScaler LightGBM                          0:05:43       0.9367    0.9367\n",
      "         6   MinMaxScaler SVM                               0:06:35       0.9208    0.9367\n",
      "         7   MinMaxScaler SVM                               0:05:50       0.9138    0.9367\n",
      "         8   StandardScalerWrapper SGD                      0:05:45       0.9173    0.9367\n",
      "         9   StandardScalerWrapper SGD                      0:05:39       0.9208    0.9367\n",
      "        10   MinMaxScaler LogisticRegression                0:05:45       0.9190    0.9367\n",
      "        11   MaxAbsScaler RandomForest                      0:05:50       0.9138    0.9367\n",
      "        12   StandardScalerWrapper GradientBoosting         0:05:40       0.8997    0.9367\n",
      "        13   StandardScalerWrapper LightGBM                 0:05:44       0.9279    0.9367\n",
      "        14   MaxAbsScaler LightGBM                          0:06:23       0.9226    0.9367\n",
      "        15   MaxAbsScaler LightGBM                          0:05:51       0.9120    0.9367\n",
      "        16   RobustScaler LightGBM                          0:05:42       0.8980    0.9367\n",
      "        17   MinMaxScaler LightGBM                          0:05:45       0.9261    0.9367\n",
      "        18   RobustScaler KNN                               0:05:42       0.8962    0.9367\n",
      "        19   MaxAbsScaler ExtremeRandomTrees                0:06:30       0.8822    0.9367\n",
      "        20   MinMaxScaler LightGBM                          0:05:42       0.9226    0.9367\n",
      "        21   StandardScalerWrapper ExtremeRandomTrees       0:05:49       0.8646    0.9367\n",
      "        22   MinMaxScaler LightGBM                          0:05:40       0.9314    0.9367\n",
      "        23   MaxAbsScaler LightGBM                          0:05:40       0.9332    0.9367\n",
      "ERROR: {\n",
      "    \"additional_properties\": {},\n",
      "    \"error\": {\n",
      "        \"additional_properties\": {\n",
      "            \"debugInfo\": null\n",
      "        },\n",
      "        \"code\": \"UserError\",\n",
      "        \"severity\": null,\n",
      "        \"message\": \"Experiment timeout reached, please consider increasing your experiment timeout.\",\n",
      "        \"message_format\": \"Experiment timeout reached, please consider increasing your experiment timeout.\",\n",
      "        \"message_parameters\": {},\n",
      "        \"reference_code\": null,\n",
      "        \"details_uri\": null,\n",
      "        \"target\": null,\n",
      "        \"details\": [],\n",
      "        \"inner_error\": {\n",
      "            \"additional_properties\": {},\n",
      "            \"code\": \"ResourceExhausted\",\n",
      "            \"inner_error\": {\n",
      "                \"additional_properties\": {},\n",
      "                \"code\": \"Timeout\",\n",
      "                \"inner_error\": {\n",
      "                    \"additional_properties\": {},\n",
      "                    \"code\": \"ExperimentTimeoutForIterations\",\n",
      "                    \"inner_error\": null\n",
      "                }\n",
      "            }\n",
      "        }\n",
      "    },\n",
      "    \"correlation\": null,\n",
      "    \"environment\": null,\n",
      "    \"location\": null,\n",
      "    \"time\": {},\n",
      "    \"component_name\": null\n",
      "}\n",
      "        24                                                  0:03:34          nan    0.9367\n",
      "ERROR: {\n",
      "    \"additional_properties\": {},\n",
      "    \"error\": {\n",
      "        \"additional_properties\": {\n",
      "            \"debugInfo\": null\n",
      "        },\n",
      "        \"code\": \"UserError\",\n",
      "        \"severity\": null,\n",
      "        \"message\": \"Experiment timeout reached, please consider increasing your experiment timeout.\",\n",
      "        \"message_format\": \"Experiment timeout reached, please consider increasing your experiment timeout.\",\n",
      "        \"message_parameters\": {},\n",
      "        \"reference_code\": null,\n",
      "        \"details_uri\": null,\n",
      "        \"target\": null,\n",
      "        \"details\": [],\n",
      "        \"inner_error\": {\n",
      "            \"additional_properties\": {},\n",
      "            \"code\": \"ResourceExhausted\",\n",
      "            \"inner_error\": {\n",
      "                \"additional_properties\": {},\n",
      "                \"code\": \"Timeout\",\n",
      "                \"inner_error\": {\n",
      "                    \"additional_properties\": {},\n",
      "                    \"code\": \"ExperimentTimeoutForIterations\",\n",
      "                    \"inner_error\": null\n",
      "                }\n",
      "            }\n",
      "        }\n",
      "    },\n",
      "    \"correlation\": null,\n",
      "    \"environment\": null,\n",
      "    \"location\": null,\n",
      "    \"time\": {},\n",
      "    \"component_name\": null\n",
      "}\n",
      "        25                                                  0:00:20          nan    0.9367\n",
      "ERROR: {\n",
      "    \"additional_properties\": {},\n",
      "    \"error\": {\n",
      "        \"additional_properties\": {\n",
      "            \"debugInfo\": null\n",
      "        },\n",
      "        \"code\": \"UserError\",\n",
      "        \"severity\": null,\n",
      "        \"message\": \"Experiment timeout reached, please consider increasing your experiment timeout.\",\n",
      "        \"message_format\": \"Experiment timeout reached, please consider increasing your experiment timeout.\",\n",
      "        \"message_parameters\": {},\n",
      "        \"reference_code\": null,\n",
      "        \"details_uri\": null,\n",
      "        \"target\": null,\n",
      "        \"details\": [],\n",
      "        \"inner_error\": {\n",
      "            \"additional_properties\": {},\n",
      "            \"code\": \"ResourceExhausted\",\n",
      "            \"inner_error\": {\n",
      "                \"additional_properties\": {},\n",
      "                \"code\": \"Timeout\",\n",
      "                \"inner_error\": {\n",
      "                    \"additional_properties\": {},\n",
      "                    \"code\": \"ExperimentTimeoutForIterations\",\n",
      "                    \"inner_error\": null\n",
      "                }\n",
      "            }\n",
      "        }\n",
      "    },\n",
      "    \"correlation\": null,\n",
      "    \"environment\": null,\n",
      "    \"location\": null,\n",
      "    \"time\": {},\n",
      "    \"component_name\": null\n",
      "}\n",
      "        26    VotingEnsemble                                0:07:27       0.9402    0.9402\n",
      "        27    StackEnsemble                                 0:07:28       0.9402    0.9402\n"
     ]
    },
    {
     "data": {
      "text/plain": [
       "{'runId': 'AutoML_438291e4-ac86-4bf1-aa6e-d9ba21e642b3',\n",
       " 'target': 'notebook143020',\n",
       " 'status': 'Completed',\n",
       " 'startTimeUtc': '2021-04-18T09:05:34.821992Z',\n",
       " 'endTimeUtc': '2021-04-18T09:57:14.638131Z',\n",
       " 'properties': {'num_iterations': '1000',\n",
       "  'training_type': 'TrainFull',\n",
       "  'acquisition_function': 'EI',\n",
       "  'primary_metric': 'accuracy',\n",
       "  'train_split': '0',\n",
       "  'acquisition_parameter': '0',\n",
       "  'num_cross_validation': None,\n",
       "  'target': 'notebook143020',\n",
       "  'AMLSettingsJsonString': '{\"path\":null,\"name\":\"predict-breast-cancer-automl\",\"subscription_id\":\"b968fb36-f06a-4c76-a15f-afab68ae7667\",\"resource_group\":\"aml-quickstarts-143020\",\"workspace_name\":\"quick-starts-ws-143020\",\"region\":\"southcentralus\",\"compute_target\":\"notebook143020\",\"spark_service\":null,\"azure_service\":\"remote\",\"many_models\":false,\"pipeline_fetch_max_batch_size\":1,\"enable_batch_run\":false,\"enable_run_restructure\":false,\"iterations\":1000,\"primary_metric\":\"accuracy\",\"task_type\":\"classification\",\"data_script\":null,\"test_size\":0.0,\"validation_size\":0.0,\"n_cross_validations\":null,\"y_min\":null,\"y_max\":null,\"num_classes\":null,\"featurization\":\"auto\",\"_ignore_package_version_incompatibilities\":false,\"is_timeseries\":false,\"max_cores_per_iteration\":1,\"max_concurrent_iterations\":5,\"iteration_timeout_minutes\":null,\"mem_in_mb\":null,\"enforce_time_on_windows\":false,\"experiment_timeout_minutes\":30,\"experiment_exit_score\":null,\"whitelist_models\":null,\"blacklist_algos\":[\"XGBoostClassifier\",\"TensorFlowLinearClassifier\",\"TensorFlowDNN\"],\"supported_models\":[\"TensorFlowLinearClassifier\",\"ExtremeRandomTrees\",\"DecisionTree\",\"BernoulliNaiveBayes\",\"MultinomialNaiveBayes\",\"SGD\",\"KNN\",\"GradientBoosting\",\"LogisticRegression\",\"TensorFlowDNN\",\"RandomForest\",\"LightGBM\",\"SVM\",\"XGBoostClassifier\",\"LinearSVM\",\"AveragedPerceptronClassifier\"],\"private_models\":[],\"auto_blacklist\":true,\"blacklist_samples_reached\":false,\"exclude_nan_labels\":true,\"verbosity\":20,\"_debug_log\":\"azureml_automl.log\",\"show_warnings\":false,\"model_explainability\":true,\"service_url\":null,\"sdk_url\":null,\"sdk_packages\":null,\"enable_onnx_compatible_models\":false,\"enable_split_onnx_featurizer_estimator_models\":false,\"vm_type\":\"STANDARD_DS3_V2\",\"telemetry_verbosity\":20,\"send_telemetry\":true,\"enable_dnn\":false,\"scenario\":\"SDK-1.13.0\",\"environment_label\":null,\"save_mlflow\":false,\"force_text_dnn\":false,\"enable_feature_sweeping\":true,\"enable_early_stopping\":true,\"early_stopping_n_iters\":10,\"metrics\":null,\"enable_metric_confidence\":false,\"enable_ensembling\":true,\"enable_stack_ensembling\":true,\"ensemble_iterations\":15,\"enable_tf\":false,\"enable_subsampling\":null,\"subsample_seed\":null,\"enable_nimbusml\":false,\"enable_streaming\":false,\"force_streaming\":false,\"track_child_runs\":true,\"allowed_private_models\":[],\"label_column_name\":\"diagnosis\",\"weight_column_name\":null,\"cv_split_column_names\":null,\"enable_local_managed\":false,\"_local_managed_run_id\":null,\"cost_mode\":1,\"lag_length\":0,\"metric_operation\":\"maximize\",\"preprocess\":true}',\n",
       "  'DataPrepJsonString': '{\\\\\"training_data\\\\\": {\\\\\"datasetId\\\\\": \\\\\"12992ec8-ba30-48ba-8715-e4e73019434c\\\\\"}, \\\\\"datasets\\\\\": 0}',\n",
       "  'EnableSubsampling': None,\n",
       "  'runTemplate': 'AutoML',\n",
       "  'azureml.runsource': 'automl',\n",
       "  'display_task_type': 'classification',\n",
       "  'dependencies_versions': '{\"azureml-widgets\": \"1.26.0\", \"azureml-train\": \"1.26.0\", \"azureml-train-restclients-hyperdrive\": \"1.26.0\", \"azureml-train-core\": \"1.26.0\", \"azureml-train-automl\": \"1.26.0\", \"azureml-train-automl-runtime\": \"1.26.0\", \"azureml-train-automl-client\": \"1.26.0\", \"azureml-tensorboard\": \"1.26.0\", \"azureml-telemetry\": \"1.26.0\", \"azureml-sdk\": \"1.26.0\", \"azureml-samples\": \"0+unknown\", \"azureml-pipeline\": \"1.26.0\", \"azureml-pipeline-steps\": \"1.26.0\", \"azureml-pipeline-core\": \"1.26.0\", \"azureml-opendatasets\": \"1.26.0\", \"azureml-model-management-sdk\": \"1.0.1b6.post1\", \"azureml-mlflow\": \"1.26.0\", \"azureml-interpret\": \"1.26.0\", \"azureml-explain-model\": \"1.26.0\", \"azureml-defaults\": \"1.26.0\", \"azureml-dataset-runtime\": \"1.26.0\", \"azureml-dataprep\": \"2.13.2\", \"azureml-dataprep-rslex\": \"1.11.2\", \"azureml-dataprep-native\": \"32.0.0\", \"azureml-datadrift\": \"1.26.0\", \"azureml-core\": \"1.26.0\", \"azureml-contrib-services\": \"1.26.0\", \"azureml-contrib-server\": \"1.26.0\", \"azureml-contrib-reinforcementlearning\": \"1.26.0\", \"azureml-contrib-pipeline-steps\": \"1.26.0\", \"azureml-contrib-notebook\": \"1.26.0\", \"azureml-contrib-gbdt\": \"1.26.0\", \"azureml-contrib-fairness\": \"1.26.0\", \"azureml-contrib-dataset\": \"1.26.0\", \"azureml-cli-common\": \"1.26.0\", \"azureml-automl-runtime\": \"1.26.0\", \"azureml-automl-dnn-nlp\": \"1.26.0\", \"azureml-automl-core\": \"1.26.0\", \"azureml-accel-models\": \"1.26.0\"}',\n",
       "  '_aml_system_scenario_identification': 'Remote.Parent',\n",
       "  'ClientType': 'SDK',\n",
       "  'environment_cpu_name': 'AzureML-AutoML',\n",
       "  'environment_cpu_label': 'prod',\n",
       "  'environment_gpu_name': 'AzureML-AutoML-GPU',\n",
       "  'environment_gpu_label': 'prod',\n",
       "  'root_attribution': 'automl',\n",
       "  'attribution': 'AutoML',\n",
       "  'Orchestrator': 'AutoML',\n",
       "  'CancelUri': 'https://southcentralus.experiments.azureml.net/jasmine/v1.0/subscriptions/b968fb36-f06a-4c76-a15f-afab68ae7667/resourceGroups/aml-quickstarts-143020/providers/Microsoft.MachineLearningServices/workspaces/quick-starts-ws-143020/experimentids/53a2041e-d0de-4577-bb0d-291e6e923210/cancel/AutoML_438291e4-ac86-4bf1-aa6e-d9ba21e642b3',\n",
       "  'ClientSdkVersion': '1.25.0',\n",
       "  'snapshotId': '00000000-0000-0000-0000-000000000000',\n",
       "  'SetupRunId': 'AutoML_438291e4-ac86-4bf1-aa6e-d9ba21e642b3_setup',\n",
       "  'SetupRunContainerId': 'dcid.AutoML_438291e4-ac86-4bf1-aa6e-d9ba21e642b3_setup',\n",
       "  'FeaturizationRunJsonPath': 'featurizer_container.json',\n",
       "  'FeaturizationRunId': 'AutoML_438291e4-ac86-4bf1-aa6e-d9ba21e642b3_featurize',\n",
       "  'ProblemInfoJsonString': '{\"dataset_num_categorical\": 0, \"is_sparse\": false, \"subsampling\": false, \"dataset_classes\": 2, \"dataset_features\": 5, \"dataset_samples\": 569, \"single_frequency_class_detected\": false}',\n",
       "  'ModelExplainRunId': 'AutoML_438291e4-ac86-4bf1-aa6e-d9ba21e642b3_ModelExplain'},\n",
       " 'inputDatasets': [{'dataset': {'id': '12992ec8-ba30-48ba-8715-e4e73019434c'}, 'consumptionDetails': {'type': 'RunInput', 'inputName': 'training_data', 'mechanism': 'Direct'}}],\n",
       " 'outputDatasets': [],\n",
       " 'logFiles': {},\n",
       " 'submittedBy': 'ODL_User 143020'}"
      ]
     },
     "execution_count": 21,
     "metadata": {},
     "output_type": "execute_result"
    }
   ],
   "source": [
    "remote_run.wait_for_completion(show_output=True)"
   ]
  },
  {
   "cell_type": "markdown",
   "metadata": {},
   "source": [
    "## Best Model\n",
    "\n",
    "TODO: In the cell below, get the best model from the automl experiments and display all the properties of the model.\n",
    "\n"
   ]
  },
  {
   "cell_type": "code",
   "execution_count": 22,
   "metadata": {},
   "outputs": [
    {
     "name": "stdout",
     "output_type": "stream",
     "text": [
      "Run(Experiment: predict-breast-cancer-automl,\n",
      "Id: AutoML_438291e4-ac86-4bf1-aa6e-d9ba21e642b3_26,\n",
      "Type: azureml.scriptrun,\n",
      "Status: Completed)\n"
     ]
    }
   ],
   "source": [
    "best_automl_run, best_automl_model = remote_run.get_output()\n",
    "print(best_automl_run)"
   ]
  },
  {
   "cell_type": "code",
   "execution_count": 23,
   "metadata": {},
   "outputs": [
    {
     "name": "stdout",
     "output_type": "stream",
     "text": [
      "0.9401629072681704\n"
     ]
    }
   ],
   "source": [
    "print(best_automl_run.properties['score'])"
   ]
  },
  {
   "cell_type": "code",
   "execution_count": 24,
   "metadata": {
    "gather": {
     "logged": 1598431425670
    },
    "jupyter": {
     "outputs_hidden": false,
     "source_hidden": false
    },
    "nteract": {
     "transient": {
      "deleting": false
     }
    }
   },
   "outputs": [
    {
     "data": {
      "text/plain": [
       "PreFittedSoftVotingClassifier(classification_labels=None,\n",
       "                              estimators=[('5',\n",
       "                                           Pipeline(memory=None,\n",
       "                                                    steps=[('maxabsscaler',\n",
       "                                                            MaxAbsScaler(copy=True)),\n",
       "                                                           ('lightgbmclassifier',\n",
       "                                                            LightGBMClassifier(boosting_type='gbdt',\n",
       "                                                                               class_weight=None,\n",
       "                                                                               colsample_bytree=0.7922222222222222,\n",
       "                                                                               importance_type='split',\n",
       "                                                                               learning_rate=0.0842121052631579,\n",
       "                                                                               max_bin=100,\n",
       "                                                                               max_depth=8,\n",
       "                                                                               min_child_...\n",
       "                                                                               num_leaves=197,\n",
       "                                                                               objective=None,\n",
       "                                                                               random_state=None,\n",
       "                                                                               reg_alpha=0.894736842105263,\n",
       "                                                                               reg_lambda=0.21052631578947367,\n",
       "                                                                               silent=True,\n",
       "                                                                               subsample=0.9405263157894738,\n",
       "                                                                               subsample_for_bin=200000,\n",
       "                                                                               subsample_freq=0,\n",
       "                                                                               verbose=-10))],\n",
       "                                                    verbose=False))],\n",
       "                              flatten_transform=None,\n",
       "                              weights=[0.14285714285714285, 0.14285714285714285,\n",
       "                                       0.2857142857142857, 0.14285714285714285,\n",
       "                                       0.2857142857142857])"
      ]
     },
     "execution_count": 24,
     "metadata": {},
     "output_type": "execute_result"
    }
   ],
   "source": [
    "best_automl_model._final_estimator"
   ]
  },
  {
   "cell_type": "code",
   "execution_count": 25,
   "metadata": {
    "gather": {
     "logged": 1598431426111
    },
    "jupyter": {
     "outputs_hidden": false,
     "source_hidden": false
    },
    "nteract": {
     "transient": {
      "deleting": false
     }
    }
   },
   "outputs": [
    {
     "data": {
      "text/plain": [
       "['results/automl_breast_cancer_model.joblib']"
      ]
     },
     "execution_count": 25,
     "metadata": {},
     "output_type": "execute_result"
    }
   ],
   "source": [
    "#TODO: Save the best model\n",
    "joblib.dump(best_automl_model, filename=\"results/automl_breast_cancer_model.joblib\")"
   ]
  },
  {
   "cell_type": "code",
   "execution_count": 15,
   "metadata": {},
   "outputs": [
    {
     "name": "stdout",
     "output_type": "stream",
     "text": [
      "AutoML438291e4a26\tAutoML438291e4a26:1\t1\n"
     ]
    }
   ],
   "source": [
    "#Register best model\n",
    "automl_model = remote_run.register_model(model_name=best_automl_run.properties['model_name'], \n",
    "                                           description='AutoML model')\n",
    "\n",
    "print(automl_model.name, automl_model.id, automl_model.version, sep='\\t')"
   ]
  },
  {
   "cell_type": "code",
   "execution_count": 18,
   "metadata": {},
   "outputs": [
    {
     "name": "stdout",
     "output_type": "stream",
     "text": [
      "automodel\tautomodel:1\t1\n"
     ]
    }
   ],
   "source": [
    "#Another way to register model\n",
    "description = 'automl_breast_cancer'\n",
    "tags = {'area': 'health', 'type': 'classification'}\n",
    "automl_model = best_automl_run.register_model(model_name='automodel',\n",
    "                                             model_path='outputs/model.pkl',\n",
    "                                             tags=tags,\n",
    "                                             description=description)\n",
    "\n",
    "print(automl_model.name, automl_model.id, automl_model.version, sep='\\t')"
   ]
  },
  {
   "cell_type": "markdown",
   "metadata": {},
   "source": [
    "## Model Deployment\n",
    "\n",
    "Remember you have to deploy only one of the two models you trained.. Perform the steps in the rest of this notebook only if you wish to deploy this model.\n",
    "\n",
    "TODO: In the cell below, register the model, create an inference config and deploy the model as a web service."
   ]
  },
  {
   "cell_type": "code",
   "execution_count": null,
   "metadata": {
    "gather": {
     "logged": 1598431435189
    },
    "jupyter": {
     "outputs_hidden": false,
     "source_hidden": false
    },
    "nteract": {
     "transient": {
      "deleting": false
     }
    }
   },
   "outputs": [],
   "source": []
  },
  {
   "cell_type": "markdown",
   "metadata": {
    "collapsed": true,
    "gather": {
     "logged": 1598431657736
    },
    "jupyter": {
     "outputs_hidden": false,
     "source_hidden": false
    },
    "nteract": {
     "transient": {
      "deleting": false
     }
    }
   },
   "source": [
    "TODO: In the cell below, send a request to the web service you deployed to test it."
   ]
  },
  {
   "cell_type": "code",
   "execution_count": null,
   "metadata": {
    "gather": {
     "logged": 1598432707604
    },
    "jupyter": {
     "outputs_hidden": false,
     "source_hidden": false
    },
    "nteract": {
     "transient": {
      "deleting": false
     }
    }
   },
   "outputs": [],
   "source": []
  },
  {
   "cell_type": "markdown",
   "metadata": {
    "collapsed": true,
    "gather": {
     "logged": 1598432765711
    },
    "jupyter": {
     "outputs_hidden": false,
     "source_hidden": false
    },
    "nteract": {
     "transient": {
      "deleting": false
     }
    }
   },
   "source": [
    "TODO: In the cell below, print the logs of the web service and delete the service"
   ]
  },
  {
   "cell_type": "code",
   "execution_count": null,
   "metadata": {
    "jupyter": {
     "outputs_hidden": false,
     "source_hidden": false
    },
    "nteract": {
     "transient": {
      "deleting": false
     }
    }
   },
   "outputs": [],
   "source": []
  }
 ],
 "metadata": {
  "kernel_info": {
   "name": "python3"
  },
  "kernelspec": {
   "display_name": "Python 3",
   "language": "python",
   "name": "python3"
  },
  "language_info": {
   "codemirror_mode": {
    "name": "ipython",
    "version": 3
   },
   "file_extension": ".py",
   "mimetype": "text/x-python",
   "name": "python",
   "nbconvert_exporter": "python",
   "pygments_lexer": "ipython3",
   "version": "3.7.3"
  },
  "nteract": {
   "version": "nteract-front-end@1.0.0"
  }
 },
 "nbformat": 4,
 "nbformat_minor": 2
}
